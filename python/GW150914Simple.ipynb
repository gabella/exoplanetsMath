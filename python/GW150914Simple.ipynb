{
 "cells": [
  {
   "cell_type": "markdown",
   "metadata": {},
   "source": [
    "# The Equation 5 simple calculation of the order of magnitude of GW150914 using mass units (G=c=1)."
   ]
  },
  {
   "cell_type": "code",
   "execution_count": 1,
   "metadata": {
    "collapsed": true
   },
   "outputs": [],
   "source": [
    "import numpy as np"
   ]
  },
  {
   "cell_type": "markdown",
   "metadata": {},
   "source": [
    "![title](LIGOHanfordGW150914.png)"
   ]
  },
  {
   "cell_type": "markdown",
   "metadata": {},
   "source": [
    "## Cycle 5 is at 0.35 seconds which is 2.5 orbits before \"coalescence.\"  And the centroid of the yellow band is close to 48 Hz for f_GW givin the orbital f_orb about 24 Hz."
   ]
  },
  {
   "cell_type": "markdown",
   "metadata": {},
   "source": [
    "And the Kepler relation for the average angular frequency of the orbit (elliptical or circular) is \n",
    "$$ \\omega_0^2 = \\frac{G (m_1 + m_2 )}{a^3} $$"
   ]
  },
  {
   "cell_type": "code",
   "execution_count": 2,
   "metadata": {},
   "outputs": [
    {
     "name": "stdout",
     "output_type": "stream",
     "text": [
      "150.79644737231007\n"
     ]
    }
   ],
   "source": [
    "fGW = 48.0;\n",
    "f0 = fGW/2.0; # Orbital frequency\n",
    "omega0 = 2*np.pi*f0\n",
    "print(omega0)"
   ]
  },
  {
   "cell_type": "code",
   "execution_count": 3,
   "metadata": {},
   "outputs": [
    {
     "name": "stdout",
     "output_type": "stream",
     "text": [
      "Distance to binary in Msol units is  8.562302481542387e+21\n"
     ]
    }
   ],
   "source": [
    "Lsol = 1477.71; # meters, G=c=1 units for 1 solar mass, half the Schwarzschild radius\n",
    "cee = 299792458.0; # m/s, speed-of-light in SI\n",
    "m1 = 36.0; # msol\n",
    "m2 = 29.0; # msol\n",
    "dist = 410.; # Mpc  1pc = 3.086e16 m = 3.262 ly\n",
    "distMsol = dist*1e6*3.086e16/Lsol\n",
    "print('Distance to binary in Msol units is ', distMsol)"
   ]
  },
  {
   "cell_type": "markdown",
   "metadata": {},
   "source": [
    "# Find a from Kepler relation above.  Units of Msol."
   ]
  },
  {
   "cell_type": "markdown",
   "metadata": {},
   "source": [
    "Use the relation for $a$ in above, and liberal use of $L_\\odot = G M_\\odot/c^2 ={\\rm 1477.71 m}$ than\n",
    "$$a^3 = L_\\odot^3 \\, \\frac{(m_1+m_2)}{M_\\odot} \\, \\frac{1}{L_\\odot^2\\, \\frac{\\omega_0^2}{c^2} }$$"
   ]
  },
  {
   "cell_type": "code",
   "execution_count": 4,
   "metadata": {},
   "outputs": [
    {
     "name": "stdout",
     "output_type": "stream",
     "text": [
      "Mass separation in meters 724081.1665248007\n"
     ]
    }
   ],
   "source": [
    "# first dimensionless coefficient Mtot/Msol\n",
    "first = (m1+m2);\n",
    "# second is 1/ Lsol * omega^2/c^2\n",
    "second = 1/(Lsol*omega0/cee)**2;\n",
    "ameters = Lsol*(first*second)**(1/3)\n",
    "print('Mass separation in meters', ameters)"
   ]
  },
  {
   "cell_type": "code",
   "execution_count": 5,
   "metadata": {},
   "outputs": [
    {
     "name": "stdout",
     "output_type": "stream",
     "text": [
      "Mass separation in Msols 490.0022105317015\n"
     ]
    }
   ],
   "source": [
    "# In units of G=c=1, for a one solar mass \"distance\" that is 1 Lsol in meters or 1477m is 1 solar mass distance:)\n",
    "aMsol = (first*second)**(1/3)\n",
    "print('Mass separation in Msols', aMsol)"
   ]
  },
  {
   "cell_type": "markdown",
   "metadata": {},
   "source": [
    "Using the order of magnitude forumla from our paper (and others) that \n",
    "$$ h_0 = \\frac{r_{s1}\\cdot r_{s2}}{a\\cdot r}$$\n",
    "where $r_{si}$ are the Schwarzschild radii, $a$ is the mass separation, and $r$ is the distance from the observer to the binary."
   ]
  },
  {
   "cell_type": "code",
   "execution_count": 6,
   "metadata": {},
   "outputs": [
    {
     "name": "stdout",
     "output_type": "stream",
     "text": [
      "Estimate from GW freq of 48.0 that the h0 is 9.953e-22 at earth.\n"
     ]
    }
   ],
   "source": [
    "hzero = (2*m1)*(2*m2)/( aMsol*distMsol)\n",
    "print('Estimate from GW freq of %4.1f that the h0 is %7.4g at earth.'%(fGW, hzero))"
   ]
  },
  {
   "cell_type": "code",
   "execution_count": null,
   "metadata": {
    "collapsed": true
   },
   "outputs": [],
   "source": []
  }
 ],
 "metadata": {
  "kernelspec": {
   "display_name": "Python 3",
   "language": "python",
   "name": "python3"
  },
  "language_info": {
   "codemirror_mode": {
    "name": "ipython",
    "version": 3
   },
   "file_extension": ".py",
   "mimetype": "text/x-python",
   "name": "python",
   "nbconvert_exporter": "python",
   "pygments_lexer": "ipython3",
   "version": "3.6.2"
  }
 },
 "nbformat": 4,
 "nbformat_minor": 2
}

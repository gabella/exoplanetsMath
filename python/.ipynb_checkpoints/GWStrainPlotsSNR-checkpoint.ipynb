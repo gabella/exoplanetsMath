{
 "cells": [
  {
   "cell_type": "markdown",
   "metadata": {},
   "source": [
    "# Calculate the GW modes for each exoplanet that has the needed parameters in the dbase."
   ]
  },
  {
   "cell_type": "code",
   "execution_count": 1,
   "metadata": {},
   "outputs": [],
   "source": [
    "# Started WEG  20180320.  A Pythonic version of Mathematica"
   ]
  },
  {
   "cell_type": "markdown",
   "metadata": {},
   "source": [
    "# References\n",
    "P. Amaro-Seoane et al. \"Triplets of supermassive black holes: astrophysics, gravitational waves and detection,\" MNRAS 402 2308-2320 (2010).\n",
    "\n",
    "P. C. Peters and J. Mathews, \"Gravitational Radiation from Point Masses in a Keplerian Orbit,\" Phys. Rev. 131 (1963) 435-440.\n",
    "\n",
    "Michele Maggiore, \"Gravitational Waves. Volume 1: Theory and Experiments,\" Oxford Univ. Press, 2008."
   ]
  },
  {
   "cell_type": "code",
   "execution_count": 2,
   "metadata": {},
   "outputs": [],
   "source": [
    "import sys, os\n",
    "import numpy as np\n",
    "import pandas as pd\n",
    "import gwTools as gwt\n",
    "import matplotlib.pyplot as plt\n",
    "%matplotlib inline\n",
    "import scipy as sp\n",
    "import scipy.interpolate as spint"
   ]
  },
  {
   "cell_type": "markdown",
   "metadata": {},
   "source": [
    "## Directories, toward using dbase"
   ]
  },
  {
   "cell_type": "code",
   "execution_count": 3,
   "metadata": {},
   "outputs": [],
   "source": [
    "thisDir = os.getcwd()  # This is the /python subdirectory.\n",
    "cvsDir = thisDir + '/../dbases/'  # Will the /../ work on non-Unices?\n",
    "pixDir = thisDir + '/../pix/'"
   ]
  },
  {
   "cell_type": "markdown",
   "metadata": {},
   "source": [
    "## Read the CVS and Filter the data, see ExopDBase.ipynb and re-run it for updating the dbase."
   ]
  },
  {
   "cell_type": "code",
   "execution_count": 4,
   "metadata": {},
   "outputs": [
    {
     "name": "stdout",
     "output_type": "stream",
     "text": [
      "Using database file /home/gabella/Documents/astro/exop/exoplanetsMath/python/../dbases/exopP_20180325_114502.csv\n",
      "pl_hostname,pl_letter,pl_discmethod,pl_orbper,pl_orbsmax,pl_orbeccen,pl_bmassj,st_dist,st_mass,rowupdate,st_plx\n",
      " \n",
      " HD 142022 A,b,Radial Velocity,1928.00000000,3.030000,0.530000,5.10000,35.87,0.99,2014-05-14,27.88\n",
      "\n"
     ]
    }
   ],
   "source": [
    "cvsFileName = cvsDir + 'exopP_20180325_114502.csv'\n",
    "print('Using database file ' + cvsFileName)\n",
    "ifile = open(cvsFileName, 'r')\n",
    "print(ifile.readline(), '\\n', ifile.readline() )  #Print a couple of lines and reset the pointer.\n",
    "\n",
    "ifile.seek(0);"
   ]
  },
  {
   "cell_type": "code",
   "execution_count": 5,
   "metadata": {},
   "outputs": [],
   "source": [
    "dbData = pd.read_csv(ifile)  # Read in the whole file to a Panda Dataframe, handles NaN's nicely, see below.\n",
    "ifile.close()"
   ]
  },
  {
   "cell_type": "code",
   "execution_count": 6,
   "metadata": {},
   "outputs": [
    {
     "data": {
      "text/html": [
       "<div>\n",
       "<style scoped>\n",
       "    .dataframe tbody tr th:only-of-type {\n",
       "        vertical-align: middle;\n",
       "    }\n",
       "\n",
       "    .dataframe tbody tr th {\n",
       "        vertical-align: top;\n",
       "    }\n",
       "\n",
       "    .dataframe thead th {\n",
       "        text-align: right;\n",
       "    }\n",
       "</style>\n",
       "<table border=\"1\" class=\"dataframe\">\n",
       "  <thead>\n",
       "    <tr style=\"text-align: right;\">\n",
       "      <th></th>\n",
       "      <th>pl_hostname</th>\n",
       "      <th>pl_letter</th>\n",
       "      <th>pl_discmethod</th>\n",
       "      <th>pl_orbper</th>\n",
       "      <th>pl_orbsmax</th>\n",
       "      <th>pl_orbeccen</th>\n",
       "      <th>pl_bmassj</th>\n",
       "      <th>st_dist</th>\n",
       "      <th>st_mass</th>\n",
       "      <th>rowupdate</th>\n",
       "      <th>st_plx</th>\n",
       "    </tr>\n",
       "  </thead>\n",
       "  <tbody>\n",
       "    <tr>\n",
       "      <th>0</th>\n",
       "      <td>HD 142022 A</td>\n",
       "      <td>b</td>\n",
       "      <td>Radial Velocity</td>\n",
       "      <td>1928.000000</td>\n",
       "      <td>3.0300</td>\n",
       "      <td>0.5300</td>\n",
       "      <td>5.100</td>\n",
       "      <td>35.87</td>\n",
       "      <td>0.99</td>\n",
       "      <td>2014-05-14</td>\n",
       "      <td>27.88</td>\n",
       "    </tr>\n",
       "    <tr>\n",
       "      <th>1</th>\n",
       "      <td>HD 39091</td>\n",
       "      <td>b</td>\n",
       "      <td>Radial Velocity</td>\n",
       "      <td>2151.000000</td>\n",
       "      <td>3.3800</td>\n",
       "      <td>0.6405</td>\n",
       "      <td>10.270</td>\n",
       "      <td>18.21</td>\n",
       "      <td>1.10</td>\n",
       "      <td>2014-07-23</td>\n",
       "      <td>54.92</td>\n",
       "    </tr>\n",
       "    <tr>\n",
       "      <th>2</th>\n",
       "      <td>HD 137388 A</td>\n",
       "      <td>b</td>\n",
       "      <td>Radial Velocity</td>\n",
       "      <td>330.000000</td>\n",
       "      <td>0.8900</td>\n",
       "      <td>0.3600</td>\n",
       "      <td>0.223</td>\n",
       "      <td>38.45</td>\n",
       "      <td>0.86</td>\n",
       "      <td>2014-05-14</td>\n",
       "      <td>26.01</td>\n",
       "    </tr>\n",
       "    <tr>\n",
       "      <th>3</th>\n",
       "      <td>GJ 3021</td>\n",
       "      <td>b</td>\n",
       "      <td>Radial Velocity</td>\n",
       "      <td>133.710000</td>\n",
       "      <td>0.4900</td>\n",
       "      <td>0.5110</td>\n",
       "      <td>3.370</td>\n",
       "      <td>17.62</td>\n",
       "      <td>0.90</td>\n",
       "      <td>2014-05-14</td>\n",
       "      <td>56.76</td>\n",
       "    </tr>\n",
       "    <tr>\n",
       "      <th>4</th>\n",
       "      <td>HD 63454</td>\n",
       "      <td>b</td>\n",
       "      <td>Radial Velocity</td>\n",
       "      <td>2.818049</td>\n",
       "      <td>0.0368</td>\n",
       "      <td>0.0000</td>\n",
       "      <td>0.398</td>\n",
       "      <td>35.80</td>\n",
       "      <td>0.84</td>\n",
       "      <td>2015-03-26</td>\n",
       "      <td>27.93</td>\n",
       "    </tr>\n",
       "    <tr>\n",
       "      <th>5</th>\n",
       "      <td>HD 212301</td>\n",
       "      <td>b</td>\n",
       "      <td>Radial Velocity</td>\n",
       "      <td>2.245715</td>\n",
       "      <td>0.0360</td>\n",
       "      <td>0.0000</td>\n",
       "      <td>0.450</td>\n",
       "      <td>52.72</td>\n",
       "      <td>1.27</td>\n",
       "      <td>2014-05-14</td>\n",
       "      <td>18.97</td>\n",
       "    </tr>\n",
       "    <tr>\n",
       "      <th>6</th>\n",
       "      <td>CHXR 73</td>\n",
       "      <td>b</td>\n",
       "      <td>Imaging</td>\n",
       "      <td>NaN</td>\n",
       "      <td>210.0000</td>\n",
       "      <td>NaN</td>\n",
       "      <td>12.569</td>\n",
       "      <td>NaN</td>\n",
       "      <td>0.35</td>\n",
       "      <td>2014-05-14</td>\n",
       "      <td>NaN</td>\n",
       "    </tr>\n",
       "    <tr>\n",
       "      <th>7</th>\n",
       "      <td>CT Cha</td>\n",
       "      <td>b</td>\n",
       "      <td>Imaging</td>\n",
       "      <td>NaN</td>\n",
       "      <td>440.0000</td>\n",
       "      <td>NaN</td>\n",
       "      <td>17.000</td>\n",
       "      <td>165.00</td>\n",
       "      <td>NaN</td>\n",
       "      <td>2014-05-14</td>\n",
       "      <td>NaN</td>\n",
       "    </tr>\n",
       "    <tr>\n",
       "      <th>8</th>\n",
       "      <td>HD 196067</td>\n",
       "      <td>b</td>\n",
       "      <td>Radial Velocity</td>\n",
       "      <td>3638.000000</td>\n",
       "      <td>5.0200</td>\n",
       "      <td>0.6600</td>\n",
       "      <td>6.900</td>\n",
       "      <td>43.57</td>\n",
       "      <td>1.29</td>\n",
       "      <td>2014-05-14</td>\n",
       "      <td>22.95</td>\n",
       "    </tr>\n",
       "    <tr>\n",
       "      <th>9</th>\n",
       "      <td>HD 68402</td>\n",
       "      <td>b</td>\n",
       "      <td>Radial Velocity</td>\n",
       "      <td>1103.000000</td>\n",
       "      <td>2.1800</td>\n",
       "      <td>0.0300</td>\n",
       "      <td>3.070</td>\n",
       "      <td>78.00</td>\n",
       "      <td>1.12</td>\n",
       "      <td>2016-11-10</td>\n",
       "      <td>12.82</td>\n",
       "    </tr>\n",
       "    <tr>\n",
       "      <th>10</th>\n",
       "      <td>HD 38283</td>\n",
       "      <td>b</td>\n",
       "      <td>Radial Velocity</td>\n",
       "      <td>363.200000</td>\n",
       "      <td>1.0200</td>\n",
       "      <td>0.4100</td>\n",
       "      <td>0.340</td>\n",
       "      <td>37.78</td>\n",
       "      <td>1.08</td>\n",
       "      <td>2015-09-10</td>\n",
       "      <td>26.47</td>\n",
       "    </tr>\n",
       "    <tr>\n",
       "      <th>11</th>\n",
       "      <td>HD 131664</td>\n",
       "      <td>b</td>\n",
       "      <td>Radial Velocity</td>\n",
       "      <td>1951.000000</td>\n",
       "      <td>3.1700</td>\n",
       "      <td>0.6380</td>\n",
       "      <td>18.150</td>\n",
       "      <td>57.21</td>\n",
       "      <td>1.10</td>\n",
       "      <td>2014-05-14</td>\n",
       "      <td>17.48</td>\n",
       "    </tr>\n",
       "    <tr>\n",
       "      <th>12</th>\n",
       "      <td>HD 108341</td>\n",
       "      <td>b</td>\n",
       "      <td>Radial Velocity</td>\n",
       "      <td>1129.000000</td>\n",
       "      <td>2.0000</td>\n",
       "      <td>0.8500</td>\n",
       "      <td>3.500</td>\n",
       "      <td>49.40</td>\n",
       "      <td>0.84</td>\n",
       "      <td>2015-01-08</td>\n",
       "      <td>20.23</td>\n",
       "    </tr>\n",
       "    <tr>\n",
       "      <th>13</th>\n",
       "      <td>HD 222076</td>\n",
       "      <td>b</td>\n",
       "      <td>Radial Velocity</td>\n",
       "      <td>871.000000</td>\n",
       "      <td>1.8300</td>\n",
       "      <td>0.0800</td>\n",
       "      <td>1.560</td>\n",
       "      <td>83.50</td>\n",
       "      <td>1.07</td>\n",
       "      <td>2016-12-01</td>\n",
       "      <td>NaN</td>\n",
       "    </tr>\n",
       "    <tr>\n",
       "      <th>14</th>\n",
       "      <td>HD 100546</td>\n",
       "      <td>b</td>\n",
       "      <td>Imaging</td>\n",
       "      <td>NaN</td>\n",
       "      <td>53.0000</td>\n",
       "      <td>NaN</td>\n",
       "      <td>NaN</td>\n",
       "      <td>97.00</td>\n",
       "      <td>2.40</td>\n",
       "      <td>2015-05-14</td>\n",
       "      <td>NaN</td>\n",
       "    </tr>\n",
       "  </tbody>\n",
       "</table>\n",
       "</div>"
      ],
      "text/plain": [
       "    pl_hostname pl_letter    pl_discmethod    pl_orbper  pl_orbsmax  \\\n",
       "0   HD 142022 A         b  Radial Velocity  1928.000000      3.0300   \n",
       "1      HD 39091         b  Radial Velocity  2151.000000      3.3800   \n",
       "2   HD 137388 A         b  Radial Velocity   330.000000      0.8900   \n",
       "3       GJ 3021         b  Radial Velocity   133.710000      0.4900   \n",
       "4      HD 63454         b  Radial Velocity     2.818049      0.0368   \n",
       "5     HD 212301         b  Radial Velocity     2.245715      0.0360   \n",
       "6       CHXR 73         b          Imaging          NaN    210.0000   \n",
       "7        CT Cha         b          Imaging          NaN    440.0000   \n",
       "8     HD 196067         b  Radial Velocity  3638.000000      5.0200   \n",
       "9      HD 68402         b  Radial Velocity  1103.000000      2.1800   \n",
       "10     HD 38283         b  Radial Velocity   363.200000      1.0200   \n",
       "11    HD 131664         b  Radial Velocity  1951.000000      3.1700   \n",
       "12    HD 108341         b  Radial Velocity  1129.000000      2.0000   \n",
       "13    HD 222076         b  Radial Velocity   871.000000      1.8300   \n",
       "14    HD 100546         b          Imaging          NaN     53.0000   \n",
       "\n",
       "    pl_orbeccen  pl_bmassj  st_dist  st_mass   rowupdate  st_plx  \n",
       "0        0.5300      5.100    35.87     0.99  2014-05-14   27.88  \n",
       "1        0.6405     10.270    18.21     1.10  2014-07-23   54.92  \n",
       "2        0.3600      0.223    38.45     0.86  2014-05-14   26.01  \n",
       "3        0.5110      3.370    17.62     0.90  2014-05-14   56.76  \n",
       "4        0.0000      0.398    35.80     0.84  2015-03-26   27.93  \n",
       "5        0.0000      0.450    52.72     1.27  2014-05-14   18.97  \n",
       "6           NaN     12.569      NaN     0.35  2014-05-14     NaN  \n",
       "7           NaN     17.000   165.00      NaN  2014-05-14     NaN  \n",
       "8        0.6600      6.900    43.57     1.29  2014-05-14   22.95  \n",
       "9        0.0300      3.070    78.00     1.12  2016-11-10   12.82  \n",
       "10       0.4100      0.340    37.78     1.08  2015-09-10   26.47  \n",
       "11       0.6380     18.150    57.21     1.10  2014-05-14   17.48  \n",
       "12       0.8500      3.500    49.40     0.84  2015-01-08   20.23  \n",
       "13       0.0800      1.560    83.50     1.07  2016-12-01     NaN  \n",
       "14          NaN        NaN    97.00     2.40  2015-05-14     NaN  "
      ]
     },
     "execution_count": 6,
     "metadata": {},
     "output_type": "execute_result"
    }
   ],
   "source": [
    "dbData.head(15)  # NaN's show up when the field has no data.  Need both masses, eccentricity, semimajor axis, \n",
    "# and distance."
   ]
  },
  {
   "cell_type": "code",
   "execution_count": 7,
   "metadata": {},
   "outputs": [
    {
     "data": {
      "image/png": "[encoded data removed]",
      "text/plain": [
       "<IPython.core.display.Image object>"
      ]
     },
     "execution_count": 7,
     "metadata": {},
     "output_type": "execute_result"
    }
   ],
   "source": [
    "# From the Mathematica file for filtering, data from older 20180201_092937.csv.\n",
    "from IPython.display import Image\n",
    "Image(filename = 'filteringMathematica.png')"
   ]
  },
  {
   "cell_type": "code",
   "execution_count": 8,
   "metadata": {},
   "outputs": [
    {
     "data": {
      "text/plain": [
       "3706"
      ]
     },
     "execution_count": 8,
     "metadata": {},
     "output_type": "execute_result"
    }
   ],
   "source": [
    "len(dbData)"
   ]
  },
  {
   "cell_type": "code",
   "execution_count": 9,
   "metadata": {},
   "outputs": [
    {
     "name": "stdout",
     "output_type": "stream",
     "text": [
      "Length all data, dbData  3706\n",
      "Length with pl_orbeccen\t 1170\n",
      "Length with pl_orbper\t 1170\n",
      "Length with pl_orbsmax\t 1105\n",
      "Length with pl_bmassj\t 1024\n",
      "Length with st_dist\t 918\n",
      "Length with st_mass\t 908\n"
     ]
    }
   ],
   "source": [
    "# {\"pl_hostname\", \"pl_letter\", \"pl_discmethod\", \"pl_orbper\", \\\n",
    "# \"pl_orbsmax\", \"pl_orbeccen\", \"pl_bmassj\", \"st_dist\", \"st_mass\", \\\n",
    "# \"rowupdate\", \"st_plx\"}\n",
    "print('Length all data, dbData ', len(dbData) )\n",
    "aData = dbData.dropna(axis = 0, how = 'any', subset = ['pl_orbeccen'])\n",
    "print('Length with pl_orbeccen\\t', len(aData) )\n",
    "aData = aData.dropna(axis = 0, how = 'any', subset = ['pl_orbper'])\n",
    "print('Length with pl_orbper\\t', len(aData) )\n",
    "aData = aData.dropna(axis = 0, how = 'any', subset = ['pl_orbsmax'])\n",
    "print('Length with pl_orbsmax\\t', len(aData) )\n",
    "aData = aData.dropna(axis = 0, how = 'any', subset = ['pl_bmassj'])\n",
    "print('Length with pl_bmassj\\t', len(aData) )\n",
    "aData = aData.dropna(axis = 0, how = 'any', subset = ['st_dist'])\n",
    "print('Length with st_dist\\t', len(aData) )\n",
    "aData = aData.dropna(axis = 0, how = 'any', subset = ['st_mass'])\n",
    "print('Length with st_mass\\t', len(aData) )"
   ]
  },
  {
   "cell_type": "code",
   "execution_count": 10,
   "metadata": {},
   "outputs": [],
   "source": [
    "#  So adata is the working exoplanet data after filtering as a Panda DataFrame.  Later should consider filling in \n",
    "#  missing data with Kepler or other calculations.\n"
   ]
  },
  {
   "cell_type": "markdown",
   "metadata": {},
   "source": [
    "##  Physical Constants, use the following and the ones from scipy.constants that show up in  gwTools.py!!"
   ]
  },
  {
   "cell_type": "code",
   "execution_count": 11,
   "metadata": {
    "scrolled": true
   },
   "outputs": [
    {
     "name": "stdout",
     "output_type": "stream",
     "text": [
      "Compare my cee  299792458.0  and scipy.constants  299792458.0\n",
      "Compare my bigG  6.67408e-11  and scipy.constants  6.67408e-11\n"
     ]
    }
   ],
   "source": [
    "# Copied from JustStrainPlots.nb Mathematica for consistency.\n",
    "from scipy.constants import speed_of_light, gravitational_constant, c, G, pi\n",
    "\n",
    "massSun = 1.989e30; #(*kg *)\n",
    "massJ = 1.898e27; #(* kg *)\n",
    "massE = 5.972e24; #(* kg *)\n",
    "massJe = massJ/massE; #(* Jupiter mass is 317.9 earth masses *)\n",
    "massJs = massJ/massSun; #(* relative to the sun's mass *)\n",
    "\n",
    "pc = 30.86e15; #(* meters, parsec *)\n",
    "au = 149.6e9; #(* meters, astron unit *)\n",
    "cee = 299792458.0; #(* meters/s, speed of light *)\n",
    "\n",
    "cee = 299792458.0; #(* meters/s, speed of light *)\n",
    "print('Compare my cee ', cee, ' and scipy.constants ', speed_of_light)\n",
    "cee = speed_of_light # Use the scipy.constants one.\n",
    "secsYear = 365.24*24.0*3600.0; #(* s, number of seconds in a year *)\n",
    "secsDay = 24.0*3600.0; #(* s, number of seconds in a day *)\n",
    "\n",
    "bigG = 6.67408e-11; #(* SI Gravitational constant, m^3/kg/s *)\n",
    "print('Compare my bigG ', bigG, ' and scipy.constants ', gravitational_constant)\n",
    "bigG = gravitational_constant\n",
    "\n",
    "rscon = 2*bigG*massSun/(cee*cee) #(* 2955.43 m, solar mass Scharzschild radius *)\n",
    "lunits = bigG*massSun/(cee*cee) #(* meters per solar mass, units of G=c=1, no factor\n",
    "#of 2 as in Schwarzschild radius *)\n",
    "masscon = lunits; #(* m, G Msol/c^2, for 1 solar mass *)\n",
    "powercon = cee**5/bigG  #(* 3.628e52 W, c^5/G, W/unit since P is dimensionless in G=c=1 units *)\n",
    "energycon = (cee**4)/bigG  #(* 1.210e44 J/m, c^4/G *)"
   ]
  },
  {
   "cell_type": "markdown",
   "metadata": {},
   "source": [
    "## Calculate some GW amplitudes for each exoplanet."
   ]
  },
  {
   "cell_type": "code",
   "execution_count": 12,
   "metadata": {},
   "outputs": [
    {
     "data": {
      "text/plain": [
       "Text(0.5,1,'The n-star, where the g(n,e) curve\\n comes back to 1/20th the peak value')"
      ]
     },
     "execution_count": 12,
     "metadata": {},
     "output_type": "execute_result"
    },
    {
     "data": {
      "image/png": "[encoded data removed]",
      "text/plain": [
       "<matplotlib.figure.Figure at 0x7fa115da1518>"
      ]
     },
     "metadata": {},
     "output_type": "display_data"
    }
   ],
   "source": [
    "ecc = np.linspace(0., 0.99, 50)\n",
    "nstar = [ gwt.aNmax(uu) for uu in ecc ]\n",
    "plt.plot(ecc, nstar, 'k-')\n",
    "plt.title('The n-star, where the g(n,e) curve\\n comes back to 1/20th the peak value')"
   ]
  },
  {
   "cell_type": "code",
   "execution_count": 13,
   "metadata": {},
   "outputs": [
    {
     "data": {
      "text/html": [
       "<div>\n",
       "<style scoped>\n",
       "    .dataframe tbody tr th:only-of-type {\n",
       "        vertical-align: middle;\n",
       "    }\n",
       "\n",
       "    .dataframe tbody tr th {\n",
       "        vertical-align: top;\n",
       "    }\n",
       "\n",
       "    .dataframe thead th {\n",
       "        text-align: right;\n",
       "    }\n",
       "</style>\n",
       "<table border=\"1\" class=\"dataframe\">\n",
       "  <thead>\n",
       "    <tr style=\"text-align: right;\">\n",
       "      <th></th>\n",
       "      <th>pl_hostname</th>\n",
       "      <th>pl_letter</th>\n",
       "      <th>pl_discmethod</th>\n",
       "      <th>pl_orbper</th>\n",
       "      <th>pl_orbsmax</th>\n",
       "      <th>pl_orbeccen</th>\n",
       "      <th>pl_bmassj</th>\n",
       "      <th>st_dist</th>\n",
       "      <th>st_mass</th>\n",
       "      <th>rowupdate</th>\n",
       "      <th>st_plx</th>\n",
       "    </tr>\n",
       "  </thead>\n",
       "  <tbody>\n",
       "    <tr>\n",
       "      <th>0</th>\n",
       "      <td>HD 142022 A</td>\n",
       "      <td>b</td>\n",
       "      <td>Radial Velocity</td>\n",
       "      <td>1928.000000</td>\n",
       "      <td>3.0300</td>\n",
       "      <td>0.5300</td>\n",
       "      <td>5.100</td>\n",
       "      <td>35.87</td>\n",
       "      <td>0.99</td>\n",
       "      <td>2014-05-14</td>\n",
       "      <td>27.88</td>\n",
       "    </tr>\n",
       "    <tr>\n",
       "      <th>1</th>\n",
       "      <td>HD 39091</td>\n",
       "      <td>b</td>\n",
       "      <td>Radial Velocity</td>\n",
       "      <td>2151.000000</td>\n",
       "      <td>3.3800</td>\n",
       "      <td>0.6405</td>\n",
       "      <td>10.270</td>\n",
       "      <td>18.21</td>\n",
       "      <td>1.10</td>\n",
       "      <td>2014-07-23</td>\n",
       "      <td>54.92</td>\n",
       "    </tr>\n",
       "    <tr>\n",
       "      <th>2</th>\n",
       "      <td>HD 137388 A</td>\n",
       "      <td>b</td>\n",
       "      <td>Radial Velocity</td>\n",
       "      <td>330.000000</td>\n",
       "      <td>0.8900</td>\n",
       "      <td>0.3600</td>\n",
       "      <td>0.223</td>\n",
       "      <td>38.45</td>\n",
       "      <td>0.86</td>\n",
       "      <td>2014-05-14</td>\n",
       "      <td>26.01</td>\n",
       "    </tr>\n",
       "    <tr>\n",
       "      <th>3</th>\n",
       "      <td>GJ 3021</td>\n",
       "      <td>b</td>\n",
       "      <td>Radial Velocity</td>\n",
       "      <td>133.710000</td>\n",
       "      <td>0.4900</td>\n",
       "      <td>0.5110</td>\n",
       "      <td>3.370</td>\n",
       "      <td>17.62</td>\n",
       "      <td>0.90</td>\n",
       "      <td>2014-05-14</td>\n",
       "      <td>56.76</td>\n",
       "    </tr>\n",
       "    <tr>\n",
       "      <th>4</th>\n",
       "      <td>HD 63454</td>\n",
       "      <td>b</td>\n",
       "      <td>Radial Velocity</td>\n",
       "      <td>2.818049</td>\n",
       "      <td>0.0368</td>\n",
       "      <td>0.0000</td>\n",
       "      <td>0.398</td>\n",
       "      <td>35.80</td>\n",
       "      <td>0.84</td>\n",
       "      <td>2015-03-26</td>\n",
       "      <td>27.93</td>\n",
       "    </tr>\n",
       "    <tr>\n",
       "      <th>5</th>\n",
       "      <td>HD 212301</td>\n",
       "      <td>b</td>\n",
       "      <td>Radial Velocity</td>\n",
       "      <td>2.245715</td>\n",
       "      <td>0.0360</td>\n",
       "      <td>0.0000</td>\n",
       "      <td>0.450</td>\n",
       "      <td>52.72</td>\n",
       "      <td>1.27</td>\n",
       "      <td>2014-05-14</td>\n",
       "      <td>18.97</td>\n",
       "    </tr>\n",
       "    <tr>\n",
       "      <th>8</th>\n",
       "      <td>HD 196067</td>\n",
       "      <td>b</td>\n",
       "      <td>Radial Velocity</td>\n",
       "      <td>3638.000000</td>\n",
       "      <td>5.0200</td>\n",
       "      <td>0.6600</td>\n",
       "      <td>6.900</td>\n",
       "      <td>43.57</td>\n",
       "      <td>1.29</td>\n",
       "      <td>2014-05-14</td>\n",
       "      <td>22.95</td>\n",
       "    </tr>\n",
       "    <tr>\n",
       "      <th>9</th>\n",
       "      <td>HD 68402</td>\n",
       "      <td>b</td>\n",
       "      <td>Radial Velocity</td>\n",
       "      <td>1103.000000</td>\n",
       "      <td>2.1800</td>\n",
       "      <td>0.0300</td>\n",
       "      <td>3.070</td>\n",
       "      <td>78.00</td>\n",
       "      <td>1.12</td>\n",
       "      <td>2016-11-10</td>\n",
       "      <td>12.82</td>\n",
       "    </tr>\n",
       "  </tbody>\n",
       "</table>\n",
       "</div>"
      ],
      "text/plain": [
       "   pl_hostname pl_letter    pl_discmethod    pl_orbper  pl_orbsmax  \\\n",
       "0  HD 142022 A         b  Radial Velocity  1928.000000      3.0300   \n",
       "1     HD 39091         b  Radial Velocity  2151.000000      3.3800   \n",
       "2  HD 137388 A         b  Radial Velocity   330.000000      0.8900   \n",
       "3      GJ 3021         b  Radial Velocity   133.710000      0.4900   \n",
       "4     HD 63454         b  Radial Velocity     2.818049      0.0368   \n",
       "5    HD 212301         b  Radial Velocity     2.245715      0.0360   \n",
       "8    HD 196067         b  Radial Velocity  3638.000000      5.0200   \n",
       "9     HD 68402         b  Radial Velocity  1103.000000      2.1800   \n",
       "\n",
       "   pl_orbeccen  pl_bmassj  st_dist  st_mass   rowupdate  st_plx  \n",
       "0       0.5300      5.100    35.87     0.99  2014-05-14   27.88  \n",
       "1       0.6405     10.270    18.21     1.10  2014-07-23   54.92  \n",
       "2       0.3600      0.223    38.45     0.86  2014-05-14   26.01  \n",
       "3       0.5110      3.370    17.62     0.90  2014-05-14   56.76  \n",
       "4       0.0000      0.398    35.80     0.84  2015-03-26   27.93  \n",
       "5       0.0000      0.450    52.72     1.27  2014-05-14   18.97  \n",
       "8       0.6600      6.900    43.57     1.29  2014-05-14   22.95  \n",
       "9       0.0300      3.070    78.00     1.12  2016-11-10   12.82  "
      ]
     },
     "execution_count": 13,
     "metadata": {},
     "output_type": "execute_result"
    }
   ],
   "source": [
    "aData.head(8)"
   ]
  },
  {
   "cell_type": "markdown",
   "metadata": {},
   "source": [
    "## Create a numpy array of GW strain amplitudes for that planet and append to the table."
   ]
  },
  {
   "cell_type": "code",
   "execution_count": 14,
   "metadata": {},
   "outputs": [
    {
     "name": "stdout",
     "output_type": "stream",
     "text": [
      "irow is  7  ,frontCoeff is  4.6311021600204593e-26  pl_orbeccen is  0.03\n",
      "irow is  8  ,frontCoeff is  2.169114619938696e-26  pl_orbeccen is  0.41\n",
      "irow is  9  ,frontCoeff is  2.5108674723286658e-25  pl_orbeccen is  0.638\n",
      "irow is  10  ,frontCoeff is  6.772473061612905e-26  pl_orbeccen is  0.85\n",
      "irow is  11  ,frontCoeff is  2.4969184134452682e-26  pl_orbeccen is  0.08\n",
      "irow is  12  ,frontCoeff is  4.643709659681133e-25  pl_orbeccen is  0.0\n",
      "irow is  13  ,frontCoeff is  7.140502406734836e-26  pl_orbeccen is  0.29\n",
      "irow is  14  ,frontCoeff is  1.2172309568518269e-25  pl_orbeccen is  0.54\n"
     ]
    }
   ],
   "source": [
    "# Actually append n_min, n_max, numpy array of GW strains h.\n",
    "# In the Mathematica JustStrainPlots.nb, about 40% down, calc hhVfreq first time.\n",
    "\n",
    "hhmodesCol = []  # Setup a list of the hhmodes that will be appended to the dataframe.\n",
    "modesCol = [] # The modes set acually used for the calculation, int(modeMin) to int(modeMax)+1\n",
    "freq0Col = [] # Collect the orbital frequency that was used.\n",
    "\n",
    "for irow in range(len(aData)):\n",
    "    # Calculate the SI parameters needed by the strains and the strain \"front coefficient.\"\n",
    "    \n",
    "    orbeccen = aData['pl_orbeccen'].values[irow]\n",
    "    modeMax = gwt.aNmax( orbeccen )  # The \"max\" mode number where g(n,e) returns to 1/20th its peak value.\n",
    "    modeMin = gwt.aNmin( orbeccen )  # Either 1 for e>0 or 2 for e=0.\n",
    "    #\n",
    "    m1 = aData['pl_bmassj'].values[irow]*massJ\n",
    "    m2 = aData['st_mass'].values[irow]*massSun\n",
    "    smax = aData['pl_orbsmax'].values[irow]*au\n",
    "    dL = aData['st_dist'].values[irow]*pc\n",
    "    freq0 = 1.0/(aData['pl_orbper'].values[irow]*secsDay)\n",
    "    #aData['pl_orbper']*secsDay\n",
    "    frontCoeff = np.power(bigG,5/3.)/cee**4 * 2 * np.sqrt(32/5.) * np.power( gwt.chirpM(m1,m2), 5/3.)*\\\n",
    "    np.power((2*np.pi*freq0), 2/3.)/dL\n",
    "    if irow > 6 and irow < 15:\n",
    "        print('irow is ', irow, ' ,frontCoeff is ', frontCoeff, ' pl_orbeccen is ', orbeccen)\n",
    "\n",
    "    # Now loop over the GW modes.\n",
    "    hhmodes = [ frontCoeff*gwt.ggSimp(uu, orbeccen) for uu in range(int(modeMin), int(modeMax)+1)  ]\n",
    "    modes = [ uu for uu in range(int(modeMin), int(modeMax)+1)  ]\n",
    "    \n",
    "    # Append to the list.\n",
    "    hhmodesCol.append( hhmodes )\n",
    "    modesCol.append( modes )\n",
    "    freq0Col.append( freq0 )\n",
    "        "
   ]
  },
  {
   "cell_type": "code",
   "execution_count": 15,
   "metadata": {},
   "outputs": [
    {
     "name": "stdout",
     "output_type": "stream",
     "text": [
      "15\n",
      "[3.296673459110096e-27, 1.781834259812521e-26, 7.045961566633912e-26, 1.0708553482104247e-25, 1.1337448689631755e-25, 9.885489074022218e-26, 7.630426257751142e-26, 5.416032215296158e-26, 3.6156874548614144e-26, 2.303433227542831e-26, 1.4142572300033822e-26, 8.427690786846201e-27, 4.8997536773335406e-27, 2.790229896023936e-27, 1.5611286255233893e-27]\n",
      "[1, 2, 3, 4, 5, 6, 7, 8, 9, 10, 11, 12, 13, 14, 15]\n"
     ]
    }
   ],
   "source": [
    "print( len(hhmodesCol[0] ) )\n",
    "print( hhmodesCol[0] )\n",
    "print( modesCol[0] )"
   ]
  },
  {
   "cell_type": "code",
   "execution_count": 16,
   "metadata": {},
   "outputs": [],
   "source": [
    "#Append the hhmodesCol to the dataframe, for ease of getting at the other attributes.\n",
    "aData['freq0'] = freq0Col\n",
    "aData['modes'] = modesCol\n",
    "aData['hhmodes'] = hhmodesCol"
   ]
  },
  {
   "cell_type": "code",
   "execution_count": 17,
   "metadata": {},
   "outputs": [
    {
     "data": {
      "text/html": [
       "<div>\n",
       "<style scoped>\n",
       "    .dataframe tbody tr th:only-of-type {\n",
       "        vertical-align: middle;\n",
       "    }\n",
       "\n",
       "    .dataframe tbody tr th {\n",
       "        vertical-align: top;\n",
       "    }\n",
       "\n",
       "    .dataframe thead th {\n",
       "        text-align: right;\n",
       "    }\n",
       "</style>\n",
       "<table border=\"1\" class=\"dataframe\">\n",
       "  <thead>\n",
       "    <tr style=\"text-align: right;\">\n",
       "      <th></th>\n",
       "      <th>pl_hostname</th>\n",
       "      <th>pl_letter</th>\n",
       "      <th>pl_discmethod</th>\n",
       "      <th>pl_orbper</th>\n",
       "      <th>pl_orbsmax</th>\n",
       "      <th>pl_orbeccen</th>\n",
       "      <th>pl_bmassj</th>\n",
       "      <th>st_dist</th>\n",
       "      <th>st_mass</th>\n",
       "      <th>rowupdate</th>\n",
       "      <th>st_plx</th>\n",
       "      <th>freq0</th>\n",
       "      <th>modes</th>\n",
       "      <th>hhmodes</th>\n",
       "    </tr>\n",
       "  </thead>\n",
       "  <tbody>\n",
       "    <tr>\n",
       "      <th>0</th>\n",
       "      <td>HD 142022 A</td>\n",
       "      <td>b</td>\n",
       "      <td>Radial Velocity</td>\n",
       "      <td>1928.0</td>\n",
       "      <td>3.03</td>\n",
       "      <td>0.5300</td>\n",
       "      <td>5.100</td>\n",
       "      <td>35.87</td>\n",
       "      <td>0.99</td>\n",
       "      <td>2014-05-14</td>\n",
       "      <td>27.88</td>\n",
       "      <td>6.003150e-09</td>\n",
       "      <td>[1, 2, 3, 4, 5, 6, 7, 8, 9, 10, 11, 12, 13, 14...</td>\n",
       "      <td>[3.296673459110096e-27, 1.781834259812521e-26,...</td>\n",
       "    </tr>\n",
       "    <tr>\n",
       "      <th>1</th>\n",
       "      <td>HD 39091</td>\n",
       "      <td>b</td>\n",
       "      <td>Radial Velocity</td>\n",
       "      <td>2151.0</td>\n",
       "      <td>3.38</td>\n",
       "      <td>0.6405</td>\n",
       "      <td>10.270</td>\n",
       "      <td>18.21</td>\n",
       "      <td>1.10</td>\n",
       "      <td>2014-07-23</td>\n",
       "      <td>54.92</td>\n",
       "      <td>5.380788e-09</td>\n",
       "      <td>[1, 2, 3, 4, 5, 6, 7, 8, 9, 10, 11, 12, 13, 14...</td>\n",
       "      <td>[1.6160381095729894e-26, 1.9386780309789621e-2...</td>\n",
       "    </tr>\n",
       "    <tr>\n",
       "      <th>2</th>\n",
       "      <td>HD 137388 A</td>\n",
       "      <td>b</td>\n",
       "      <td>Radial Velocity</td>\n",
       "      <td>330.0</td>\n",
       "      <td>0.89</td>\n",
       "      <td>0.3600</td>\n",
       "      <td>0.223</td>\n",
       "      <td>38.45</td>\n",
       "      <td>0.86</td>\n",
       "      <td>2014-05-14</td>\n",
       "      <td>26.01</td>\n",
       "      <td>3.507295e-08</td>\n",
       "      <td>[1, 2, 3, 4, 5, 6, 7]</td>\n",
       "      <td>[2.183959500231702e-28, 6.2753080010927265e-27...</td>\n",
       "    </tr>\n",
       "  </tbody>\n",
       "</table>\n",
       "</div>"
      ],
      "text/plain": [
       "   pl_hostname pl_letter    pl_discmethod  pl_orbper  pl_orbsmax  pl_orbeccen  \\\n",
       "0  HD 142022 A         b  Radial Velocity     1928.0        3.03       0.5300   \n",
       "1     HD 39091         b  Radial Velocity     2151.0        3.38       0.6405   \n",
       "2  HD 137388 A         b  Radial Velocity      330.0        0.89       0.3600   \n",
       "\n",
       "   pl_bmassj  st_dist  st_mass   rowupdate  st_plx         freq0  \\\n",
       "0      5.100    35.87     0.99  2014-05-14   27.88  6.003150e-09   \n",
       "1     10.270    18.21     1.10  2014-07-23   54.92  5.380788e-09   \n",
       "2      0.223    38.45     0.86  2014-05-14   26.01  3.507295e-08   \n",
       "\n",
       "                                               modes  \\\n",
       "0  [1, 2, 3, 4, 5, 6, 7, 8, 9, 10, 11, 12, 13, 14...   \n",
       "1  [1, 2, 3, 4, 5, 6, 7, 8, 9, 10, 11, 12, 13, 14...   \n",
       "2                              [1, 2, 3, 4, 5, 6, 7]   \n",
       "\n",
       "                                             hhmodes  \n",
       "0  [3.296673459110096e-27, 1.781834259812521e-26,...  \n",
       "1  [1.6160381095729894e-26, 1.9386780309789621e-2...  \n",
       "2  [2.183959500231702e-28, 6.2753080010927265e-27...  "
      ]
     },
     "execution_count": 17,
     "metadata": {},
     "output_type": "execute_result"
    }
   ],
   "source": [
    "aData.head(3)"
   ]
  },
  {
   "cell_type": "markdown",
   "metadata": {},
   "source": [
    "## Use the calculated data and the Larson or Cornish S_n(f) curve averaged/integrated over 1 year, or 4 years."
   ]
  },
  {
   "cell_type": "markdown",
   "metadata": {},
   "source": [
    "The Larson curve from http://www.srl.caltech.edu/~shane/sensitivity/MakeCurve.html , for dimensionless strain says 1 year integration time (?)"
   ]
  },
  {
   "cell_type": "code",
   "execution_count": 18,
   "metadata": {},
   "outputs": [
    {
     "data": {
      "text/html": [
       "<div>\n",
       "<style scoped>\n",
       "    .dataframe tbody tr th:only-of-type {\n",
       "        vertical-align: middle;\n",
       "    }\n",
       "\n",
       "    .dataframe tbody tr th {\n",
       "        vertical-align: top;\n",
       "    }\n",
       "\n",
       "    .dataframe thead th {\n",
       "        text-align: right;\n",
       "    }\n",
       "</style>\n",
       "<table border=\"1\" class=\"dataframe\">\n",
       "  <thead>\n",
       "    <tr style=\"text-align: right;\">\n",
       "      <th></th>\n",
       "      <th>freq[Hz]</th>\n",
       "      <th>h[dimless]</th>\n",
       "    </tr>\n",
       "  </thead>\n",
       "  <tbody>\n",
       "    <tr>\n",
       "      <th>0</th>\n",
       "      <td>9.765035e-08</td>\n",
       "      <td>1.465146e-15</td>\n",
       "    </tr>\n",
       "    <tr>\n",
       "      <th>1</th>\n",
       "      <td>9.992561e-08</td>\n",
       "      <td>1.399184e-15</td>\n",
       "    </tr>\n",
       "    <tr>\n",
       "      <th>2</th>\n",
       "      <td>1.022538e-07</td>\n",
       "      <td>1.336193e-15</td>\n",
       "    </tr>\n",
       "  </tbody>\n",
       "</table>\n",
       "</div>"
      ],
      "text/plain": [
       "       freq[Hz]    h[dimless]\n",
       "0  9.765035e-08  1.465146e-15\n",
       "1  9.992561e-08  1.399184e-15\n",
       "2  1.022538e-07  1.336193e-15"
      ]
     },
     "execution_count": 18,
     "metadata": {},
     "output_type": "execute_result"
    }
   ],
   "source": [
    "# Load one or other of the Larsen curves\n",
    "larson1Yr = 'scg_5672_hdimless_1yearInten.dat';  # This is likely the wrong arm lengths, etc, even for Larson.\n",
    "larsonDimless1Yr = pd.read_csv( thisDir + '/../' + larson1Yr, header=None, delim_whitespace=True, \\\n",
    "                               names=['freq[Hz]', 'h[dimless]'], skiprows=22 )\n",
    "larsonDimless1Yr.head(3)"
   ]
  },
  {
   "cell_type": "code",
   "execution_count": 19,
   "metadata": {},
   "outputs": [
    {
     "data": {
      "text/plain": [
       "<matplotlib.axes._subplots.AxesSubplot at 0x7fa114526b38>"
      ]
     },
     "execution_count": 19,
     "metadata": {},
     "output_type": "execute_result"
    },
    {
     "data": {
      "image/png": "[encoded data removed]",
      "text/plain": [
       "<matplotlib.figure.Figure at 0x7fa1144975c0>"
      ]
     },
     "metadata": {},
     "output_type": "display_data"
    }
   ],
   "source": [
    "larsonDimless1Yr.plot(x = 'freq[Hz]', y = 'h[dimless]', logy=True, logx=True, grid=True)"
   ]
  },
  {
   "cell_type": "code",
   "execution_count": 20,
   "metadata": {},
   "outputs": [
    {
     "data": {
      "image/png": "[encoded data removed]",
      "text/plain": [
       "<matplotlib.figure.Figure at 0x7fa1141e8d68>"
      ]
     },
     "metadata": {},
     "output_type": "display_data"
    }
   ],
   "source": [
    "# plotting different dataframes in same plot\n",
    "#ax = df1.plot()\n",
    "#df2.plot(ax=ax)\n",
    "\n",
    "ax = larsonDimless1Yr.plot(x = 'freq[Hz]', y = 'h[dimless]', logy=True, logx=True, grid=True)\n",
    "for irow in range(len(aData)):\n",
    "#for irow in range(3):\n",
    "    aa = aData['freq0'].values[irow]\n",
    "    xx = [aa * uu for uu in aData['modes'].values[irow]  ] \n",
    "    yy = aData['hhmodes'].values[irow]\n",
    "    acolor = 'ko'\n",
    "    if aData['pl_hostname'].values[irow] == 'PSR J1719-1438':\n",
    "        if aData['pl_letter'].values[irow] == 'b':\n",
    "            acolor = 'ro'\n",
    "    ax.plot( xx, yy, acolor)\n",
    "    ax.set_ylim((1e-26, 1e-18) )\n",
    "    ax.set_xlim((1e-5, 1.0) )\n",
    "    ax.set_title('One Year Noise and Exops')\n",
    "    "
   ]
  },
  {
   "cell_type": "code",
   "execution_count": 21,
   "metadata": {},
   "outputs": [
    {
     "name": "stdout",
     "output_type": "stream",
     "text": [
      "['PSR J1719-1438' 'b' 'Pulsar Timing' 0.09070629 0.0044 0.06 1.2 1200.0\n",
      " 1.4 '2014-05-14' nan 0.0001275994649772808 list([1, 2, 3])\n",
      " list([3.9137497862038733e-28, 7.095173269667969e-25, 2.9121239158438164e-26])]\n"
     ]
    }
   ],
   "source": [
    "for irow in range(len(aData) ):\n",
    "    if aData['pl_hostname'].values[irow] == 'PSR J1719-1438' and \\\n",
    "    aData['pl_letter'].values[irow] == 'b':\n",
    "        theRow = irow\n",
    "        print( aData.values[irow] )"
   ]
  },
  {
   "cell_type": "code",
   "execution_count": 22,
   "metadata": {},
   "outputs": [
    {
     "data": {
      "text/plain": [
       "3.0"
      ]
     },
     "execution_count": 22,
     "metadata": {},
     "output_type": "execute_result"
    }
   ],
   "source": [
    "gwt.aNmax(0.06)  # If e>0 always have at least three modes, n = 1,2,3 ."
   ]
  },
  {
   "cell_type": "code",
   "execution_count": 23,
   "metadata": {},
   "outputs": [
    {
     "data": {
      "text/plain": [
       "[<matplotlib.lines.Line2D at 0x7fa10d4ed400>]"
      ]
     },
     "execution_count": 23,
     "metadata": {},
     "output_type": "execute_result"
    },
    {
     "data": {
      "image/png": "[encoded data removed]",
      "text/plain": [
       "<matplotlib.figure.Figure at 0x7fa10d50bf28>"
      ]
     },
     "metadata": {},
     "output_type": "display_data"
    }
   ],
   "source": [
    "xx = np.linspace(0,0.95, 60)\n",
    "yy= [ gwt.aNmax(uu) for uu in xx ]\n",
    "plt.semilogy(xx, yy, 'k-')"
   ]
  },
  {
   "cell_type": "markdown",
   "metadata": {},
   "source": [
    "## Calculate the signal-to-noise ratio for each planet."
   ]
  },
  {
   "cell_type": "code",
   "execution_count": 24,
   "metadata": {},
   "outputs": [
    {
     "name": "stdout",
     "output_type": "stream",
     "text": [
      "Testing the linear interp in log-log space of the dep and indep variables.\n"
     ]
    },
    {
     "data": {
      "image/png": "[encoded data removed]",
      "text/plain": [
       "<matplotlib.figure.Figure at 0x7fa10d4b0ef0>"
      ]
     },
     "metadata": {},
     "output_type": "display_data"
    },
    {
     "data": {
      "image/png": "[encoded data removed]",
      "text/plain": [
       "<matplotlib.figure.Figure at 0x7fa10d832b70>"
      ]
     },
     "metadata": {},
     "output_type": "display_data"
    },
    {
     "data": {
      "image/png": "[encoded data removed]",
      "text/plain": [
       "<matplotlib.figure.Figure at 0x7fa10d25fda0>"
      ]
     },
     "metadata": {},
     "output_type": "display_data"
    }
   ],
   "source": [
    "# Will need to interpolate the S_n(f) functions.\n",
    "# Do the linear interpolation in the log-space since it is so linear there.\n",
    "class snLinInterp:\n",
    "\n",
    "    \"\"\"Input the numpy arrays of freqs and sns and returns a class with\n",
    "    a __call__ function.  Not good checks for values <=0 or if you are interpolating\n",
    "    outside the range it was setup in, so use carefully.\n",
    "    \"\"\"\n",
    "    def __init__(self, freqs, sns):\n",
    "        from scipy.interpolate import interp1d\n",
    "        # Check lenght of arrays agree.\n",
    "        if len(freqs) != len(sns):\n",
    "            print('***class snLinInterp: error, arrays lengths disagree, len(freqs) ', len(freqs), ' and '\\\n",
    "                 'len(sns) is ', len(sns) )\n",
    "        else:\n",
    "        # Check for zero in each array.  Cannot use x[x>0] as usual, need arrays coordinated.\n",
    "            idrop = []\n",
    "            for ii in range(len(freqs)):\n",
    "                if freqs[ii] <= 0 or sns[ii] <= 0:\n",
    "                    idrop.append(ii)\n",
    "\n",
    "            self.freqs = np.delete(freqs,idrop)\n",
    "            self.sns = np.delete(sns, idrop)\n",
    "            self.logFreqs = np.log10(self.freqs)\n",
    "            self.logSns = np.log10(self.sns)\n",
    "            self.myInterp1D = interp1d(freqs, sns)  # Leave it linear for now. scipy.interpolate.\n",
    "            self.minFreq = np.min(self.freqs)\n",
    "            self.maxFreq = np.max(self.freqs)  # Can only interp between the values min freq and max.\n",
    "        \n",
    "    def __call__(self, uu):  # Checking for negatives and zeros is a pain, just do not do it for now!!\n",
    "        return( self.myInterp1D(uu) )\n",
    "        \n",
    "xx = np.linspace(0.1, 12.3, 20)\n",
    "yy = np.power(xx,4)\n",
    "snInterp = snLinInterp(xx, yy )  # Has the __call__ method, so makes a 1D function.\n",
    "xint = [3.33, 6.6, 11.11]\n",
    "yint = snInterp(xint)\n",
    "ax = plt.loglog(xx,yy,'ko-', xint, yint, 'bo')\n",
    "# set_title('Testing the linear interp in log-log space of the dep and indep variables.')\n",
    "print( 'Testing the linear interp in log-log space of the dep and indep variables.' )\n",
    "plt.show()\n",
    "\n",
    "# Test handling of the negatives and zero values!\n",
    "xx = np.linspace(-5.5, 12.3, 30)\n",
    "yy = np.power(xx,4)\n",
    "snInterp2 = snLinInterp(xx, yy) # trying negatives for x but all positives for y, should drop both values.\n",
    "\n",
    "xint = np.array([3.33, 6.6, 11.11])\n",
    "yint = snInterp(xint)\n",
    "plt.loglog(xx,yy,'ko-', xint, yint, 'bo')\n",
    "plt.show()\n",
    "plt.plot(xx,yy,'ko-', xint, yint, 'bo')\n",
    "plt.show()"
   ]
  },
  {
   "cell_type": "code",
   "execution_count": 25,
   "metadata": {},
   "outputs": [
    {
     "ename": "SyntaxError",
     "evalue": "unexpected EOF while parsing (<ipython-input-25-65a7d30be163>, line 18)",
     "output_type": "error",
     "traceback": [
      "\u001b[0;36m  File \u001b[0;32m\"<ipython-input-25-65a7d30be163>\"\u001b[0;36m, line \u001b[0;32m18\u001b[0m\n\u001b[0;31m    \u001b[0m\n\u001b[0m    ^\u001b[0m\n\u001b[0;31mSyntaxError\u001b[0m\u001b[0;31m:\u001b[0m unexpected EOF while parsing\n"
     ]
    }
   ],
   "source": [
    "# Setup the interpolating for the S_n(f) int he range below f = 2e-3 Hz.\n",
    "mySnInterp = snLinInterp( lar)\n",
    "\n",
    "\n",
    "# It is the sum over the modes.\n",
    "intTime = 1.0*secsYear  # Integration time in seconds.\n",
    "\n",
    "SNRCols = []\n",
    "for irow in range(len(aData) ):\n",
    "    freq0 = aData['freq0'].values[irow]\n",
    "    modes= aData['modes'].values[irow]\n",
    "    hhmodes = aData['hhmodes'].values[irow]\n",
    "    SNRsum = 0.0\n",
    "    for jmodes in range(len(modes) ):\n",
    "        \n",
    "        \n",
    "    \n",
    "    "
   ]
  }
 ],
 "metadata": {
  "kernelspec": {
   "display_name": "Python 3",
   "language": "python",
   "name": "python3"
  },
  "language_info": {
   "codemirror_mode": {
    "name": "ipython",
    "version": 3
   },
   "file_extension": ".py",
   "mimetype": "text/x-python",
   "name": "python",
   "nbconvert_exporter": "python",
   "pygments_lexer": "ipython3",
   "version": "3.6.4"
  }
 },
 "nbformat": 4,
 "nbformat_minor": 2
}

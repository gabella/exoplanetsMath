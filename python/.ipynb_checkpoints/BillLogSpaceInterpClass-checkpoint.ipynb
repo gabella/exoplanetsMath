{
 "cells": [
  {
   "cell_type": "markdown",
   "metadata": {},
   "source": [
    "# Bill's log-space linear interpolator :)"
   ]
  },
  {
   "cell_type": "markdown",
   "metadata": {},
   "source": [
    "# Not used for now, using Katie's in the gwt.lisa_psd() interpolator."
   ]
  },
  {
   "cell_type": "code",
   "execution_count": null,
   "metadata": {},
   "outputs": [],
   "source": [
    "import sys, os\n",
    "import numpy as np\n",
    "import urllib as ul\n",
    "import pandas as pd\n",
    "import gwTools as gwt\n",
    "import matplotlib.pyplot as plt\n",
    "%matplotlib inline\n",
    "import scipy as sp\n",
    "import scipy.interpolate as spint"
   ]
  },
  {
   "cell_type": "markdown",
   "metadata": {},
   "source": [
    "## Need linear interpolator (or other) for $S_n(f)$ so that I can find $S_n$ at the relevant frequency."
   ]
  },
  {
   "cell_type": "code",
   "execution_count": null,
   "metadata": {},
   "outputs": [],
   "source": [
    "# Will need to interpolate the S_n(f) functions.\n",
    "# Do the linear interpolation in the log-space since it is so linear there, even a formula for it, I think.\n",
    "class snLinInterp:\n",
    "\n",
    "    \"\"\"Input the numpy arrays of freqs and Sn's and returns a class with\n",
    "    a __call__ function.  Not good checks for values <=0 or if you are interpolating\n",
    "    outside the range it was setup in, so use carefully.\n",
    "    \"\"\"\n",
    "    def __init__(self, freqs, sns):\n",
    "        from scipy.interpolate import interp1d\n",
    "        # Check lenght of arrays agree.\n",
    "        if len(freqs) != len(sns):\n",
    "            print('***class snLinInterp: error, arrays lengths disagree, len(freqs) ', len(freqs), ' and '\\\n",
    "                 'len(sns) is ', len(sns) )\n",
    "        else:\n",
    "        # Check for zero in each array.  Cannot use x[x>0] as usual, need arrays coordinated.\n",
    "            idrop = []\n",
    "            for ii in range(len(freqs)):\n",
    "                if freqs[ii] <= 0 or sns[ii] <= 0:\n",
    "                    idrop.append(ii)\n",
    "\n",
    "            self.freqs = np.delete(freqs,idrop)\n",
    "            self.sns = np.delete(sns, idrop)\n",
    "            self.logFreqs = np.log10(self.freqs)\n",
    "            self.logSns = np.log10(self.sns)\n",
    "            self.myInterp1D = interp1d(freqs, sns)  # Leave it linear for now. scipy.interpolate.\n",
    "            self.minFreq = np.min(self.freqs)\n",
    "            self.maxFreq = np.max(self.freqs)  # Can only interp between the values min freq and max.\n",
    "        \n",
    "    def __call__(self, uu):  # Checking for negatives and zeros is a pain, just do not do it for now!!\n",
    "        return( self.myInterp1D(uu) )"
   ]
  },
  {
   "cell_type": "code",
   "execution_count": null,
   "metadata": {},
   "outputs": [],
   "source": [
    "## Checks on the linear interpolator in the log-space.    "
   ]
  },
  {
   "cell_type": "code",
   "execution_count": null,
   "metadata": {},
   "outputs": [],
   "source": [
    "xx = np.linspace(0.1, 12.3, 20)\n",
    "yy = np.power(xx,4)\n",
    "snInterp = snLinInterp(xx, yy )  # Has the __call__ method, so makes a 1D function.\n",
    "xint = [3.33, 6.6, 11.11]\n",
    "yint = snInterp(xint)\n",
    "ax = plt.loglog(xx,yy,'ko-', xint, yint, 'bo')\n",
    "# set_title('Testing the linear interp in log-log space of the dep and indep variables.')\n",
    "print( 'Testing the linear interp in log-log space of the dep and indep variables.' )\n",
    "plt.show()\n",
    "\n",
    "# Test handling of the negatives and zero values!\n",
    "xx = np.linspace(-5.5, 12.3, 30)\n",
    "yy = np.power(xx,4)\n",
    "snInterp2 = snLinInterp(xx, yy) # trying negatives for x but all positives for y, should drop both values.\n",
    "\n",
    "xint = np.array([3.33, 6.6, 11.11])\n",
    "yint = snInterp(xint)\n",
    "plt.loglog(xx,yy,'ko-', xint, yint, 'bo')\n",
    "plt.show()\n",
    "plt.plot(xx,yy,'ko-', xint, yint, 'bo')\n",
    "plt.show()"
   ]
  },
  {
   "cell_type": "code",
   "execution_count": null,
   "metadata": {},
   "outputs": [],
   "source": [
    "mySnInterp = snLinInterp( xfreqs, yPSD )\n",
    "# To handle the really low frequency modes use the linear fit in the log-log space:\n",
    "# Larson formula for now.  From Mathematica GWExopSNR.nb\n",
    "#ssubn[freq_] := 0.1642*10^-48/freq^4\n",
    "#\n",
    "# Actually the fit in the python notebook for the left hand side of the S_n(f) from Larson's Sqrt[S_n(f)] \n",
    "# was TeXForm[f^-3.9946\\cdot 1.6421 \\cdot 10^-49]  .\n",
    "def ssubn(freq):\n",
    "    return( (0.1642e-48/freq**4) )\n",
    "\n",
    "# It is the sum over the modes.\n",
    "intTime = 1.0*secsYear  # Integration time in seconds.\n",
    "\n",
    "SNRCols = []\n",
    "for irow in range(len(aData) ):\n",
    "    freq0 = aData['freq0'].values[irow]\n",
    "    modes= aData['modes'].values[irow]\n",
    "    hhmodes = aData['hhmodes'].values[irow]\n",
    "    SNRSqSum = 0.0\n",
    "    for jmodes in range(len(modes) ):   # Calc the SQUARE of the SNR!\n",
    "        amode = modes[jmodes]\n",
    "        SNRSqSum += 2.0*intTime*hhmodes[jmodes]**2/ssubn(amode*freq0)\n",
    "#        SNRSqSum += 2.0*intTime*hhmodes[jmodes]**2/mySnInterp(amode*freq0)\n",
    "    SNRCols.append( np.sqrt(SNRSqSum) )\n",
    "        \n",
    "print('len(SNRCols) is ', len(SNRCols) )\n",
    "aData['SNR']=SNRCols\n",
    "print('len(aData) is ', len(aData) )\n",
    "    "
   ]
  },
  {
   "cell_type": "code",
   "execution_count": null,
   "metadata": {},
   "outputs": [],
   "source": []
  }
 ],
 "metadata": {
  "kernelspec": {
   "display_name": "Python 3",
   "language": "python",
   "name": "python3"
  },
  "language_info": {
   "codemirror_mode": {
    "name": "ipython",
    "version": 3
   },
   "file_extension": ".py",
   "mimetype": "text/x-python",
   "name": "python",
   "nbconvert_exporter": "python",
   "pygments_lexer": "ipython3",
   "version": "3.6.5"
  }
 },
 "nbformat": 4,
 "nbformat_minor": 2
}

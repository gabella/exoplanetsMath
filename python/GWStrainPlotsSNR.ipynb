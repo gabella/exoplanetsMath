{
 "cells": [
  {
   "cell_type": "markdown",
   "metadata": {},
   "source": [
    "# Calculate the GW modes for each exoplanet that has the needed parameters in the dbase."
   ]
  },
  {
   "cell_type": "code",
   "execution_count": 1,
   "metadata": {},
   "outputs": [],
   "source": [
    "# Started WEG  20180320. \n",
    "# See the gwtools.py which has utility and strain functions in it\n",
    "# and ExopDBase notebook that can download a new csv exop database."
   ]
  },
  {
   "cell_type": "markdown",
   "metadata": {},
   "source": [
    "# References\n",
    "P. Amaro-Seoane et al. \"Triplets of supermassive black holes: astrophysics, gravitational waves and detection,\" MNRAS 402 2308-2320 (2010).\n",
    "\n",
    "P. C. Peters and J. Mathews, \"Gravitational Radiation from Point Masses in a Keplerian Orbit,\" Phys. Rev. 131 (1963) 435-440.\n",
    "\n",
    "Michele Maggiore, \"Gravitational Waves. Volume 1: Theory and Experiments,\" Oxford Univ. Press, 2008.\n",
    "\n",
    "Shane Larson, \"Sensitivity Curves for ...\"  http://www.srl.caltech.edu/~shane/sensitivity/\n",
    "\n",
    "Neil Cornish and Travis Robson, \"The construction and use of LISA sensitivy curves,\" https://arxiv.org/abs/1803.01944"
   ]
  },
  {
   "cell_type": "code",
   "execution_count": 2,
   "metadata": {},
   "outputs": [],
   "source": [
    "import sys, os\n",
    "import numpy as np\n",
    "import urllib as ul\n",
    "import pandas as pd\n",
    "import gwTools as gwt\n",
    "import matplotlib.pyplot as plt\n",
    "%matplotlib inline\n",
    "import scipy as sp\n",
    "import scipy.interpolate as spint"
   ]
  },
  {
   "cell_type": "markdown",
   "metadata": {},
   "source": [
    "# CalTech Exop Database (from ExopDBase notebook)"
   ]
  },
  {
   "cell_type": "markdown",
   "metadata": {},
   "source": [
    "## Update or not from the CalTech database.  Directories for the dbase and to save plots."
   ]
  },
  {
   "cell_type": "code",
   "execution_count": 3,
   "metadata": {},
   "outputs": [],
   "source": [
    "thisDir = os.getcwd()  # This is the /python subdirectory.\n",
    "csvDir = thisDir + '/../dbases/'  # Will the /../ work on non-Unices?\n",
    "pixDir = thisDir + '/../pix/'"
   ]
  },
  {
   "cell_type": "markdown",
   "metadata": {},
   "source": [
    "## Search string, might want RA and DEC also."
   ]
  },
  {
   "cell_type": "code",
   "execution_count": 4,
   "metadata": {},
   "outputs": [],
   "source": [
    "# The search URL and search string/request. \n",
    "exopURL = \\\n",
    "  \"https://exoplanetarchive.ipac.caltech.edu/cgi-bin/nstedAPI/nph-\\\n",
    "nstedAPI?\" ;\n",
    "\n",
    "#searchString = \\\n",
    "#\"table=exoplanets&select=pl_hostname,ra,dec&order=dec&format=CSV\";*)\n",
    "\n",
    "# The Below does NOT have right ascension and declination.  Will likely want them for further work.\n",
    "# Can add later in its own Panda dataframe and/or merge into the main one in GWStrainPlotsSNR.\n",
    "# variables come from NASA Exoplanet Archive, the keywords are defined here: \n",
    "#https://exoplanetarchive.ipac.caltech.edu/docs/API_exoplanet_columns.html \n",
    "searchString = \\\n",
    "  \"table=exoplanets&select=pl_hostname,pl_letter,pl_discmethod,pl_\\\n",
    "orbper,pl_orbsmax,pl_orbeccen,pl_bmassj,st_dist,st_mass,rowupdate,st_\\\n",
    "plx&order=dec&format=CSV\";"
   ]
  },
  {
   "cell_type": "markdown",
   "metadata": {},
   "source": [
    "## Flags for fresh import and for saving the CSV file."
   ]
  },
  {
   "cell_type": "code",
   "execution_count": 5,
   "metadata": {},
   "outputs": [],
   "source": [
    "# Set to True to re-read the EXop Dbase from Caltech.  False to use csvFname below.\n",
    "newImport = False;\n",
    "#newImport = False;\n",
    "saveFile = True;# Future work, when we do NOT want an intermediate file here would set to False, but needs coding.\n",
    "#saveFile = False;"
   ]
  },
  {
   "cell_type": "code",
   "execution_count": 6,
   "metadata": {},
   "outputs": [],
   "source": [
    "# csv file below was downloaded earlier with code below.  newImport = False to use it.  Or new csv will be\n",
    "# created.  This takes a few seconds.\n",
    "csvFileName = csvDir + 'exopP_20180408_141319.csv'  \n",
    "if newImport and saveFile:\n",
    "    myDateTimeStamp = gwt.dateTimeStamp()  # See the gwtools.py file with this and other functions in it.\n",
    "    csvFileName = csvDir + 'exopP_' + myDateTimeStamp + '.csv'\n",
    "    ofile = open(csvFname, 'w')\n",
    "    with ul.request.urlopen(exopURL + searchString) as response:\n",
    "        for aline in response:\n",
    "            ofile.write( aline.decode('utf-8') )  # byte-string needs to be decoded. utf-8 is common encoding\n",
    "    ofile.close()\n",
    "    print('Saved database file ' + csvFileName)\n"
   ]
  },
  {
   "cell_type": "markdown",
   "metadata": {},
   "source": [
    "## Read the CSV file and drop the rows/exops with NaN in the important fields.  See ExopDBase.ipynb and re-run it for updating the dbase."
   ]
  },
  {
   "cell_type": "code",
   "execution_count": 7,
   "metadata": {},
   "outputs": [
    {
     "name": "stdout",
     "output_type": "stream",
     "text": [
      "Using database file /home/gabella/Documents/astro/exop/exoplanetsMath/python/../dbases/exopP_20180408_141319.csv\n",
      "pl_hostname,pl_letter,pl_discmethod,pl_orbper,pl_orbsmax,pl_orbeccen,pl_bmassj,st_dist,st_mass,rowupdate,st_plx\n",
      " \n",
      " HD 142022 A,b,Radial Velocity,1928.00000000,3.030000,0.530000,5.10000,35.87,0.99,2014-05-14,27.88\n",
      "\n"
     ]
    }
   ],
   "source": [
    "print('Using database file ' + csvFileName)\n",
    "with open(csvFileName, 'r') as ifile:\n",
    "    print(ifile.readline(), '\\n', ifile.readline() )  #Print a couple of lines and reset the pointer.\n",
    "\n",
    "    ifile.seek(0);\n",
    "\n",
    "    dbData = pd.read_csv(ifile)  # Read in the whole file to a Panda Dataframe, handles NaN's nicely, see below.\n",
    "    #ifile.close()  # Should close when you leave the \"with.\""
   ]
  },
  {
   "cell_type": "code",
   "execution_count": 8,
   "metadata": {},
   "outputs": [
    {
     "data": {
      "text/html": [
       "<div>\n",
       "<style scoped>\n",
       "    .dataframe tbody tr th:only-of-type {\n",
       "        vertical-align: middle;\n",
       "    }\n",
       "\n",
       "    .dataframe tbody tr th {\n",
       "        vertical-align: top;\n",
       "    }\n",
       "\n",
       "    .dataframe thead th {\n",
       "        text-align: right;\n",
       "    }\n",
       "</style>\n",
       "<table border=\"1\" class=\"dataframe\">\n",
       "  <thead>\n",
       "    <tr style=\"text-align: right;\">\n",
       "      <th></th>\n",
       "      <th>pl_hostname</th>\n",
       "      <th>pl_letter</th>\n",
       "      <th>pl_discmethod</th>\n",
       "      <th>pl_orbper</th>\n",
       "      <th>pl_orbsmax</th>\n",
       "      <th>pl_orbeccen</th>\n",
       "      <th>pl_bmassj</th>\n",
       "      <th>st_dist</th>\n",
       "      <th>st_mass</th>\n",
       "      <th>rowupdate</th>\n",
       "      <th>st_plx</th>\n",
       "    </tr>\n",
       "  </thead>\n",
       "  <tbody>\n",
       "    <tr>\n",
       "      <th>0</th>\n",
       "      <td>HD 142022 A</td>\n",
       "      <td>b</td>\n",
       "      <td>Radial Velocity</td>\n",
       "      <td>1928.000000</td>\n",
       "      <td>3.0300</td>\n",
       "      <td>0.5300</td>\n",
       "      <td>5.100</td>\n",
       "      <td>35.87</td>\n",
       "      <td>0.99</td>\n",
       "      <td>2014-05-14</td>\n",
       "      <td>27.88</td>\n",
       "    </tr>\n",
       "    <tr>\n",
       "      <th>1</th>\n",
       "      <td>HD 39091</td>\n",
       "      <td>b</td>\n",
       "      <td>Radial Velocity</td>\n",
       "      <td>2151.000000</td>\n",
       "      <td>3.3800</td>\n",
       "      <td>0.6405</td>\n",
       "      <td>10.270</td>\n",
       "      <td>18.21</td>\n",
       "      <td>1.10</td>\n",
       "      <td>2014-07-23</td>\n",
       "      <td>54.92</td>\n",
       "    </tr>\n",
       "    <tr>\n",
       "      <th>2</th>\n",
       "      <td>HD 137388 A</td>\n",
       "      <td>b</td>\n",
       "      <td>Radial Velocity</td>\n",
       "      <td>330.000000</td>\n",
       "      <td>0.8900</td>\n",
       "      <td>0.3600</td>\n",
       "      <td>0.223</td>\n",
       "      <td>38.45</td>\n",
       "      <td>0.86</td>\n",
       "      <td>2014-05-14</td>\n",
       "      <td>26.01</td>\n",
       "    </tr>\n",
       "    <tr>\n",
       "      <th>3</th>\n",
       "      <td>GJ 3021</td>\n",
       "      <td>b</td>\n",
       "      <td>Radial Velocity</td>\n",
       "      <td>133.710000</td>\n",
       "      <td>0.4900</td>\n",
       "      <td>0.5110</td>\n",
       "      <td>3.370</td>\n",
       "      <td>17.62</td>\n",
       "      <td>0.90</td>\n",
       "      <td>2014-05-14</td>\n",
       "      <td>56.76</td>\n",
       "    </tr>\n",
       "    <tr>\n",
       "      <th>4</th>\n",
       "      <td>HD 63454</td>\n",
       "      <td>b</td>\n",
       "      <td>Radial Velocity</td>\n",
       "      <td>2.818049</td>\n",
       "      <td>0.0368</td>\n",
       "      <td>0.0000</td>\n",
       "      <td>0.398</td>\n",
       "      <td>35.80</td>\n",
       "      <td>0.84</td>\n",
       "      <td>2015-03-26</td>\n",
       "      <td>27.93</td>\n",
       "    </tr>\n",
       "    <tr>\n",
       "      <th>5</th>\n",
       "      <td>HD 212301</td>\n",
       "      <td>b</td>\n",
       "      <td>Radial Velocity</td>\n",
       "      <td>2.245715</td>\n",
       "      <td>0.0360</td>\n",
       "      <td>0.0000</td>\n",
       "      <td>0.450</td>\n",
       "      <td>52.72</td>\n",
       "      <td>1.27</td>\n",
       "      <td>2014-05-14</td>\n",
       "      <td>18.97</td>\n",
       "    </tr>\n",
       "    <tr>\n",
       "      <th>6</th>\n",
       "      <td>CHXR 73</td>\n",
       "      <td>b</td>\n",
       "      <td>Imaging</td>\n",
       "      <td>NaN</td>\n",
       "      <td>210.0000</td>\n",
       "      <td>NaN</td>\n",
       "      <td>12.569</td>\n",
       "      <td>NaN</td>\n",
       "      <td>0.35</td>\n",
       "      <td>2014-05-14</td>\n",
       "      <td>NaN</td>\n",
       "    </tr>\n",
       "    <tr>\n",
       "      <th>7</th>\n",
       "      <td>CT Cha</td>\n",
       "      <td>b</td>\n",
       "      <td>Imaging</td>\n",
       "      <td>NaN</td>\n",
       "      <td>440.0000</td>\n",
       "      <td>NaN</td>\n",
       "      <td>17.000</td>\n",
       "      <td>165.00</td>\n",
       "      <td>NaN</td>\n",
       "      <td>2014-05-14</td>\n",
       "      <td>NaN</td>\n",
       "    </tr>\n",
       "    <tr>\n",
       "      <th>8</th>\n",
       "      <td>HD 196067</td>\n",
       "      <td>b</td>\n",
       "      <td>Radial Velocity</td>\n",
       "      <td>3638.000000</td>\n",
       "      <td>5.0200</td>\n",
       "      <td>0.6600</td>\n",
       "      <td>6.900</td>\n",
       "      <td>43.57</td>\n",
       "      <td>1.29</td>\n",
       "      <td>2014-05-14</td>\n",
       "      <td>22.95</td>\n",
       "    </tr>\n",
       "    <tr>\n",
       "      <th>9</th>\n",
       "      <td>HD 68402</td>\n",
       "      <td>b</td>\n",
       "      <td>Radial Velocity</td>\n",
       "      <td>1103.000000</td>\n",
       "      <td>2.1800</td>\n",
       "      <td>0.0300</td>\n",
       "      <td>3.070</td>\n",
       "      <td>78.00</td>\n",
       "      <td>1.12</td>\n",
       "      <td>2016-11-10</td>\n",
       "      <td>12.82</td>\n",
       "    </tr>\n",
       "  </tbody>\n",
       "</table>\n",
       "</div>"
      ],
      "text/plain": [
       "   pl_hostname pl_letter    pl_discmethod    pl_orbper  pl_orbsmax  \\\n",
       "0  HD 142022 A         b  Radial Velocity  1928.000000      3.0300   \n",
       "1     HD 39091         b  Radial Velocity  2151.000000      3.3800   \n",
       "2  HD 137388 A         b  Radial Velocity   330.000000      0.8900   \n",
       "3      GJ 3021         b  Radial Velocity   133.710000      0.4900   \n",
       "4     HD 63454         b  Radial Velocity     2.818049      0.0368   \n",
       "5    HD 212301         b  Radial Velocity     2.245715      0.0360   \n",
       "6      CHXR 73         b          Imaging          NaN    210.0000   \n",
       "7       CT Cha         b          Imaging          NaN    440.0000   \n",
       "8    HD 196067         b  Radial Velocity  3638.000000      5.0200   \n",
       "9     HD 68402         b  Radial Velocity  1103.000000      2.1800   \n",
       "\n",
       "   pl_orbeccen  pl_bmassj  st_dist  st_mass   rowupdate  st_plx  \n",
       "0       0.5300      5.100    35.87     0.99  2014-05-14   27.88  \n",
       "1       0.6405     10.270    18.21     1.10  2014-07-23   54.92  \n",
       "2       0.3600      0.223    38.45     0.86  2014-05-14   26.01  \n",
       "3       0.5110      3.370    17.62     0.90  2014-05-14   56.76  \n",
       "4       0.0000      0.398    35.80     0.84  2015-03-26   27.93  \n",
       "5       0.0000      0.450    52.72     1.27  2014-05-14   18.97  \n",
       "6          NaN     12.569      NaN     0.35  2014-05-14     NaN  \n",
       "7          NaN     17.000   165.00      NaN  2014-05-14     NaN  \n",
       "8       0.6600      6.900    43.57     1.29  2014-05-14   22.95  \n",
       "9       0.0300      3.070    78.00     1.12  2016-11-10   12.82  "
      ]
     },
     "execution_count": 8,
     "metadata": {},
     "output_type": "execute_result"
    }
   ],
   "source": [
    "dbData.head(10)  # NaN's show up when the field has no data.  Need both masses, eccentricity, semimajor axis, \n",
    "# and distance."
   ]
  },
  {
   "cell_type": "markdown",
   "metadata": {},
   "source": [
    "## Drop the exops/rows with NaN (missing values) in the following fields: \n",
    "### pl_orbeccen (eccentricity), pl_orbper (orbital period), pl_obsmax (semimajor axis), pl_bmassj (planet mass), st_dist (distance to host star), st_mass (stellar mass)"
   ]
  },
  {
   "cell_type": "code",
   "execution_count": 9,
   "metadata": {},
   "outputs": [
    {
     "name": "stdout",
     "output_type": "stream",
     "text": [
      "Length all data, dbData  3711\n",
      "Length with pl_orbeccen\t 1172\n",
      "Length with pl_orbper\t 1172\n",
      "Length with pl_orbsmax\t 1107\n",
      "Length with pl_bmassj\t 1027\n",
      "Length with st_dist\t 920\n",
      "Length with st_mass\t 910\n"
     ]
    }
   ],
   "source": [
    "# {\"pl_hostname\", \"pl_letter\", \"pl_discmethod\", \"pl_orbper\", \\\n",
    "# \"pl_orbsmax\", \"pl_orbeccen\", \"pl_bmassj\", \"st_dist\", \"st_mass\", \\\n",
    "# \"rowupdate\", \"st_plx\"}\n",
    "print('Length all data, dbData ', len(dbData) )\n",
    "aData = dbData.dropna(axis = 0, how = 'any', subset = ['pl_orbeccen'])\n",
    "print('Length with pl_orbeccen\\t', len(aData) )\n",
    "\n",
    "aData = aData.dropna(axis = 0, how = 'any', subset = ['pl_orbper'])\n",
    "print('Length with pl_orbper\\t', len(aData) )\n",
    "\n",
    "aData = aData.dropna(axis = 0, how = 'any', subset = ['pl_orbsmax'])\n",
    "print('Length with pl_orbsmax\\t', len(aData) )\n",
    "\n",
    "aData = aData.dropna(axis = 0, how = 'any', subset = ['pl_bmassj'])\n",
    "print('Length with pl_bmassj\\t', len(aData) )\n",
    "\n",
    "aData = aData.dropna(axis = 0, how = 'any', subset = ['st_dist'])\n",
    "print('Length with st_dist\\t', len(aData) )\n",
    "\n",
    "aData = aData.dropna(axis = 0, how = 'any', subset = ['st_mass'])\n",
    "print('Length with st_mass\\t', len(aData) )"
   ]
  },
  {
   "cell_type": "markdown",
   "metadata": {},
   "source": [
    "##  So aData is the working exoplanet data frame after filtering, as a Panda DataFrame.  Later should consider filling in missing data with Kepler or other calculations."
   ]
  },
  {
   "cell_type": "markdown",
   "metadata": {},
   "source": [
    "##  Physical Constants, made explicit here.  The CalTech exop dbase has an FAQ on the units they use for each parameter.  General URL https://exoplanetarchive.ipac.caltech.edu/ and the one for units under Support>Documentation>Table Column Definitions> Confirmed Planets  https://exoplanetarchive.ipac.caltech.edu/applications/DocSet/index.html?doctree=/docs/docmenu.xml&startdoc=1"
   ]
  },
  {
   "cell_type": "code",
   "execution_count": 10,
   "metadata": {
    "scrolled": true
   },
   "outputs": [
    {
     "name": "stdout",
     "output_type": "stream",
     "text": [
      "Compare my cee  299792458.0  and scipy.constants  299792458.0\n",
      "Compare my bigG  6.67408e-11  and scipy.constants  6.67408e-11\n"
     ]
    }
   ],
   "source": [
    "# Some scipy.constants for comparison mostly.\n",
    "from scipy.constants import speed_of_light, gravitational_constant, c, G, pi\n",
    "\n",
    "massSun = 1.989e30; #(*kg *)\n",
    "massJ = 1.898e27; #(* kg *)\n",
    "massE = 5.972e24; #(* kg *)\n",
    "massJe = massJ/massE; #(* Jupiter mass is 317.9 earth masses *)\n",
    "massJs = massJ/massSun; #(* relative to the sun's mass *)\n",
    "\n",
    "pc = 30.86e15; #(* meters, parsec *)\n",
    "au = 149.6e9; #(* meters, astron unit *)\n",
    "\n",
    "cee = 299792458.0; #(* meters/s, speed of light *)\n",
    "print('Compare my cee ', cee, ' and scipy.constants ', speed_of_light)\n",
    "cee = speed_of_light # Use the scipy.constants one.\n",
    "secsYear = 365.24*24.0*3600.0; #(* s, number of seconds in a year *) # What do astronomers use for this conversion?\n",
    "secsDay = 24.0*3600.0; #(* s, number of seconds in a day *)\n",
    "\n",
    "bigG = 6.67408e-11; #(* SI Gravitational constant, m^3/kg/s *)\n",
    "print('Compare my bigG ', bigG, ' and scipy.constants ', gravitational_constant)\n",
    "bigG = gravitational_constant\n",
    "\n",
    "rscon = 2*bigG*massSun/(cee*cee) #(* 2955.43 m, solar mass Scharzschild radius *)\n",
    "lunits = bigG*massSun/(cee*cee) #(* meters per solar mass, units of G=c=1, no factor\n",
    "#of 2 as in Schwarzschild radius *)\n",
    "masscon = lunits; #(* m, G Msol/c^2, for 1 solar mass *)\n",
    "powercon = cee**5/bigG  #(* 3.628e52 W, c^5/G, W/unit since P is dimensionless in G=c=1 units *)\n",
    "energycon = (cee**4)/bigG  #(* 1.210e44 J/m, c^4/G *)"
   ]
  },
  {
   "cell_type": "markdown",
   "metadata": {},
   "source": [
    "## Calculate GW amplitudes for each exoplanet...at Earth...assumes source z=0."
   ]
  },
  {
   "cell_type": "markdown",
   "metadata": {},
   "source": [
    "### Make a plot of the maximum strain mode number versus eccentricity.  This \"n-star\" is used to truncate the number of GW modes used.  The n-star is chosen such that  g(n-star, e) = 0.05 , note that  g(2,e=0) = 1 and the maximum goes up from there.  Also for small eccentricities but e$\\ne$0, always use modeset [1,2,3], though n=2 is the strongest usually.  For e=0, use just modeset [2]."
   ]
  },
  {
   "cell_type": "markdown",
   "metadata": {},
   "source": [
    "### Fit and Check of Fit for n-star(eccentricity)."
   ]
  },
  {
   "cell_type": "code",
   "execution_count": 11,
   "metadata": {},
   "outputs": [
    {
     "name": "stdout",
     "output_type": "stream",
     "text": [
      "n-star(ecc) comes from a fit done in mathematica, see gwtools.py, aNmax(ecc) function.\n"
     ]
    },
    {
     "data": {
      "image/png": "[encoded data removed]",
      "text/plain": [
       "<matplotlib.figure.Figure at 0x7f9b68980dd8>"
      ]
     },
     "metadata": {},
     "output_type": "display_data"
    }
   ],
   "source": [
    "print('n-star(ecc) comes from a fit done in mathematica, see gwtools.py, aNmax(ecc) function.')\n",
    "ecc = np.linspace(0., 0.99, 50)\n",
    "nstar = [ gwt.aNmax(uu) for uu in ecc ]\n",
    "plt.figure( figsize=(8,6) )\n",
    "plt.plot(ecc, nstar, 'k-')\n",
    "plt.title('The n-star, where the g(n,e) curve\\n comes back to the value 0.05.');\n",
    "plt.grid(True)"
   ]
  },
  {
   "cell_type": "markdown",
   "metadata": {},
   "source": [
    "### Check the above function for some eccentricity by plotting $g(n,e)$ versus $0.05$ . "
   ]
  },
  {
   "cell_type": "code",
   "execution_count": 12,
   "metadata": {},
   "outputs": [
    {
     "name": "stdout",
     "output_type": "stream",
     "text": [
      "For example, look at the g(n,e) curve for ecc =  0.9\n",
      "The n-star is  216.0\n",
      "max is  17.395364810603994\n"
     ]
    },
    {
     "data": {
      "image/png": "[encoded data removed]",
      "text/plain": [
       "<matplotlib.figure.Figure at 0x7f9b68914908>"
      ]
     },
     "metadata": {},
     "output_type": "display_data"
    },
    {
     "data": {
      "image/png": "[encoded data removed]",
      "text/plain": [
       "<matplotlib.figure.Figure at 0x7f9b68907208>"
      ]
     },
     "metadata": {},
     "output_type": "display_data"
    }
   ],
   "source": [
    "ecc = 0.9 # Eccentricity\n",
    "print('For example, look at the g(n,e) curve for ecc = ', ecc)\n",
    "print('The n-star is ', gwt.aNmax(ecc) )\n",
    "#\n",
    "# full g(n,e) curve\n",
    "#\n",
    "mmin = 1\n",
    "mmax = 250\n",
    "modes = np.linspace(mmin,mmax,50)\n",
    "gne = gwt.ggSimp(modes, ecc)\n",
    "\n",
    "plt.plot(modes, gne, 'k-')\n",
    "# The line at 1/20th max is...\n",
    "yval = 0.05\n",
    "print('max is ', np.max( gne ) )\n",
    "\n",
    "plt.plot( [mmin, mmax], [yval, yval], 'b-')\n",
    "plt.grid(True)\n",
    "plt.title('ecc = %.2f, g(n,e), and line at 0.05 '%(ecc) )\n",
    "plt.show()\n",
    "#\n",
    "# close up\n",
    "#\n",
    "mmin = 200\n",
    "mmax = 250\n",
    "modes = np.linspace(mmin,mmax,50)\n",
    "gne = gwt.ggSimp(modes, ecc)\n",
    "\n",
    "plt.plot(modes, gne, 'k-')\n",
    "plt.grid(True)\n",
    "# The line at 1/20th max is...\n",
    "yval = 0.05\n",
    "\n",
    "plt.plot( [mmin, mmax], [yval, yval], 'b-')\n",
    "plt.title('ecc = %.2f, g(n,e), and line at 0.05 '%(ecc) )\n",
    "plt.text(215,0.06,'n-star');"
   ]
  },
  {
   "cell_type": "markdown",
   "metadata": {},
   "source": [
    "## Create a numpy array of GW strain amplitudes for that planet and append to the table."
   ]
  },
  {
   "cell_type": "markdown",
   "metadata": {},
   "source": [
    "Using the formula from Amaro-Seoane et al. reference, Eqn. (9)\n",
    "$$ h_{n} = 2 \\sqrt{\\frac{32}{5}} \\frac{ {\\frak M}^{5/3} }{{\\mathbf n}\\,d_{L}} \\big( 2\\pi f_{r} \\big) \\sqrt{ \\mathbf {g(n,e)} }$$\n",
    "where $e$ is the eccentricity, $n$ is the mode number, ${\\frak M}$ is the chirp mass $M_{1}^{3/5}M_{2}^{3/5}/(M_{1}+M_{2})^{1/5}$, $d = d_{L}/(1+z)$, and $f_{r}$ is the orbital frequency, so the mode frequency is $f = f_{r}\\,n$ for $n=(1,2,3...)$.  I like the chirp mass as $\\mu^{3/5} M^{2/5}$ with reduced mass $\\mu$ and total mass $M$ for the binary.\n",
    "\n",
    "The above is found in gwtools.py as  hh(nn, ee, m1, m2, a, dL).\n",
    "\n",
    "Does not render the above perfectly.  Looks like a font problem on the square root.  Otherwise okay."
   ]
  },
  {
   "cell_type": "code",
   "execution_count": 13,
   "metadata": {},
   "outputs": [
    {
     "name": "stdout",
     "output_type": "stream",
     "text": [
      "Help on function hh in module gwTools:\n",
      "\n",
      "hh(nn, ee, m1, m2, a, dL)\n",
      "    From Amaro-Seoane et al. 2010, the GW amplitude for GW mode nn in units of\n",
      "    the orbital frequency, eccentricity ee, binary masses m1 and m2, \n",
      "    semi-major axis a, and distance to source dL.  Use SI units.\n",
      "    Returns the GW amplitude for that frequency mode.\n",
      "    Amaro-Seoane et al. Eqn. (9), refs Finn and Thorne 2000.\n",
      "\n",
      "Help on function orbitalFreq in module gwTools:\n",
      "\n",
      "orbitalFreq(m1, m2, a)\n",
      "    Given two masses, m1 and m2, and the semimajor axis a,\n",
      "    return the orbital frequency in Hz from Kepler relations.\n",
      "\n"
     ]
    }
   ],
   "source": [
    "help(gwt.hh)  # I do not use this below!!\n",
    "help(gwt.orbitalFreq)"
   ]
  },
  {
   "cell_type": "code",
   "execution_count": 14,
   "metadata": {},
   "outputs": [
    {
     "data": {
      "text/html": [
       "<div>\n",
       "<style scoped>\n",
       "    .dataframe tbody tr th:only-of-type {\n",
       "        vertical-align: middle;\n",
       "    }\n",
       "\n",
       "    .dataframe tbody tr th {\n",
       "        vertical-align: top;\n",
       "    }\n",
       "\n",
       "    .dataframe thead th {\n",
       "        text-align: right;\n",
       "    }\n",
       "</style>\n",
       "<table border=\"1\" class=\"dataframe\">\n",
       "  <thead>\n",
       "    <tr style=\"text-align: right;\">\n",
       "      <th></th>\n",
       "      <th>pl_hostname</th>\n",
       "      <th>pl_letter</th>\n",
       "      <th>pl_discmethod</th>\n",
       "      <th>pl_orbper</th>\n",
       "      <th>pl_orbsmax</th>\n",
       "      <th>pl_orbeccen</th>\n",
       "      <th>pl_bmassj</th>\n",
       "      <th>st_dist</th>\n",
       "      <th>st_mass</th>\n",
       "      <th>rowupdate</th>\n",
       "      <th>st_plx</th>\n",
       "    </tr>\n",
       "  </thead>\n",
       "  <tbody>\n",
       "    <tr>\n",
       "      <th>0</th>\n",
       "      <td>HD 142022 A</td>\n",
       "      <td>b</td>\n",
       "      <td>Radial Velocity</td>\n",
       "      <td>1928.00</td>\n",
       "      <td>3.03</td>\n",
       "      <td>0.5300</td>\n",
       "      <td>5.100</td>\n",
       "      <td>35.87</td>\n",
       "      <td>0.99</td>\n",
       "      <td>2014-05-14</td>\n",
       "      <td>27.88</td>\n",
       "    </tr>\n",
       "    <tr>\n",
       "      <th>1</th>\n",
       "      <td>HD 39091</td>\n",
       "      <td>b</td>\n",
       "      <td>Radial Velocity</td>\n",
       "      <td>2151.00</td>\n",
       "      <td>3.38</td>\n",
       "      <td>0.6405</td>\n",
       "      <td>10.270</td>\n",
       "      <td>18.21</td>\n",
       "      <td>1.10</td>\n",
       "      <td>2014-07-23</td>\n",
       "      <td>54.92</td>\n",
       "    </tr>\n",
       "    <tr>\n",
       "      <th>2</th>\n",
       "      <td>HD 137388 A</td>\n",
       "      <td>b</td>\n",
       "      <td>Radial Velocity</td>\n",
       "      <td>330.00</td>\n",
       "      <td>0.89</td>\n",
       "      <td>0.3600</td>\n",
       "      <td>0.223</td>\n",
       "      <td>38.45</td>\n",
       "      <td>0.86</td>\n",
       "      <td>2014-05-14</td>\n",
       "      <td>26.01</td>\n",
       "    </tr>\n",
       "    <tr>\n",
       "      <th>3</th>\n",
       "      <td>GJ 3021</td>\n",
       "      <td>b</td>\n",
       "      <td>Radial Velocity</td>\n",
       "      <td>133.71</td>\n",
       "      <td>0.49</td>\n",
       "      <td>0.5110</td>\n",
       "      <td>3.370</td>\n",
       "      <td>17.62</td>\n",
       "      <td>0.90</td>\n",
       "      <td>2014-05-14</td>\n",
       "      <td>56.76</td>\n",
       "    </tr>\n",
       "  </tbody>\n",
       "</table>\n",
       "</div>"
      ],
      "text/plain": [
       "   pl_hostname pl_letter    pl_discmethod  pl_orbper  pl_orbsmax  pl_orbeccen  \\\n",
       "0  HD 142022 A         b  Radial Velocity    1928.00        3.03       0.5300   \n",
       "1     HD 39091         b  Radial Velocity    2151.00        3.38       0.6405   \n",
       "2  HD 137388 A         b  Radial Velocity     330.00        0.89       0.3600   \n",
       "3      GJ 3021         b  Radial Velocity     133.71        0.49       0.5110   \n",
       "\n",
       "   pl_bmassj  st_dist  st_mass   rowupdate  st_plx  \n",
       "0      5.100    35.87     0.99  2014-05-14   27.88  \n",
       "1     10.270    18.21     1.10  2014-07-23   54.92  \n",
       "2      0.223    38.45     0.86  2014-05-14   26.01  \n",
       "3      3.370    17.62     0.90  2014-05-14   56.76  "
      ]
     },
     "execution_count": 14,
     "metadata": {},
     "output_type": "execute_result"
    }
   ],
   "source": [
    "aData.head(4)  # To see the headers:)  Just a reminder."
   ]
  },
  {
   "cell_type": "markdown",
   "metadata": {},
   "source": [
    "### Explicitly use Amaro-Seoane et al. Eqn (9), so that we can see it.  Do NOT use gwt.hh().  Note the physical constants are back, $G^{5/3}/c^{4}$ to make it dimensionless when we use SI units for all the other parameters."
   ]
  },
  {
   "cell_type": "code",
   "execution_count": 15,
   "metadata": {},
   "outputs": [
    {
     "name": "stdout",
     "output_type": "stream",
     "text": [
      "irow is  7  ,frontCoeff is  4.6311021600204593e-26  pl_orbeccen is  0.03\n",
      "irow is  8  ,frontCoeff is  2.169114619938696e-26  pl_orbeccen is  0.41\n",
      "irow is  9  ,frontCoeff is  2.5108674723286658e-25  pl_orbeccen is  0.638\n"
     ]
    }
   ],
   "source": [
    "# Actually append n_min, n_max, numpy array of GW strains h.\n",
    "# In the Mathematica JustStrainPlots.nb, about 40% down, calc hhVfreq first time.\n",
    "\n",
    "hhmodesCol = []  # Setup a list of the hhmodes that will be appended to the dataframe.\n",
    "modesCol = []    # The modes set acually used for the calculation, int(modeMin) to int(modeMax)+1\n",
    "freq0Col = []    # Collect the orbital frequency that was used.\n",
    "\n",
    "for irow in range(len(aData)):\n",
    "    # Calculate the SI parameters needed by the strains and the strain \"front coefficient.\"\n",
    "    \n",
    "    orbeccen = aData['pl_orbeccen'].values[irow]\n",
    "    modeMax = gwt.aNmax( orbeccen )  # The \"max\" mode number where g(n,e) returns to 1/20th its peak value.\n",
    "    modeMin = gwt.aNmin( orbeccen )  # Either 1 for e>0 or 2 for e=0.\n",
    "    #\n",
    "    m1 = aData['pl_bmassj'].values[irow]*massJ\n",
    "    m2 = aData['st_mass'].values[irow]*massSun\n",
    "    smax = aData['pl_orbsmax'].values[irow]*au\n",
    "    dL = aData['st_dist'].values[irow]*pc\n",
    "    freq0 = 1.0/( aData['pl_orbper'].values[irow]*secsDay )\n",
    "    # Amaro-Seoane Eqn. (9)...common terms.\n",
    "    frontCoeff = np.power(bigG,5/3.)/cee**4 * 2 * np.sqrt(32/5.) * np.power( gwt.chirpM(m1,m2), 5/3.)*\\\n",
    "    np.power((2*np.pi*freq0), 2/3.)/dL\n",
    "    if irow > 6 and irow < 10:\n",
    "        print('irow is ', irow, ' ,frontCoeff is ', frontCoeff, ' pl_orbeccen is ', orbeccen)\n",
    "\n",
    "    # Now loop over the GW modes and calc the dim-less strain and the modes used.\n",
    "    hhmodes = [ frontCoeff* np.sqrt( gwt.ggSimp(uu, orbeccen) )/uu for uu in range(int(modeMin), int(modeMax)+1)  ]\n",
    "    modes = [ uu for uu in range(int(modeMin), int(modeMax)+1)  ]\n",
    "    \n",
    "    # Append to the list.\n",
    "    hhmodesCol.append( hhmodes )\n",
    "    modesCol.append( modes )\n",
    "    freq0Col.append( freq0 )\n",
    "        "
   ]
  },
  {
   "cell_type": "code",
   "execution_count": 16,
   "metadata": {},
   "outputs": [
    {
     "name": "stdout",
     "output_type": "stream",
     "text": [
      "15\n",
      "[1.8702816437643177e-26, 2.1740658908129503e-26, 2.882158933335889e-26, 2.664860375595358e-26, 2.1935963182104775e-26, 1.7069345750672433e-26, 1.2854210432619556e-26, 9.475882743564367e-27, 6.882115822891534e-27, 4.9437540797700044e-27, 3.5216043707537875e-27, 2.4919659046939435e-27, 1.7539322636285046e-27, 1.2290258111169294e-27, 8.58019444780923e-28]\n",
      "[1, 2, 3, 4, 5, 6, 7, 8, 9, 10, 11, 12, 13, 14, 15]\n"
     ]
    }
   ],
   "source": [
    "# Check there is stuff in there.\n",
    "print( len(hhmodesCol[0] ) )\n",
    "print( hhmodesCol[0] )\n",
    "print( modesCol[0] )"
   ]
  },
  {
   "cell_type": "code",
   "execution_count": 17,
   "metadata": {},
   "outputs": [],
   "source": [
    "#Append the hhmodesCol to the dataframe, for ease of getting at the other attributes.\n",
    "aData['freq0'] = freq0Col\n",
    "aData['modes'] = modesCol\n",
    "aData['hhmodes'] = hhmodesCol"
   ]
  },
  {
   "cell_type": "code",
   "execution_count": 18,
   "metadata": {},
   "outputs": [
    {
     "data": {
      "text/html": [
       "<div>\n",
       "<style scoped>\n",
       "    .dataframe tbody tr th:only-of-type {\n",
       "        vertical-align: middle;\n",
       "    }\n",
       "\n",
       "    .dataframe tbody tr th {\n",
       "        vertical-align: top;\n",
       "    }\n",
       "\n",
       "    .dataframe thead th {\n",
       "        text-align: right;\n",
       "    }\n",
       "</style>\n",
       "<table border=\"1\" class=\"dataframe\">\n",
       "  <thead>\n",
       "    <tr style=\"text-align: right;\">\n",
       "      <th></th>\n",
       "      <th>pl_hostname</th>\n",
       "      <th>pl_letter</th>\n",
       "      <th>pl_discmethod</th>\n",
       "      <th>pl_orbper</th>\n",
       "      <th>pl_orbsmax</th>\n",
       "      <th>pl_orbeccen</th>\n",
       "      <th>pl_bmassj</th>\n",
       "      <th>st_dist</th>\n",
       "      <th>st_mass</th>\n",
       "      <th>rowupdate</th>\n",
       "      <th>st_plx</th>\n",
       "      <th>freq0</th>\n",
       "      <th>modes</th>\n",
       "      <th>hhmodes</th>\n",
       "    </tr>\n",
       "  </thead>\n",
       "  <tbody>\n",
       "    <tr>\n",
       "      <th>0</th>\n",
       "      <td>HD 142022 A</td>\n",
       "      <td>b</td>\n",
       "      <td>Radial Velocity</td>\n",
       "      <td>1928.0</td>\n",
       "      <td>3.03</td>\n",
       "      <td>0.5300</td>\n",
       "      <td>5.100</td>\n",
       "      <td>35.87</td>\n",
       "      <td>0.99</td>\n",
       "      <td>2014-05-14</td>\n",
       "      <td>27.88</td>\n",
       "      <td>6.003150e-09</td>\n",
       "      <td>[1, 2, 3, 4, 5, 6, 7, 8, 9, 10, 11, 12, 13, 14...</td>\n",
       "      <td>[1.8702816437643177e-26, 2.1740658908129503e-2...</td>\n",
       "    </tr>\n",
       "    <tr>\n",
       "      <th>1</th>\n",
       "      <td>HD 39091</td>\n",
       "      <td>b</td>\n",
       "      <td>Radial Velocity</td>\n",
       "      <td>2151.0</td>\n",
       "      <td>3.38</td>\n",
       "      <td>0.6405</td>\n",
       "      <td>10.270</td>\n",
       "      <td>18.21</td>\n",
       "      <td>1.10</td>\n",
       "      <td>2014-07-23</td>\n",
       "      <td>54.92</td>\n",
       "      <td>5.380788e-09</td>\n",
       "      <td>[1, 2, 3, 4, 5, 6, 7, 8, 9, 10, 11, 12, 13, 14...</td>\n",
       "      <td>[8.230508420052954e-26, 4.507375225359441e-26,...</td>\n",
       "    </tr>\n",
       "    <tr>\n",
       "      <th>2</th>\n",
       "      <td>HD 137388 A</td>\n",
       "      <td>b</td>\n",
       "      <td>Radial Velocity</td>\n",
       "      <td>330.0</td>\n",
       "      <td>0.89</td>\n",
       "      <td>0.3600</td>\n",
       "      <td>0.223</td>\n",
       "      <td>38.45</td>\n",
       "      <td>0.86</td>\n",
       "      <td>2014-05-14</td>\n",
       "      <td>26.01</td>\n",
       "      <td>3.507295e-08</td>\n",
       "      <td>[1, 2, 3, 4, 5, 6, 7]</td>\n",
       "      <td>[1.6721119496253516e-27, 4.481574164761941e-27...</td>\n",
       "    </tr>\n",
       "  </tbody>\n",
       "</table>\n",
       "</div>"
      ],
      "text/plain": [
       "   pl_hostname pl_letter    pl_discmethod  pl_orbper  pl_orbsmax  pl_orbeccen  \\\n",
       "0  HD 142022 A         b  Radial Velocity     1928.0        3.03       0.5300   \n",
       "1     HD 39091         b  Radial Velocity     2151.0        3.38       0.6405   \n",
       "2  HD 137388 A         b  Radial Velocity      330.0        0.89       0.3600   \n",
       "\n",
       "   pl_bmassj  st_dist  st_mass   rowupdate  st_plx         freq0  \\\n",
       "0      5.100    35.87     0.99  2014-05-14   27.88  6.003150e-09   \n",
       "1     10.270    18.21     1.10  2014-07-23   54.92  5.380788e-09   \n",
       "2      0.223    38.45     0.86  2014-05-14   26.01  3.507295e-08   \n",
       "\n",
       "                                               modes  \\\n",
       "0  [1, 2, 3, 4, 5, 6, 7, 8, 9, 10, 11, 12, 13, 14...   \n",
       "1  [1, 2, 3, 4, 5, 6, 7, 8, 9, 10, 11, 12, 13, 14...   \n",
       "2                              [1, 2, 3, 4, 5, 6, 7]   \n",
       "\n",
       "                                             hhmodes  \n",
       "0  [1.8702816437643177e-26, 2.1740658908129503e-2...  \n",
       "1  [8.230508420052954e-26, 4.507375225359441e-26,...  \n",
       "2  [1.6721119496253516e-27, 4.481574164761941e-27...  "
      ]
     },
     "execution_count": 18,
     "metadata": {},
     "output_type": "execute_result"
    }
   ],
   "source": [
    "# Check that appending happened correctly.\n",
    "aData.head(3)"
   ]
  },
  {
   "cell_type": "markdown",
   "metadata": {},
   "source": [
    "### Make a plot of some high eccentricity planet and the modes to double check."
   ]
  },
  {
   "cell_type": "code",
   "execution_count": 19,
   "metadata": {},
   "outputs": [
    {
     "data": {
      "text/html": [
       "<div>\n",
       "<style scoped>\n",
       "    .dataframe tbody tr th:only-of-type {\n",
       "        vertical-align: middle;\n",
       "    }\n",
       "\n",
       "    .dataframe tbody tr th {\n",
       "        vertical-align: top;\n",
       "    }\n",
       "\n",
       "    .dataframe thead th {\n",
       "        text-align: right;\n",
       "    }\n",
       "</style>\n",
       "<table border=\"1\" class=\"dataframe\">\n",
       "  <thead>\n",
       "    <tr style=\"text-align: right;\">\n",
       "      <th></th>\n",
       "      <th>pl_hostname</th>\n",
       "      <th>pl_letter</th>\n",
       "      <th>pl_discmethod</th>\n",
       "      <th>pl_orbper</th>\n",
       "      <th>pl_orbsmax</th>\n",
       "      <th>pl_orbeccen</th>\n",
       "      <th>pl_bmassj</th>\n",
       "      <th>st_dist</th>\n",
       "      <th>st_mass</th>\n",
       "      <th>rowupdate</th>\n",
       "      <th>st_plx</th>\n",
       "      <th>freq0</th>\n",
       "      <th>modes</th>\n",
       "      <th>hhmodes</th>\n",
       "    </tr>\n",
       "  </thead>\n",
       "  <tbody>\n",
       "    <tr>\n",
       "      <th>304</th>\n",
       "      <td>HD 20782</td>\n",
       "      <td>b</td>\n",
       "      <td>Radial Velocity</td>\n",
       "      <td>597.0650</td>\n",
       "      <td>1.397</td>\n",
       "      <td>0.9560</td>\n",
       "      <td>1.43</td>\n",
       "      <td>35.50</td>\n",
       "      <td>1.02</td>\n",
       "      <td>2016-05-19</td>\n",
       "      <td>NaN</td>\n",
       "      <td>1.938495e-08</td>\n",
       "      <td>[1, 2, 3, 4, 5, 6, 7, 8, 9, 10, 11, 12, 13, 14...</td>\n",
       "      <td>[1.2814629622279826e-26, 9.037349908557032e-27...</td>\n",
       "    </tr>\n",
       "    <tr>\n",
       "      <th>3573</th>\n",
       "      <td>HD 80606</td>\n",
       "      <td>b</td>\n",
       "      <td>Radial Velocity</td>\n",
       "      <td>111.4357</td>\n",
       "      <td>0.449</td>\n",
       "      <td>0.9332</td>\n",
       "      <td>3.94</td>\n",
       "      <td>29.04</td>\n",
       "      <td>0.97</td>\n",
       "      <td>2014-05-14</td>\n",
       "      <td>17.13</td>\n",
       "      <td>1.038633e-07</td>\n",
       "      <td>[1, 2, 3, 4, 5, 6, 7, 8, 9, 10, 11, 12, 13, 14...</td>\n",
       "      <td>[1.30740990715796e-25, 8.506293791204289e-26, ...</td>\n",
       "    </tr>\n",
       "    <tr>\n",
       "      <th>199</th>\n",
       "      <td>HD 4113</td>\n",
       "      <td>b</td>\n",
       "      <td>Radial Velocity</td>\n",
       "      <td>526.6200</td>\n",
       "      <td>1.280</td>\n",
       "      <td>0.9030</td>\n",
       "      <td>1.56</td>\n",
       "      <td>44.05</td>\n",
       "      <td>0.99</td>\n",
       "      <td>2014-12-03</td>\n",
       "      <td>22.70</td>\n",
       "      <td>2.197804e-08</td>\n",
       "      <td>[1, 2, 3, 4, 5, 6, 7, 8, 9, 10, 11, 12, 13, 14...</td>\n",
       "      <td>[1.2594583314652946e-26, 7.233458381856687e-27...</td>\n",
       "    </tr>\n",
       "  </tbody>\n",
       "</table>\n",
       "</div>"
      ],
      "text/plain": [
       "     pl_hostname pl_letter    pl_discmethod  pl_orbper  pl_orbsmax  \\\n",
       "304     HD 20782         b  Radial Velocity   597.0650       1.397   \n",
       "3573    HD 80606         b  Radial Velocity   111.4357       0.449   \n",
       "199      HD 4113         b  Radial Velocity   526.6200       1.280   \n",
       "\n",
       "      pl_orbeccen  pl_bmassj  st_dist  st_mass   rowupdate  st_plx  \\\n",
       "304        0.9560       1.43    35.50     1.02  2016-05-19     NaN   \n",
       "3573       0.9332       3.94    29.04     0.97  2014-05-14   17.13   \n",
       "199        0.9030       1.56    44.05     0.99  2014-12-03   22.70   \n",
       "\n",
       "             freq0                                              modes  \\\n",
       "304   1.938495e-08  [1, 2, 3, 4, 5, 6, 7, 8, 9, 10, 11, 12, 13, 14...   \n",
       "3573  1.038633e-07  [1, 2, 3, 4, 5, 6, 7, 8, 9, 10, 11, 12, 13, 14...   \n",
       "199   2.197804e-08  [1, 2, 3, 4, 5, 6, 7, 8, 9, 10, 11, 12, 13, 14...   \n",
       "\n",
       "                                                hhmodes  \n",
       "304   [1.2814629622279826e-26, 9.037349908557032e-27...  \n",
       "3573  [1.30740990715796e-25, 8.506293791204289e-26, ...  \n",
       "199   [1.2594583314652946e-26, 7.233458381856687e-27...  "
      ]
     },
     "execution_count": 19,
     "metadata": {},
     "output_type": "execute_result"
    }
   ],
   "source": [
    "aDataEccen = aData.sort_values(by = 'pl_orbeccen', ascending = False)\n",
    "aDataEccen.head(3)  #  Looks like Row 304 has eccen 0.9560 and a ton of modes."
   ]
  },
  {
   "cell_type": "code",
   "execution_count": 20,
   "metadata": {},
   "outputs": [
    {
     "name": "stdout",
     "output_type": "stream",
     "text": [
      "490    HD 20782\n"
     ]
    },
    {
     "data": {
      "text/plain": [
       "Text(0.5,1,'h modes for planet on star HD 20782 with e = 0.956')"
      ]
     },
     "execution_count": 20,
     "metadata": {},
     "output_type": "execute_result"
    },
    {
     "data": {
      "image/png": "[encoded data removed]",
      "text/plain": [
       "<matplotlib.figure.Figure at 0x7f9b667cb2b0>"
      ]
     },
     "metadata": {},
     "output_type": "display_data"
    }
   ],
   "source": [
    "#  Looks like Row 304 has eccen 0.9560 and a ton of modes.\n",
    "#  Or row 0 of the new dataframe.\n",
    "irowBig = 304  # index in dataframe, also the same index for aDataEccen.\n",
    "freq0 = 1.0/( aData['pl_orbper'][irowBig]*secsDay )\n",
    "\n",
    "\n",
    "xx = np.array(aData['modes'][irowBig]) * freq0\n",
    "#  Needed the np.array() or saw an error that my list was not AN integer!!\n",
    "yy = aData['hhmodes'][irowBig]\n",
    "print( len(xx), '  ', aData['pl_hostname'][irowBig] )\n",
    "\n",
    "# Plot xx and yy for ONE planet with crazy high eccentricity.\n",
    "plt.loglog(xx, yy, 'ko')\n",
    "plt.grid(True)\n",
    "plt.title('h modes for planet on star %s with e = %.3f' % ( aData['pl_hostname'][irowBig], aData['pl_orbeccen'][irowBig] ) )"
   ]
  },
  {
   "cell_type": "markdown",
   "metadata": {},
   "source": [
    "### The above looks weird, double check versus the $\\sqrt{g(n,e)}/n$ ."
   ]
  },
  {
   "cell_type": "code",
   "execution_count": 21,
   "metadata": {},
   "outputs": [
    {
     "data": {
      "image/png": "[encoded data removed]",
      "text/plain": [
       "<matplotlib.figure.Figure at 0x7f9b6669aac8>"
      ]
     },
     "metadata": {},
     "output_type": "display_data"
    }
   ],
   "source": [
    "# Above is weird!!\n",
    "eccen = aData['pl_orbeccen'][304]\n",
    "xx = np.array( range(1,491) )\n",
    "yy = [ np.sqrt( gwt.ggSimp(nn, eccen) )/nn for nn in xx ]\n",
    "plt.loglog(xx, yy, 'ko')\n",
    "plt.title('Okay then, h prop to $\\sqrt{g(n,e)}/n$ is a bit oddly behaved')\n",
    "plt.grid(True)\n",
    "# Okay not so weird!!"
   ]
  },
  {
   "cell_type": "markdown",
   "metadata": {},
   "source": [
    "## Plot All the dimensionless strains for the exops (different colors eventually)\n",
    "### Replace with a density plot of some kind?"
   ]
  },
  {
   "cell_type": "code",
   "execution_count": 22,
   "metadata": {},
   "outputs": [
    {
     "data": {
      "image/png": "[encoded data removed]",
      "text/plain": [
       "<matplotlib.figure.Figure at 0x7f9b664fe400>"
      ]
     },
     "metadata": {},
     "output_type": "display_data"
    }
   ],
   "source": [
    "#from matplotlib import cm # for colormap need max number of planets\n",
    "#myCmap = cm.get_cmap('cool')\n",
    "\n",
    "#maxNum = len(aData)\n",
    "\n",
    "# Loop over rows seems easiest.\n",
    "figAll = plt.figure( figsize=(8,6) )\n",
    "axAll = figAll.add_subplot((111))\n",
    "\n",
    "# Seeing other ways to loop over rows, more standard?  .iterrows or .itertuple\n",
    "for irow in range( len(aData) ):  #  range(4):  # cannot iterate over length, .itertuples() \n",
    "\n",
    "    freq0 = 1.0/( aData['pl_orbper'].values[irow]*secsDay )\n",
    "    xx = np.array( aData['modes'].values[irow] ) * freq0\n",
    "    #  Needed the np.array() or saw an error that my list was not AN integer!!\n",
    "    yy = np.array( aData['hhmodes'].values[irow] )\n",
    "\n",
    "    # Plot xx and yy for ONE planet with crazy high eccentricity.\n",
    "    #myCmap = plt.colormaps('cool')\n",
    "    #axAll = plt.loglog(xx, yy, c=0.44, cmap=myCmap)\n",
    "    axAll.loglog(xx, yy, 'ko')\n",
    "\n",
    "#plt.colorbar(True)\n",
    "plt.grid(True)\n",
    "plt.title('h modes for exoplanets numbering %d' % len(aData) );"
   ]
  },
  {
   "cell_type": "markdown",
   "metadata": {},
   "source": [
    "## The Noise curve from Shane Larson at CalTech, url below.\n",
    "## Use the downloaded data that is Amplitude Spectral Density (ASD), and for freq plot want it in dimless strain units (1 year or 4 years) by dividing by sqrt(Int Time), for the SNR need the $S_n(f)$ in per Hz, the Power Spectral Density (PSD) of the expected noise.  \n",
    "\n",
    "## For the future use the Cornish-Robson noise curve as standard, definitely compare."
   ]
  },
  {
   "cell_type": "markdown",
   "metadata": {},
   "source": [
    "The Larson curve from http://www.srl.caltech.edu/~shane/sensitivity/MakeCurve.html ."
   ]
  },
  {
   "cell_type": "code",
   "execution_count": 23,
   "metadata": {},
   "outputs": [
    {
     "data": {
      "text/html": [
       "<div>\n",
       "<style scoped>\n",
       "    .dataframe tbody tr th:only-of-type {\n",
       "        vertical-align: middle;\n",
       "    }\n",
       "\n",
       "    .dataframe tbody tr th {\n",
       "        vertical-align: top;\n",
       "    }\n",
       "\n",
       "    .dataframe thead th {\n",
       "        text-align: right;\n",
       "    }\n",
       "</style>\n",
       "<table border=\"1\" class=\"dataframe\">\n",
       "  <thead>\n",
       "    <tr style=\"text-align: right;\">\n",
       "      <th></th>\n",
       "      <th>freq[Hz]</th>\n",
       "      <th>ASD[Hz^-1/2]</th>\n",
       "    </tr>\n",
       "  </thead>\n",
       "  <tbody>\n",
       "    <tr>\n",
       "      <th>0</th>\n",
       "      <td>1.953007e-07</td>\n",
       "      <td>4.115269e-12</td>\n",
       "    </tr>\n",
       "    <tr>\n",
       "      <th>1</th>\n",
       "      <td>1.998512e-07</td>\n",
       "      <td>3.929997e-12</td>\n",
       "    </tr>\n",
       "    <tr>\n",
       "      <th>2</th>\n",
       "      <td>2.045077e-07</td>\n",
       "      <td>3.753070e-12</td>\n",
       "    </tr>\n",
       "  </tbody>\n",
       "</table>\n",
       "</div>"
      ],
      "text/plain": [
       "       freq[Hz]  ASD[Hz^-1/2]\n",
       "0  1.953007e-07  4.115269e-12\n",
       "1  1.998512e-07  3.929997e-12\n",
       "2  2.045077e-07  3.753070e-12"
      ]
     },
     "execution_count": 23,
     "metadata": {},
     "output_type": "execute_result"
    }
   ],
   "source": [
    "# Load one or other of the Larson curves into a Panda Dataframe.\n",
    "larsonASDFile = 'scg_5597_2W_2p5e9m.dat'  # Amplitude Spectral Densities, ASD's in per root Hz!!!\n",
    "larsonASD = pd.read_csv( thisDir + '/' + larsonASDFile, header=None, delim_whitespace=True, \\\n",
    "                               names=['freq[Hz]', 'ASD[Hz^-1/2]'], skiprows=22 )\n",
    "larsonASD.head(3)"
   ]
  },
  {
   "cell_type": "code",
   "execution_count": 24,
   "metadata": {},
   "outputs": [],
   "source": [
    "# Append the 1 year integrated dimension-less by dividing ASD by sqrt(1 year in secs).  Check this!!\n",
    "larsonASD['h[dimless,1yr]'] = larsonASD['ASD[Hz^-1/2]'].values/np.sqrt(1.0*secsYear)"
   ]
  },
  {
   "cell_type": "code",
   "execution_count": 25,
   "metadata": {},
   "outputs": [
    {
     "data": {
      "text/plain": [
       "<matplotlib.axes._subplots.AxesSubplot at 0x7f9b6590f550>"
      ]
     },
     "execution_count": 25,
     "metadata": {},
     "output_type": "execute_result"
    },
    {
     "data": {
      "image/png": "[encoded data removed]",
      "text/plain": [
       "<matplotlib.figure.Figure at 0x7f9b659b16d8>"
      ]
     },
     "metadata": {},
     "output_type": "display_data"
    }
   ],
   "source": [
    "larsonASD.plot(x = 'freq[Hz]', y = 'h[dimless,1yr]', logy=True, logx=True, grid=True, figsize=(8,6) )"
   ]
  },
  {
   "cell_type": "markdown",
   "metadata": {},
   "source": [
    "## The 1 year Larson curve and the individual modes for each exoplanet."
   ]
  },
  {
   "cell_type": "code",
   "execution_count": 26,
   "metadata": {},
   "outputs": [
    {
     "data": {
      "image/png": "[encoded data removed]",
      "text/plain": [
       "<matplotlib.figure.Figure at 0x7f9b655bc4a8>"
      ]
     },
     "metadata": {},
     "output_type": "display_data"
    }
   ],
   "source": [
    "# plotting different dataframes in same plot\n",
    "\n",
    "ax = larsonASD.plot(x = 'freq[Hz]', y = 'h[dimless,1yr]', logy=True, logx=True, grid=True, figsize=(10,8) )\n",
    "for irow in range(len(aData)):\n",
    "    aa = aData['freq0'].values[irow]\n",
    "    xx = [aa * uu for uu in aData['modes'].values[irow]  ] \n",
    "    yy = aData['hhmodes'].values[irow]\n",
    "    acolor = 'ko'\n",
    "    if aData['pl_hostname'].values[irow] == 'PSR J1719-1438':  # Flag the brightest one with red dots.\n",
    "        if aData['pl_letter'].values[irow] == 'b':\n",
    "            acolor = 'ro'\n",
    "    ax.plot( xx, yy, acolor)\n",
    "    ax.set_ylim((1e-26, 1e-18) )\n",
    "    ax.set_xlim((1e-5, 1.0) )\n",
    "    ax.set_title('One Year Noise and Exops, PSR J1719-1438 in red');\n",
    "    "
   ]
  },
  {
   "cell_type": "code",
   "execution_count": 27,
   "metadata": {},
   "outputs": [
    {
     "name": "stdout",
     "output_type": "stream",
     "text": [
      "['PSR J1719-1438' 'b' 'Pulsar Timing' 0.09070629 0.0044 0.06 1.2 1200.0\n",
      " 1.4 '2014-05-14' nan 0.0001275994649772808 list([1, 2, 3])\n",
      " list([1.681497004686017e-26, 3.5797366388109786e-25, 4.8348526229385945e-26])]\n"
     ]
    }
   ],
   "source": [
    "# Print the row for exop ...\n",
    "for irow in range(len(aData) ):\n",
    "    if aData['pl_hostname'].values[irow] == 'PSR J1719-1438' and \\\n",
    "    aData['pl_letter'].values[irow] == 'b':\n",
    "        theRow = irow\n",
    "        print( aData.values[irow] )"
   ]
  },
  {
   "cell_type": "code",
   "execution_count": 28,
   "metadata": {},
   "outputs": [
    {
     "data": {
      "text/plain": [
       "3.0"
      ]
     },
     "execution_count": 28,
     "metadata": {},
     "output_type": "execute_result"
    }
   ],
   "source": [
    "gwt.aNmax(0.06)  # If e>0 always have at least three modes, n = 1,2,3 ."
   ]
  },
  {
   "cell_type": "markdown",
   "metadata": {},
   "source": [
    "## Calculate the signal-to-noise ratio for each planet.  From matched filtering us $\\frac{S}{N}\\big)^2 = 2 T \\sum_{m=1}^\\infty \\frac{|h(m f_0)|^2}{S_n(m f_0)}$ , $T$ is integration time, $h$ are the source dimless strains at freq $m f_0$ where $f_0$ is the orbital frequency, and the sum below is truncated at n-star(eccentricity) not $\\infty$ ."
   ]
  },
  {
   "cell_type": "markdown",
   "metadata": {},
   "source": [
    "## Need linear interpolator (or other) for $S_n(f)$ so that I can find $S_n$ at the relevant frequency."
   ]
  },
  {
   "cell_type": "code",
   "execution_count": 29,
   "metadata": {},
   "outputs": [],
   "source": [
    "# Will need to interpolate the S_n(f) functions.\n",
    "# Do the linear interpolation in the log-space since it is so linear there, even a formula for it, I think.\n",
    "class snLinInterp:\n",
    "\n",
    "    \"\"\"Input the numpy arrays of freqs and Sn's and returns a class with\n",
    "    a __call__ function.  Not good checks for values <=0 or if you are interpolating\n",
    "    outside the range it was setup in, so use carefully.\n",
    "    \"\"\"\n",
    "    def __init__(self, freqs, sns):\n",
    "        from scipy.interpolate import interp1d\n",
    "        # Check lenght of arrays agree.\n",
    "        if len(freqs) != len(sns):\n",
    "            print('***class snLinInterp: error, arrays lengths disagree, len(freqs) ', len(freqs), ' and '\\\n",
    "                 'len(sns) is ', len(sns) )\n",
    "        else:\n",
    "        # Check for zero in each array.  Cannot use x[x>0] as usual, need arrays coordinated.\n",
    "            idrop = []\n",
    "            for ii in range(len(freqs)):\n",
    "                if freqs[ii] <= 0 or sns[ii] <= 0:\n",
    "                    idrop.append(ii)\n",
    "\n",
    "            self.freqs = np.delete(freqs,idrop)\n",
    "            self.sns = np.delete(sns, idrop)\n",
    "            self.logFreqs = np.log10(self.freqs)\n",
    "            self.logSns = np.log10(self.sns)\n",
    "            self.myInterp1D = interp1d(freqs, sns)  # Leave it linear for now. scipy.interpolate.\n",
    "            self.minFreq = np.min(self.freqs)\n",
    "            self.maxFreq = np.max(self.freqs)  # Can only interp between the values min freq and max.\n",
    "        \n",
    "    def __call__(self, uu):  # Checking for negatives and zeros is a pain, just do not do it for now!!\n",
    "        return( self.myInterp1D(uu) )"
   ]
  },
  {
   "cell_type": "markdown",
   "metadata": {},
   "source": [
    "## Checks on the linear interpolator in the log-space.    \n",
    "    "
   ]
  },
  {
   "cell_type": "code",
   "execution_count": 30,
   "metadata": {},
   "outputs": [
    {
     "name": "stdout",
     "output_type": "stream",
     "text": [
      "Testing the linear interp in log-log space of the dep and indep variables.\n"
     ]
    },
    {
     "data": {
      "image/png": "[encoded data removed]",
      "text/plain": [
       "<matplotlib.figure.Figure at 0x7f9b649e7390>"
      ]
     },
     "metadata": {},
     "output_type": "display_data"
    },
    {
     "data": {
      "image/png": "[encoded data removed]",
      "text/plain": [
       "<matplotlib.figure.Figure at 0x7f9b64970710>"
      ]
     },
     "metadata": {},
     "output_type": "display_data"
    },
    {
     "data": {
      "image/png": "[encoded data removed]",
      "text/plain": [
       "<matplotlib.figure.Figure at 0x7f9b6464bac8>"
      ]
     },
     "metadata": {},
     "output_type": "display_data"
    }
   ],
   "source": [
    "xx = np.linspace(0.1, 12.3, 20)\n",
    "yy = np.power(xx,4)\n",
    "snInterp = snLinInterp(xx, yy )  # Has the __call__ method, so makes a 1D function.\n",
    "xint = [3.33, 6.6, 11.11]\n",
    "yint = snInterp(xint)\n",
    "ax = plt.loglog(xx,yy,'ko-', xint, yint, 'bo')\n",
    "# set_title('Testing the linear interp in log-log space of the dep and indep variables.')\n",
    "print( 'Testing the linear interp in log-log space of the dep and indep variables.' )\n",
    "plt.show()\n",
    "\n",
    "# Test handling of the negatives and zero values!\n",
    "xx = np.linspace(-5.5, 12.3, 30)\n",
    "yy = np.power(xx,4)\n",
    "snInterp2 = snLinInterp(xx, yy) # trying negatives for x but all positives for y, should drop both values.\n",
    "\n",
    "xint = np.array([3.33, 6.6, 11.11])\n",
    "yint = snInterp(xint)\n",
    "plt.loglog(xx,yy,'ko-', xint, yint, 'bo')\n",
    "plt.show()\n",
    "plt.plot(xx,yy,'ko-', xint, yint, 'bo')\n",
    "plt.show()"
   ]
  },
  {
   "cell_type": "markdown",
   "metadata": {},
   "source": [
    "## Append the PSD to the Noise curve dataframe."
   ]
  },
  {
   "cell_type": "code",
   "execution_count": 31,
   "metadata": {},
   "outputs": [
    {
     "data": {
      "text/plain": [
       "<matplotlib.axes._subplots.AxesSubplot at 0x7f9bae3e1908>"
      ]
     },
     "execution_count": 31,
     "metadata": {},
     "output_type": "execute_result"
    },
    {
     "data": {
      "image/png": "[encoded data removed]",
      "text/plain": [
       "<matplotlib.figure.Figure at 0x7f9b647e4d30>"
      ]
     },
     "metadata": {},
     "output_type": "display_data"
    }
   ],
   "source": [
    "# Append the PSD, per root Hz.  What we need for the SNR**2 formualae.\n",
    "larsonASD['PSD[Hz^-1]'] = larsonASD['ASD[Hz^-1/2]']**2\n",
    "larsonASD.plot(x = 'freq[Hz]', y = 'PSD[Hz^-1]', logy=True, logx=True, grid=True)"
   ]
  },
  {
   "cell_type": "code",
   "execution_count": 32,
   "metadata": {},
   "outputs": [
    {
     "data": {
      "image/png": "[encoded data removed]",
      "text/plain": [
       "<matplotlib.figure.Figure at 0x7f9bad0ece48>"
      ]
     },
     "metadata": {},
     "output_type": "display_data"
    }
   ],
   "source": [
    "# Setup the interpolating for the S_n(f) in the range below f = 2e-3 Hz.\n",
    "\n",
    "xfreqsA = larsonASD['freq[Hz]'].values\n",
    "yPSDA = larsonASD['PSD[Hz^-1]'].values # Define the full data as numpy arrays.\n",
    "\n",
    "xfreqs = xfreqsA[xfreqsA<=2e-3]  # Use the numpy index selection here.\n",
    "yPSD = yPSDA[xfreqsA<=2e-3]\n",
    "\n",
    "plt.loglog( xfreqs, yPSD, 'k-')\n",
    "plt.grid(True)"
   ]
  },
  {
   "cell_type": "code",
   "execution_count": 33,
   "metadata": {},
   "outputs": [
    {
     "name": "stdout",
     "output_type": "stream",
     "text": [
      "len(SNRCols) is  910\n",
      "len(aData) is  910\n"
     ]
    }
   ],
   "source": [
    "mySnInterp = snLinInterp( xfreqs, yPSD )\n",
    "# To handle the really low frequency modes use the linear fit in the log-log space:\n",
    "# Larson formula for now.  From Mathematica GWExopSNR.nb\n",
    "#ssubn[freq_] := 0.1642*10^-48/freq^4\n",
    "#\n",
    "# Actually the fit in the python notebook for the left hand side of the S_n(f) from Larson's Sqrt[S_n(f)] \n",
    "# was TeXForm[f^-3.9946\\cdot 1.6421 \\cdot 10^-49]  .\n",
    "def ssubn(freq):\n",
    "    return( (0.1642e-48/freq**4) )\n",
    "\n",
    "# It is the sum over the modes.\n",
    "intTime = 1.0*secsYear  # Integration time in seconds.\n",
    "\n",
    "SNRCols = []\n",
    "for irow in range(len(aData) ):\n",
    "    freq0 = aData['freq0'].values[irow]\n",
    "    modes= aData['modes'].values[irow]\n",
    "    hhmodes = aData['hhmodes'].values[irow]\n",
    "    SNRSqSum = 0.0\n",
    "    for jmodes in range(len(modes) ):   # Calc the SQUARE of the SNR!\n",
    "        amode = modes[jmodes]\n",
    "        SNRSqSum += 2.0*intTime*hhmodes[jmodes]**2/ssubn(amode*freq0)\n",
    "#        SNRSqSum += 2.0*intTime*hhmodes[jmodes]**2/mySnInterp(amode*freq0)\n",
    "    SNRCols.append( np.sqrt(SNRSqSum) )\n",
    "        \n",
    "print('len(SNRCols) is ', len(SNRCols) )\n",
    "aData['SNR']=SNRCols\n",
    "print('len(aData) is ', len(aData) )\n",
    "    "
   ]
  },
  {
   "cell_type": "code",
   "execution_count": 34,
   "metadata": {},
   "outputs": [
    {
     "data": {
      "text/html": [
       "<div>\n",
       "<style scoped>\n",
       "    .dataframe tbody tr th:only-of-type {\n",
       "        vertical-align: middle;\n",
       "    }\n",
       "\n",
       "    .dataframe tbody tr th {\n",
       "        vertical-align: top;\n",
       "    }\n",
       "\n",
       "    .dataframe thead th {\n",
       "        text-align: right;\n",
       "    }\n",
       "</style>\n",
       "<table border=\"1\" class=\"dataframe\">\n",
       "  <thead>\n",
       "    <tr style=\"text-align: right;\">\n",
       "      <th></th>\n",
       "      <th>pl_hostname</th>\n",
       "      <th>pl_letter</th>\n",
       "      <th>pl_discmethod</th>\n",
       "      <th>pl_orbper</th>\n",
       "      <th>pl_orbsmax</th>\n",
       "      <th>pl_orbeccen</th>\n",
       "      <th>pl_bmassj</th>\n",
       "      <th>st_dist</th>\n",
       "      <th>st_mass</th>\n",
       "      <th>rowupdate</th>\n",
       "      <th>st_plx</th>\n",
       "      <th>freq0</th>\n",
       "      <th>modes</th>\n",
       "      <th>hhmodes</th>\n",
       "      <th>SNR</th>\n",
       "    </tr>\n",
       "  </thead>\n",
       "  <tbody>\n",
       "    <tr>\n",
       "      <th>0</th>\n",
       "      <td>HD 142022 A</td>\n",
       "      <td>b</td>\n",
       "      <td>Radial Velocity</td>\n",
       "      <td>1928.0</td>\n",
       "      <td>3.03</td>\n",
       "      <td>0.5300</td>\n",
       "      <td>5.100</td>\n",
       "      <td>35.87</td>\n",
       "      <td>0.99</td>\n",
       "      <td>2014-05-14</td>\n",
       "      <td>27.88</td>\n",
       "      <td>6.003150e-09</td>\n",
       "      <td>[1, 2, 3, 4, 5, 6, 7, 8, 9, 10, 11, 12, 13, 14...</td>\n",
       "      <td>[1.8702816437643177e-26, 2.1740658908129503e-2...</td>\n",
       "      <td>1.171337e-12</td>\n",
       "    </tr>\n",
       "    <tr>\n",
       "      <th>1</th>\n",
       "      <td>HD 39091</td>\n",
       "      <td>b</td>\n",
       "      <td>Radial Velocity</td>\n",
       "      <td>2151.0</td>\n",
       "      <td>3.38</td>\n",
       "      <td>0.6405</td>\n",
       "      <td>10.270</td>\n",
       "      <td>18.21</td>\n",
       "      <td>1.10</td>\n",
       "      <td>2014-07-23</td>\n",
       "      <td>54.92</td>\n",
       "      <td>5.380788e-09</td>\n",
       "      <td>[1, 2, 3, 4, 5, 6, 7, 8, 9, 10, 11, 12, 13, 14...</td>\n",
       "      <td>[8.230508420052954e-26, 4.507375225359441e-26,...</td>\n",
       "      <td>9.018521e-12</td>\n",
       "    </tr>\n",
       "    <tr>\n",
       "      <th>2</th>\n",
       "      <td>HD 137388 A</td>\n",
       "      <td>b</td>\n",
       "      <td>Radial Velocity</td>\n",
       "      <td>330.0</td>\n",
       "      <td>0.89</td>\n",
       "      <td>0.3600</td>\n",
       "      <td>0.223</td>\n",
       "      <td>38.45</td>\n",
       "      <td>0.86</td>\n",
       "      <td>2014-05-14</td>\n",
       "      <td>26.01</td>\n",
       "      <td>3.507295e-08</td>\n",
       "      <td>[1, 2, 3, 4, 5, 6, 7]</td>\n",
       "      <td>[1.6721119496253516e-27, 4.481574164761941e-27...</td>\n",
       "      <td>1.716782e-12</td>\n",
       "    </tr>\n",
       "  </tbody>\n",
       "</table>\n",
       "</div>"
      ],
      "text/plain": [
       "   pl_hostname pl_letter    pl_discmethod  pl_orbper  pl_orbsmax  pl_orbeccen  \\\n",
       "0  HD 142022 A         b  Radial Velocity     1928.0        3.03       0.5300   \n",
       "1     HD 39091         b  Radial Velocity     2151.0        3.38       0.6405   \n",
       "2  HD 137388 A         b  Radial Velocity      330.0        0.89       0.3600   \n",
       "\n",
       "   pl_bmassj  st_dist  st_mass   rowupdate  st_plx         freq0  \\\n",
       "0      5.100    35.87     0.99  2014-05-14   27.88  6.003150e-09   \n",
       "1     10.270    18.21     1.10  2014-07-23   54.92  5.380788e-09   \n",
       "2      0.223    38.45     0.86  2014-05-14   26.01  3.507295e-08   \n",
       "\n",
       "                                               modes  \\\n",
       "0  [1, 2, 3, 4, 5, 6, 7, 8, 9, 10, 11, 12, 13, 14...   \n",
       "1  [1, 2, 3, 4, 5, 6, 7, 8, 9, 10, 11, 12, 13, 14...   \n",
       "2                              [1, 2, 3, 4, 5, 6, 7]   \n",
       "\n",
       "                                             hhmodes           SNR  \n",
       "0  [1.8702816437643177e-26, 2.1740658908129503e-2...  1.171337e-12  \n",
       "1  [8.230508420052954e-26, 4.507375225359441e-26,...  9.018521e-12  \n",
       "2  [1.6721119496253516e-27, 4.481574164761941e-27...  1.716782e-12  "
      ]
     },
     "execution_count": 34,
     "metadata": {},
     "output_type": "execute_result"
    }
   ],
   "source": [
    "# Check the appending of SNR.\n",
    "aData.head(3)"
   ]
  },
  {
   "cell_type": "markdown",
   "metadata": {},
   "source": [
    "## Create a dataframe ordered by SNR."
   ]
  },
  {
   "cell_type": "code",
   "execution_count": 35,
   "metadata": {},
   "outputs": [
    {
     "data": {
      "text/html": [
       "<div>\n",
       "<style scoped>\n",
       "    .dataframe tbody tr th:only-of-type {\n",
       "        vertical-align: middle;\n",
       "    }\n",
       "\n",
       "    .dataframe tbody tr th {\n",
       "        vertical-align: top;\n",
       "    }\n",
       "\n",
       "    .dataframe thead th {\n",
       "        text-align: right;\n",
       "    }\n",
       "</style>\n",
       "<table border=\"1\" class=\"dataframe\">\n",
       "  <thead>\n",
       "    <tr style=\"text-align: right;\">\n",
       "      <th></th>\n",
       "      <th>pl_hostname</th>\n",
       "      <th>pl_letter</th>\n",
       "      <th>pl_discmethod</th>\n",
       "      <th>pl_orbper</th>\n",
       "      <th>pl_orbsmax</th>\n",
       "      <th>pl_orbeccen</th>\n",
       "      <th>pl_bmassj</th>\n",
       "      <th>st_dist</th>\n",
       "      <th>st_mass</th>\n",
       "      <th>rowupdate</th>\n",
       "      <th>st_plx</th>\n",
       "      <th>freq0</th>\n",
       "      <th>modes</th>\n",
       "      <th>hhmodes</th>\n",
       "      <th>SNR</th>\n",
       "    </tr>\n",
       "  </thead>\n",
       "  <tbody>\n",
       "    <tr>\n",
       "      <th>492</th>\n",
       "      <td>PSR J1719-1438</td>\n",
       "      <td>b</td>\n",
       "      <td>Pulsar Timing</td>\n",
       "      <td>0.090706</td>\n",
       "      <td>0.00440</td>\n",
       "      <td>0.0600</td>\n",
       "      <td>1.2000</td>\n",
       "      <td>1200.00</td>\n",
       "      <td>1.40</td>\n",
       "      <td>2014-05-14</td>\n",
       "      <td>NaN</td>\n",
       "      <td>0.000128</td>\n",
       "      <td>[1, 2, 3]</td>\n",
       "      <td>[1.681497004686017e-26, 3.5797366388109786e-25...</td>\n",
       "      <td>0.000478</td>\n",
       "    </tr>\n",
       "    <tr>\n",
       "      <th>156</th>\n",
       "      <td>WASP-18</td>\n",
       "      <td>b</td>\n",
       "      <td>Transit</td>\n",
       "      <td>0.941453</td>\n",
       "      <td>0.02026</td>\n",
       "      <td>0.0092</td>\n",
       "      <td>10.4300</td>\n",
       "      <td>105.49</td>\n",
       "      <td>1.28</td>\n",
       "      <td>2014-05-14</td>\n",
       "      <td>9.48</td>\n",
       "      <td>0.000012</td>\n",
       "      <td>[1, 2, 3]</td>\n",
       "      <td>[5.044293986239611e-26, 7.052792899222313e-24,...</td>\n",
       "      <td>0.000084</td>\n",
       "    </tr>\n",
       "    <tr>\n",
       "      <th>336</th>\n",
       "      <td>PSR J2322-2650</td>\n",
       "      <td>b</td>\n",
       "      <td>Pulsar Timing</td>\n",
       "      <td>0.322964</td>\n",
       "      <td>0.01020</td>\n",
       "      <td>0.0017</td>\n",
       "      <td>0.7949</td>\n",
       "      <td>230.00</td>\n",
       "      <td>1.40</td>\n",
       "      <td>2017-12-21</td>\n",
       "      <td>4.40</td>\n",
       "      <td>0.000036</td>\n",
       "      <td>[1, 2, 3]</td>\n",
       "      <td>[7.075677179501135e-28, 5.354424563392014e-25,...</td>\n",
       "      <td>0.000054</td>\n",
       "    </tr>\n",
       "  </tbody>\n",
       "</table>\n",
       "</div>"
      ],
      "text/plain": [
       "        pl_hostname pl_letter  pl_discmethod  pl_orbper  pl_orbsmax  \\\n",
       "492  PSR J1719-1438         b  Pulsar Timing   0.090706     0.00440   \n",
       "156         WASP-18         b        Transit   0.941453     0.02026   \n",
       "336  PSR J2322-2650         b  Pulsar Timing   0.322964     0.01020   \n",
       "\n",
       "     pl_orbeccen  pl_bmassj  st_dist  st_mass   rowupdate  st_plx     freq0  \\\n",
       "492       0.0600     1.2000  1200.00     1.40  2014-05-14     NaN  0.000128   \n",
       "156       0.0092    10.4300   105.49     1.28  2014-05-14    9.48  0.000012   \n",
       "336       0.0017     0.7949   230.00     1.40  2017-12-21    4.40  0.000036   \n",
       "\n",
       "         modes                                            hhmodes       SNR  \n",
       "492  [1, 2, 3]  [1.681497004686017e-26, 3.5797366388109786e-25...  0.000478  \n",
       "156  [1, 2, 3]  [5.044293986239611e-26, 7.052792899222313e-24,...  0.000084  \n",
       "336  [1, 2, 3]  [7.075677179501135e-28, 5.354424563392014e-25,...  0.000054  "
      ]
     },
     "execution_count": 35,
     "metadata": {},
     "output_type": "execute_result"
    }
   ],
   "source": [
    "bData = aData.sort_values(by = 'SNR', ascending = False)\n",
    "bData.head(3)"
   ]
  },
  {
   "cell_type": "markdown",
   "metadata": {},
   "source": [
    "## Print the table or SNR and other items."
   ]
  },
  {
   "cell_type": "code",
   "execution_count": 36,
   "metadata": {},
   "outputs": [
    {
     "name": "stdout",
     "output_type": "stream",
     "text": [
      "name                \teccen\tper(days)\tSNR\tindex\n",
      "\n",
      "PSR J1719-1438 b    \t0.0600\t0.091\t0.000478\t0\n",
      "WASP-18 b           \t0.0092\t0.941\t8.37e-05\t1\n",
      "PSR J2322-2650 b    \t0.0017\t0.323\t5.39e-05\t2\n",
      "KELT-1 b            \t0.0099\t1.218\t4.51e-05\t3\n",
      "WASP-43 b           \t0.0000\t0.813\t1.64e-05\t4\n",
      "tau Boo b           \t0.0110\t3.312\t8.45e-06\t5\n",
      "KELT-9 b            \t0.0000\t1.481\t6.07e-06\t6\n",
      "KELT-16 b           \t0.0000\t0.969\t5.26e-06\t7\n",
      "WASP-77 A b         \t0.0000\t1.360\t5.1e-06\t8\n",
      "WASP-19 b           \t0.0020\t0.789\t4.59e-06\t9\n",
      "WASP-14 b           \t0.0910\t2.244\t3.98e-06\t10\n",
      "HATS-18 b           \t0.1660\t0.838\t3.77e-06\t11\n",
      "HAT-P-2 b           \t0.5171\t5.633\t3.57e-06\t12\n",
      "XO-3 b              \t0.2600\t3.192\t3.54e-06\t13\n",
      "HAT-P-20 b          \t0.0150\t2.875\t3.16e-06\t14\n",
      "HD 73256 b          \t0.0290\t2.549\t2.69e-06\t15\n"
     ]
    }
   ],
   "source": [
    "astr = 'name                \\teccen\\tper(days)\\tSNR\\tindex\\n'\n",
    "print(astr)\n",
    "for ii in range(16):\n",
    "    astr = '%-20s\\t%6.4f\\t%.3f\\t%.3g\\t%d'%\\\n",
    "    (bData['pl_hostname'].values[ii]+' '+bData['pl_letter'].values[ii], bData['pl_orbeccen'].values[ii], \n",
    "     bData['pl_orbper'].values[ii], \n",
    "     bData['SNR'].values[ii], ii)\n",
    "    print(astr)"
   ]
  },
  {
   "cell_type": "markdown",
   "metadata": {},
   "source": [
    "## Exops with the highest eccentricity"
   ]
  },
  {
   "cell_type": "code",
   "execution_count": 37,
   "metadata": {},
   "outputs": [
    {
     "data": {
      "text/html": [
       "<div>\n",
       "<style scoped>\n",
       "    .dataframe tbody tr th:only-of-type {\n",
       "        vertical-align: middle;\n",
       "    }\n",
       "\n",
       "    .dataframe tbody tr th {\n",
       "        vertical-align: top;\n",
       "    }\n",
       "\n",
       "    .dataframe thead th {\n",
       "        text-align: right;\n",
       "    }\n",
       "</style>\n",
       "<table border=\"1\" class=\"dataframe\">\n",
       "  <thead>\n",
       "    <tr style=\"text-align: right;\">\n",
       "      <th></th>\n",
       "      <th>pl_hostname</th>\n",
       "      <th>pl_letter</th>\n",
       "      <th>pl_discmethod</th>\n",
       "      <th>pl_orbper</th>\n",
       "      <th>pl_orbsmax</th>\n",
       "      <th>pl_orbeccen</th>\n",
       "      <th>pl_bmassj</th>\n",
       "      <th>st_dist</th>\n",
       "      <th>st_mass</th>\n",
       "      <th>rowupdate</th>\n",
       "      <th>st_plx</th>\n",
       "      <th>freq0</th>\n",
       "      <th>modes</th>\n",
       "      <th>hhmodes</th>\n",
       "      <th>SNR</th>\n",
       "    </tr>\n",
       "  </thead>\n",
       "  <tbody>\n",
       "    <tr>\n",
       "      <th>304</th>\n",
       "      <td>HD 20782</td>\n",
       "      <td>b</td>\n",
       "      <td>Radial Velocity</td>\n",
       "      <td>597.0650</td>\n",
       "      <td>1.397</td>\n",
       "      <td>0.9560</td>\n",
       "      <td>1.43</td>\n",
       "      <td>35.50</td>\n",
       "      <td>1.02</td>\n",
       "      <td>2016-05-19</td>\n",
       "      <td>NaN</td>\n",
       "      <td>1.938495e-08</td>\n",
       "      <td>[1, 2, 3, 4, 5, 6, 7, 8, 9, 10, 11, 12, 13, 14...</td>\n",
       "      <td>[1.2814629622279826e-26, 9.037349908557032e-27...</td>\n",
       "      <td>1.752908e-08</td>\n",
       "    </tr>\n",
       "    <tr>\n",
       "      <th>3573</th>\n",
       "      <td>HD 80606</td>\n",
       "      <td>b</td>\n",
       "      <td>Radial Velocity</td>\n",
       "      <td>111.4357</td>\n",
       "      <td>0.449</td>\n",
       "      <td>0.9332</td>\n",
       "      <td>3.94</td>\n",
       "      <td>29.04</td>\n",
       "      <td>0.97</td>\n",
       "      <td>2014-05-14</td>\n",
       "      <td>17.13</td>\n",
       "      <td>1.038633e-07</td>\n",
       "      <td>[1, 2, 3, 4, 5, 6, 7, 8, 9, 10, 11, 12, 13, 14...</td>\n",
       "      <td>[1.30740990715796e-25, 8.506293791204289e-26, ...</td>\n",
       "      <td>1.366542e-06</td>\n",
       "    </tr>\n",
       "    <tr>\n",
       "      <th>199</th>\n",
       "      <td>HD 4113</td>\n",
       "      <td>b</td>\n",
       "      <td>Radial Velocity</td>\n",
       "      <td>526.6200</td>\n",
       "      <td>1.280</td>\n",
       "      <td>0.9030</td>\n",
       "      <td>1.56</td>\n",
       "      <td>44.05</td>\n",
       "      <td>0.99</td>\n",
       "      <td>2014-12-03</td>\n",
       "      <td>22.70</td>\n",
       "      <td>2.197804e-08</td>\n",
       "      <td>[1, 2, 3, 4, 5, 6, 7, 8, 9, 10, 11, 12, 13, 14...</td>\n",
       "      <td>[1.2594583314652946e-26, 7.233458381856687e-27...</td>\n",
       "      <td>1.713695e-09</td>\n",
       "    </tr>\n",
       "    <tr>\n",
       "      <th>23</th>\n",
       "      <td>HD 76920</td>\n",
       "      <td>b</td>\n",
       "      <td>Radial Velocity</td>\n",
       "      <td>415.4000</td>\n",
       "      <td>1.149</td>\n",
       "      <td>0.8560</td>\n",
       "      <td>3.93</td>\n",
       "      <td>184.80</td>\n",
       "      <td>1.17</td>\n",
       "      <td>2017-11-30</td>\n",
       "      <td>NaN</td>\n",
       "      <td>2.786248e-08</td>\n",
       "      <td>[1, 2, 3, 4, 5, 6, 7, 8, 9, 10, 11, 12, 13, 14...</td>\n",
       "      <td>[1.0138731199811866e-26, 4.557659817080447e-27...</td>\n",
       "      <td>5.919106e-10</td>\n",
       "    </tr>\n",
       "    <tr>\n",
       "      <th>394</th>\n",
       "      <td>HD 98649</td>\n",
       "      <td>b</td>\n",
       "      <td>Radial Velocity</td>\n",
       "      <td>4951.0000</td>\n",
       "      <td>5.600</td>\n",
       "      <td>0.8500</td>\n",
       "      <td>6.80</td>\n",
       "      <td>42.77</td>\n",
       "      <td>1.00</td>\n",
       "      <td>2014-05-14</td>\n",
       "      <td>23.38</td>\n",
       "      <td>2.337725e-09</td>\n",
       "      <td>[1, 2, 3, 4, 5, 6, 7, 8, 9, 10, 11, 12, 13, 14...</td>\n",
       "      <td>[1.3095832207217623e-26, 5.675932575080468e-27...</td>\n",
       "      <td>4.693750e-12</td>\n",
       "    </tr>\n",
       "    <tr>\n",
       "      <th>12</th>\n",
       "      <td>HD 108341</td>\n",
       "      <td>b</td>\n",
       "      <td>Radial Velocity</td>\n",
       "      <td>1129.0000</td>\n",
       "      <td>2.000</td>\n",
       "      <td>0.8500</td>\n",
       "      <td>3.50</td>\n",
       "      <td>49.40</td>\n",
       "      <td>0.84</td>\n",
       "      <td>2015-01-08</td>\n",
       "      <td>20.23</td>\n",
       "      <td>1.025162e-08</td>\n",
       "      <td>[1, 2, 3, 4, 5, 6, 7, 8, 9, 10, 11, 12, 13, 14...</td>\n",
       "      <td>[1.3931095245605775e-26, 6.037948261699841e-27...</td>\n",
       "      <td>9.602185e-11</td>\n",
       "    </tr>\n",
       "  </tbody>\n",
       "</table>\n",
       "</div>"
      ],
      "text/plain": [
       "     pl_hostname pl_letter    pl_discmethod  pl_orbper  pl_orbsmax  \\\n",
       "304     HD 20782         b  Radial Velocity   597.0650       1.397   \n",
       "3573    HD 80606         b  Radial Velocity   111.4357       0.449   \n",
       "199      HD 4113         b  Radial Velocity   526.6200       1.280   \n",
       "23      HD 76920         b  Radial Velocity   415.4000       1.149   \n",
       "394     HD 98649         b  Radial Velocity  4951.0000       5.600   \n",
       "12     HD 108341         b  Radial Velocity  1129.0000       2.000   \n",
       "\n",
       "      pl_orbeccen  pl_bmassj  st_dist  st_mass   rowupdate  st_plx  \\\n",
       "304        0.9560       1.43    35.50     1.02  2016-05-19     NaN   \n",
       "3573       0.9332       3.94    29.04     0.97  2014-05-14   17.13   \n",
       "199        0.9030       1.56    44.05     0.99  2014-12-03   22.70   \n",
       "23         0.8560       3.93   184.80     1.17  2017-11-30     NaN   \n",
       "394        0.8500       6.80    42.77     1.00  2014-05-14   23.38   \n",
       "12         0.8500       3.50    49.40     0.84  2015-01-08   20.23   \n",
       "\n",
       "             freq0                                              modes  \\\n",
       "304   1.938495e-08  [1, 2, 3, 4, 5, 6, 7, 8, 9, 10, 11, 12, 13, 14...   \n",
       "3573  1.038633e-07  [1, 2, 3, 4, 5, 6, 7, 8, 9, 10, 11, 12, 13, 14...   \n",
       "199   2.197804e-08  [1, 2, 3, 4, 5, 6, 7, 8, 9, 10, 11, 12, 13, 14...   \n",
       "23    2.786248e-08  [1, 2, 3, 4, 5, 6, 7, 8, 9, 10, 11, 12, 13, 14...   \n",
       "394   2.337725e-09  [1, 2, 3, 4, 5, 6, 7, 8, 9, 10, 11, 12, 13, 14...   \n",
       "12    1.025162e-08  [1, 2, 3, 4, 5, 6, 7, 8, 9, 10, 11, 12, 13, 14...   \n",
       "\n",
       "                                                hhmodes           SNR  \n",
       "304   [1.2814629622279826e-26, 9.037349908557032e-27...  1.752908e-08  \n",
       "3573  [1.30740990715796e-25, 8.506293791204289e-26, ...  1.366542e-06  \n",
       "199   [1.2594583314652946e-26, 7.233458381856687e-27...  1.713695e-09  \n",
       "23    [1.0138731199811866e-26, 4.557659817080447e-27...  5.919106e-10  \n",
       "394   [1.3095832207217623e-26, 5.675932575080468e-27...  4.693750e-12  \n",
       "12    [1.3931095245605775e-26, 6.037948261699841e-27...  9.602185e-11  "
      ]
     },
     "execution_count": 37,
     "metadata": {},
     "output_type": "execute_result"
    }
   ],
   "source": [
    "cData = aData.sort_values(by = 'pl_orbeccen', ascending = False)\n",
    "cData.head(6)"
   ]
  },
  {
   "cell_type": "markdown",
   "metadata": {},
   "source": [
    "## Cornish and Robson noise curve, see the paper arXiv https://arxiv.org/pdf/1803.01944.pdf"
   ]
  },
  {
   "cell_type": "markdown",
   "metadata": {},
   "source": [
    "Coded into gwt.lisa_psd() by Katie and does NOT have the white dwarf confusion noise in it...which is the way we want it, I think.  Use all aData as it is here, with SNR from Larson S_n(f)."
   ]
  },
  {
   "cell_type": "markdown",
   "metadata": {},
   "source": [
    "## Plot the instantaneous h modes on the curve with sqrt of S_n divided by integration time.  This is within factors of a few of the formulae C&R use."
   ]
  },
  {
   "cell_type": "code",
   "execution_count": 38,
   "metadata": {},
   "outputs": [
    {
     "data": {
      "text/plain": [
       "<matplotlib.legend.Legend at 0x7f9b646dbb38>"
      ]
     },
     "execution_count": 38,
     "metadata": {},
     "output_type": "execute_result"
    },
    {
     "data": {
      "image/png": "[encoded data removed]",
      "text/plain": [
       "<matplotlib.figure.Figure at 0x7f9b6468f320>"
      ]
     },
     "metadata": {},
     "output_type": "display_data"
    }
   ],
   "source": [
    "# plotting different dataframes in same plot\n",
    "afig = plt.figure( figsize=(16,10) )\n",
    "ax= afig.add_subplot((111))\n",
    "\n",
    "ff = np.logspace(-9,1,100)\n",
    "SnCR = gwt.lisa_psd()\n",
    "y1 = SnCR(ff)\n",
    "y2 = np.sqrt(y1)/np.sqrt(1.0*secsYear*2)\n",
    "\n",
    "ax.plot(ff, y2, 'b-', label='LISA Noise, 1 year, (C&R)')\n",
    "\n",
    "ax.plot(ff, y2/2.0, 'g-', label='LISA Noise, 4 year, (C&R)')\n",
    "\n",
    "ax.set_xscale('log')\n",
    "ax.set_yscale('log')\n",
    "\n",
    "ax.set_title('One Year Noise and Exops, PSR J1719-1438 in red')\n",
    "ax.set_xlabel('Frequency, Hz')\n",
    "ax.set_ylabel('Dimensionless strain, one year, h')\n",
    "\n",
    "# ax = larsonASD.plot(x = 'freq[Hz]', y = 'h[dimless,1yr]', logy=True, logx=True, grid=True, figsize=(10,8) )\n",
    "for irow in range(len(aData)):\n",
    "    aa = aData['freq0'].values[irow]\n",
    "    xx = [aa * uu for uu in aData['modes'].values[irow]  ] \n",
    "    yy = aData['hhmodes'].values[irow]\n",
    "    acolor = 'ko'\n",
    "    if aData['pl_hostname'].values[irow] == 'PSR J1719-1438':  # Flag the brightest one with red dots.\n",
    "        if aData['pl_letter'].values[irow] == 'b':\n",
    "            acolor = 'ro'\n",
    "    ax.plot( xx, yy, acolor)  # , label = 'Exop Modes' Cannot use label because so many plot statements.\n",
    "    #ax.set_ylim((1e-26, 1e-18) )\n",
    "    #ax.set_xlim((1e-5, 1.0) )\n",
    "    #ax.set_title('One Year Noise and Exops, PSR J1719-1438 in red');\n",
    "    \n",
    "larsonASD.plot(x = 'freq[Hz]', y = 'h[dimless,1yr]', ax = ax, grid=True);\n",
    "\n",
    "plt.grid(True)\n",
    "plt.legend()\n"
   ]
  },
  {
   "cell_type": "code",
   "execution_count": 39,
   "metadata": {},
   "outputs": [],
   "source": [
    "# copy over the plot rcparmas from PrettyPlotsGWStrain...\n",
    "\n",
    "# Plot defaults.\n",
    "params = {'font.size': 24.0,\n",
    "          'legend.fontsize': 'x-large',\n",
    "          'figure.figsize': (16, 10),  # (14,10)\n",
    "         'axes.labelsize': 'x-large',\n",
    "         'axes.titlesize':'x-large',\n",
    "         'xtick.labelsize':'x-large',\n",
    "         'ytick.labelsize':'x-large'}\n",
    "#aa = 18.0\n",
    "#params = {'legend.fontsize': aa,\n",
    "#          'figure.figsize': (14, 10),\n",
    "#         'axes.labelsize': aa,\n",
    "#         'axes.titlesize': aa,\n",
    "#         'xtick.labelsize': aa,\n",
    "#         'ytick.labelsize': aa}\n",
    "plt.rcParams.update(params)\n",
    "#print(mpl.rcParams)\n",
    "savePlot = False"
   ]
  },
  {
   "cell_type": "code",
   "execution_count": 40,
   "metadata": {},
   "outputs": [
    {
     "data": {
      "image/png": "[encoded data removed]",
      "text/plain": [
       "<matplotlib.figure.Figure at 0x7f9b64544a58>"
      ]
     },
     "metadata": {},
     "output_type": "display_data"
    }
   ],
   "source": [
    "# Plot the exop modes vs sqrt(S_n/T/2)\n",
    "\n",
    "\n",
    "afig = plt.figure( figsize=(16,10) )\n",
    "ax= afig.add_subplot((111))\n",
    "\n",
    "ff = np.logspace(-9,1,100)\n",
    "SnCR = gwt.lisa_psd()\n",
    "y1 = SnCR(ff)\n",
    "y2 = np.sqrt(y1)/np.sqrt(1.0*secsYear)\n",
    "\n",
    "#ax.plot(ff, y2, 'g-', label='LISA Noise, 1 year, (C&R)')\n",
    "\n",
    "ax.plot(ff, y2/2.0, 'b-', label='LISA Noise, 4 year, (C&R)')\n",
    "\n",
    "ax.set_xscale('log')\n",
    "ax.set_yscale('log')\n",
    "plt.grid(True)\n",
    "plt.legend()\n",
    "\n",
    "ax.set_title('Four Year Noise and Exops, PSR J1719-1438 in red')\n",
    "ax.set_xlabel('Frequency, Hz')\n",
    "ax.set_ylabel('Dimensionless strain, h')\n",
    "\n",
    "# ax = larsonASD.plot(x = 'freq[Hz]', y = 'h[dimless,1yr]', logy=True, logx=True, grid=True, figsize=(10,8) )\n",
    "for irow in range(len(aData)):\n",
    "    aa = aData['freq0'].values[irow]\n",
    "    xx = [aa * uu for uu in aData['modes'].values[irow]  ] \n",
    "    yy = aData['hhmodes'].values[irow]\n",
    "    acolor = 'ko'\n",
    "    if aData['pl_hostname'].values[irow] == 'PSR J1719-1438':  # Flag the brightest one with red dots.\n",
    "        if aData['pl_letter'].values[irow] == 'b':\n",
    "            acolor = 'ro'\n",
    "    ax.plot( xx, yy, acolor)\n",
    "    ax.set_ylim((1e-26, 1e-18) )\n",
    "    ax.set_xlim((1e-5, 1.0) )\n",
    "    #ax.set_title('One Year Noise and Exops, PSR J1719-1438 in red');\n",
    "    \n",
    "if savePlot or 1:\n",
    "    #plt.savefig('../poster/pix/plot_g_n_e.eps')  # Both eps and svg seem to make good PDFs of poster.\n",
    "    plt.savefig('../poster/pix/plot_hexopVrootSn.svg')"
   ]
  },
  {
   "cell_type": "code",
   "execution_count": null,
   "metadata": {},
   "outputs": [],
   "source": []
  }
 ],
 "metadata": {
  "kernelspec": {
   "display_name": "Python 3",
   "language": "python",
   "name": "python3"
  },
  "language_info": {
   "codemirror_mode": {
    "name": "ipython",
    "version": 3
   },
   "file_extension": ".py",
   "mimetype": "text/x-python",
   "name": "python",
   "nbconvert_exporter": "python",
   "pygments_lexer": "ipython3",
   "version": "3.6.5"
  }
 },
 "nbformat": 4,
 "nbformat_minor": 2
}

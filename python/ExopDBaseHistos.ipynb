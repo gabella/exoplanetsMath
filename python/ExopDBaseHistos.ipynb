{
 "cells": [
  {
   "cell_type": "markdown",
   "metadata": {},
   "source": [
    "# Grab the latest exoplanet database from CalTech."
   ]
  },
  {
   "cell_type": "markdown",
   "metadata": {},
   "source": [
    "20180406 weg Copied over the ExopDBase notebook for making histograms.\n",
    "Should allow histograms of current or saved dbase.  Should allow plots of the set of exops we use for the calculation and the set of all exops where that entry exists."
   ]
  },
  {
   "cell_type": "code",
   "execution_count": 1,
   "metadata": {},
   "outputs": [],
   "source": [
    "import sys, os\n",
    "import numpy as np\n",
    "import urllib as ul\n",
    "import gwTools as gwt\n",
    "import pandas as pd\n",
    "import matplotlib.pyplot as plt\n",
    "%matplotlib inline"
   ]
  },
  {
   "cell_type": "markdown",
   "metadata": {},
   "source": [
    "##  Save and filter down to the needed parameters for GW calculations with binary masses."
   ]
  },
  {
   "cell_type": "code",
   "execution_count": 2,
   "metadata": {},
   "outputs": [],
   "source": [
    "# The Directory to save the csv file.\n",
    "thisDir = os.getcwd()\n",
    "csvDir = thisDir + '/../dbases/'"
   ]
  },
  {
   "cell_type": "code",
   "execution_count": 3,
   "metadata": {},
   "outputs": [],
   "source": [
    "# The search URL and search string/request. \n",
    "exopURL = \\\n",
    "  \"https://exoplanetarchive.ipac.caltech.edu/cgi-bin/nstedAPI/nph-\\\n",
    "nstedAPI?\" ;\n",
    "\n",
    "#searchString = \\\n",
    "#\"table=exoplanets&select=pl_hostname,ra,dec&order=dec&format=CSV\";*)\n",
    "\n",
    "# The Below does NOT have right ascension and declination.  Will likely want them for further work.\n",
    "# Can add later in its own Panda dataframe and/or merge into the main one in GWStrainPlotsSNR.\n",
    "# variables come from NASA Exoplanet Archive, the keywords are defined here: \n",
    "#https://exoplanetarchive.ipac.caltech.edu/docs/API_exoplanet_columns.html \n",
    "searchString = \\\n",
    "  \"table=exoplanets&select=pl_hostname,pl_letter,pl_discmethod,pl_\\\n",
    "orbper,pl_orbsmax,pl_orbeccen,pl_bmassj,st_dist,st_mass,rowupdate,st_\\\n",
    "plx&order=dec&format=CSV\";"
   ]
  },
  {
   "cell_type": "code",
   "execution_count": 4,
   "metadata": {},
   "outputs": [],
   "source": [
    "# Set to True to re-read the EXop Dbase from Caltech.  False to use csvFname below.\n",
    "#newImport = True;\n",
    "newImport = False;"
   ]
  },
  {
   "cell_type": "code",
   "execution_count": 5,
   "metadata": {},
   "outputs": [
    {
     "name": "stdout",
     "output_type": "stream",
     "text": [
      "Saved database file /home/gabella/Documents/astro/exop/exoplanetsMath/python/../dbases/exopP_20180403_110820.csv\n"
     ]
    }
   ],
   "source": [
    "# csv file below was downloaded earlier with code below.  newImport = False to use it.  Or new csv will be\n",
    "# created.  This takes a few seconds.\n",
    "csvFname = csvDir + 'exopP_20180403_110820.csv'  \n",
    "if newImport:\n",
    "    myDateTimeStamp = gwt.dateTimeStamp()  # See the gwtools.py file with this and other functions in it.\n",
    "    csvFname = csvDir + 'exopP_' + myDateTimeStamp + '.csv'\n",
    "    ofile = open(csvFname, 'w')\n",
    "    with ul.request.urlopen(exopURL + searchString) as response:\n",
    "        for aline in response:\n",
    "            ofile.write( aline.decode('utf-8') )  # byte-string needs to be decoded. utf-8 is common encoding\n",
    "            #print( aline )\n",
    "    ofile.close()\n",
    "\n",
    "print('Saved database file ' + csvFname)"
   ]
  },
  {
   "cell_type": "markdown",
   "metadata": {},
   "source": [
    "## Check the file contents and number of exops with required data (filtering/dropping)."
   ]
  },
  {
   "cell_type": "code",
   "execution_count": 6,
   "metadata": {},
   "outputs": [
    {
     "name": "stdout",
     "output_type": "stream",
     "text": [
      "pl_hostname,pl_letter,pl_discmethod,pl_orbper,pl_orbsmax,pl_orbeccen,pl_bmassj,st_dist,st_mass,rowupdate,st_plx\n",
      " \n",
      " HD 142022 A,b,Radial Velocity,1928.00000000,3.030000,0.530000,5.10000,35.87,0.99,2014-05-14,27.88\n",
      "\n"
     ]
    }
   ],
   "source": [
    "# Checked that it worked by printing a couple of lines.\n",
    "with open(csvFname, 'r') as ifile:\n",
    "    print(ifile.readline(), '\\n', ifile.readline() )  #Print a couple of lines \n",
    "\n",
    "    ifile.seek(0);  # and reset the pointer.\n",
    "\n",
    "    dbData = pd.read_csv(ifile)  # Read the file into a Panda dataframe\n",
    "    ifile.close()"
   ]
  },
  {
   "cell_type": "code",
   "execution_count": 7,
   "metadata": {},
   "outputs": [
    {
     "data": {
      "text/html": [
       "<div>\n",
       "<style scoped>\n",
       "    .dataframe tbody tr th:only-of-type {\n",
       "        vertical-align: middle;\n",
       "    }\n",
       "\n",
       "    .dataframe tbody tr th {\n",
       "        vertical-align: top;\n",
       "    }\n",
       "\n",
       "    .dataframe thead th {\n",
       "        text-align: right;\n",
       "    }\n",
       "</style>\n",
       "<table border=\"1\" class=\"dataframe\">\n",
       "  <thead>\n",
       "    <tr style=\"text-align: right;\">\n",
       "      <th></th>\n",
       "      <th>pl_hostname</th>\n",
       "      <th>pl_letter</th>\n",
       "      <th>pl_discmethod</th>\n",
       "      <th>pl_orbper</th>\n",
       "      <th>pl_orbsmax</th>\n",
       "      <th>pl_orbeccen</th>\n",
       "      <th>pl_bmassj</th>\n",
       "      <th>st_dist</th>\n",
       "      <th>st_mass</th>\n",
       "      <th>rowupdate</th>\n",
       "      <th>st_plx</th>\n",
       "    </tr>\n",
       "  </thead>\n",
       "  <tbody>\n",
       "    <tr>\n",
       "      <th>0</th>\n",
       "      <td>HD 142022 A</td>\n",
       "      <td>b</td>\n",
       "      <td>Radial Velocity</td>\n",
       "      <td>1928.000000</td>\n",
       "      <td>3.0300</td>\n",
       "      <td>0.5300</td>\n",
       "      <td>5.100</td>\n",
       "      <td>35.87</td>\n",
       "      <td>0.99</td>\n",
       "      <td>2014-05-14</td>\n",
       "      <td>27.88</td>\n",
       "    </tr>\n",
       "    <tr>\n",
       "      <th>1</th>\n",
       "      <td>HD 39091</td>\n",
       "      <td>b</td>\n",
       "      <td>Radial Velocity</td>\n",
       "      <td>2151.000000</td>\n",
       "      <td>3.3800</td>\n",
       "      <td>0.6405</td>\n",
       "      <td>10.270</td>\n",
       "      <td>18.21</td>\n",
       "      <td>1.10</td>\n",
       "      <td>2014-07-23</td>\n",
       "      <td>54.92</td>\n",
       "    </tr>\n",
       "    <tr>\n",
       "      <th>2</th>\n",
       "      <td>HD 137388 A</td>\n",
       "      <td>b</td>\n",
       "      <td>Radial Velocity</td>\n",
       "      <td>330.000000</td>\n",
       "      <td>0.8900</td>\n",
       "      <td>0.3600</td>\n",
       "      <td>0.223</td>\n",
       "      <td>38.45</td>\n",
       "      <td>0.86</td>\n",
       "      <td>2014-05-14</td>\n",
       "      <td>26.01</td>\n",
       "    </tr>\n",
       "    <tr>\n",
       "      <th>3</th>\n",
       "      <td>GJ 3021</td>\n",
       "      <td>b</td>\n",
       "      <td>Radial Velocity</td>\n",
       "      <td>133.710000</td>\n",
       "      <td>0.4900</td>\n",
       "      <td>0.5110</td>\n",
       "      <td>3.370</td>\n",
       "      <td>17.62</td>\n",
       "      <td>0.90</td>\n",
       "      <td>2014-05-14</td>\n",
       "      <td>56.76</td>\n",
       "    </tr>\n",
       "    <tr>\n",
       "      <th>4</th>\n",
       "      <td>HD 63454</td>\n",
       "      <td>b</td>\n",
       "      <td>Radial Velocity</td>\n",
       "      <td>2.818049</td>\n",
       "      <td>0.0368</td>\n",
       "      <td>0.0000</td>\n",
       "      <td>0.398</td>\n",
       "      <td>35.80</td>\n",
       "      <td>0.84</td>\n",
       "      <td>2015-03-26</td>\n",
       "      <td>27.93</td>\n",
       "    </tr>\n",
       "    <tr>\n",
       "      <th>5</th>\n",
       "      <td>HD 212301</td>\n",
       "      <td>b</td>\n",
       "      <td>Radial Velocity</td>\n",
       "      <td>2.245715</td>\n",
       "      <td>0.0360</td>\n",
       "      <td>0.0000</td>\n",
       "      <td>0.450</td>\n",
       "      <td>52.72</td>\n",
       "      <td>1.27</td>\n",
       "      <td>2014-05-14</td>\n",
       "      <td>18.97</td>\n",
       "    </tr>\n",
       "    <tr>\n",
       "      <th>6</th>\n",
       "      <td>CHXR 73</td>\n",
       "      <td>b</td>\n",
       "      <td>Imaging</td>\n",
       "      <td>NaN</td>\n",
       "      <td>210.0000</td>\n",
       "      <td>NaN</td>\n",
       "      <td>12.569</td>\n",
       "      <td>NaN</td>\n",
       "      <td>0.35</td>\n",
       "      <td>2014-05-14</td>\n",
       "      <td>NaN</td>\n",
       "    </tr>\n",
       "    <tr>\n",
       "      <th>7</th>\n",
       "      <td>CT Cha</td>\n",
       "      <td>b</td>\n",
       "      <td>Imaging</td>\n",
       "      <td>NaN</td>\n",
       "      <td>440.0000</td>\n",
       "      <td>NaN</td>\n",
       "      <td>17.000</td>\n",
       "      <td>165.00</td>\n",
       "      <td>NaN</td>\n",
       "      <td>2014-05-14</td>\n",
       "      <td>NaN</td>\n",
       "    </tr>\n",
       "    <tr>\n",
       "      <th>8</th>\n",
       "      <td>HD 196067</td>\n",
       "      <td>b</td>\n",
       "      <td>Radial Velocity</td>\n",
       "      <td>3638.000000</td>\n",
       "      <td>5.0200</td>\n",
       "      <td>0.6600</td>\n",
       "      <td>6.900</td>\n",
       "      <td>43.57</td>\n",
       "      <td>1.29</td>\n",
       "      <td>2014-05-14</td>\n",
       "      <td>22.95</td>\n",
       "    </tr>\n",
       "    <tr>\n",
       "      <th>9</th>\n",
       "      <td>HD 68402</td>\n",
       "      <td>b</td>\n",
       "      <td>Radial Velocity</td>\n",
       "      <td>1103.000000</td>\n",
       "      <td>2.1800</td>\n",
       "      <td>0.0300</td>\n",
       "      <td>3.070</td>\n",
       "      <td>78.00</td>\n",
       "      <td>1.12</td>\n",
       "      <td>2016-11-10</td>\n",
       "      <td>12.82</td>\n",
       "    </tr>\n",
       "  </tbody>\n",
       "</table>\n",
       "</div>"
      ],
      "text/plain": [
       "   pl_hostname pl_letter    pl_discmethod    pl_orbper  pl_orbsmax  \\\n",
       "0  HD 142022 A         b  Radial Velocity  1928.000000      3.0300   \n",
       "1     HD 39091         b  Radial Velocity  2151.000000      3.3800   \n",
       "2  HD 137388 A         b  Radial Velocity   330.000000      0.8900   \n",
       "3      GJ 3021         b  Radial Velocity   133.710000      0.4900   \n",
       "4     HD 63454         b  Radial Velocity     2.818049      0.0368   \n",
       "5    HD 212301         b  Radial Velocity     2.245715      0.0360   \n",
       "6      CHXR 73         b          Imaging          NaN    210.0000   \n",
       "7       CT Cha         b          Imaging          NaN    440.0000   \n",
       "8    HD 196067         b  Radial Velocity  3638.000000      5.0200   \n",
       "9     HD 68402         b  Radial Velocity  1103.000000      2.1800   \n",
       "\n",
       "   pl_orbeccen  pl_bmassj  st_dist  st_mass   rowupdate  st_plx  \n",
       "0       0.5300      5.100    35.87     0.99  2014-05-14   27.88  \n",
       "1       0.6405     10.270    18.21     1.10  2014-07-23   54.92  \n",
       "2       0.3600      0.223    38.45     0.86  2014-05-14   26.01  \n",
       "3       0.5110      3.370    17.62     0.90  2014-05-14   56.76  \n",
       "4       0.0000      0.398    35.80     0.84  2015-03-26   27.93  \n",
       "5       0.0000      0.450    52.72     1.27  2014-05-14   18.97  \n",
       "6          NaN     12.569      NaN     0.35  2014-05-14     NaN  \n",
       "7          NaN     17.000   165.00      NaN  2014-05-14     NaN  \n",
       "8       0.6600      6.900    43.57     1.29  2014-05-14   22.95  \n",
       "9       0.0300      3.070    78.00     1.12  2016-11-10   12.82  "
      ]
     },
     "execution_count": 7,
     "metadata": {},
     "output_type": "execute_result"
    }
   ],
   "source": [
    "dbData.head(10)  # NaN's show up in the field with no data!  Want to drop these from the dataframe."
   ]
  },
  {
   "cell_type": "code",
   "execution_count": 8,
   "metadata": {},
   "outputs": [],
   "source": [
    "# Graphic from the Mathematica file for filtering, data from 20180201_092937.csv.\n",
    "# print('Screenshot from the Mathematica file for filtering, data from 20180201_092937.csv.')\n",
    "# print('For comparison with below .dropna() Pandas version.')\n",
    "# from IPython.display import Image\n",
    "# Image(filename = 'filteringMathematica.png')"
   ]
  },
  {
   "cell_type": "code",
   "execution_count": 9,
   "metadata": {},
   "outputs": [
    {
     "name": "stdout",
     "output_type": "stream",
     "text": [
      "Original number of exoplanets in csv file  3708\n"
     ]
    }
   ],
   "source": [
    "print('Original number of exoplanets in csv file ', len(dbData) )"
   ]
  },
  {
   "cell_type": "markdown",
   "metadata": {},
   "source": [
    "## Use .dropna() in pandas to remove all the NaN's, i.e. the missing data rows/exops."
   ]
  },
  {
   "cell_type": "code",
   "execution_count": 10,
   "metadata": {},
   "outputs": [
    {
     "name": "stdout",
     "output_type": "stream",
     "text": [
      "Rows of all data, dbData  3708\n",
      "Rows with pl_orbeccen\t 1172\n",
      "Rows with pl_orbper\t 1172\n",
      "Rows with pl_orbsmax\t 1107\n",
      "Rows with pl_bmassj\t 1027\n",
      "Rows with st_dist\t 920\n",
      "Rows with st_mass\t 910\n"
     ]
    }
   ],
   "source": [
    "# {\"pl_hostname\", \"pl_letter\", \"pl_discmethod\", \"pl_orbper\", \\\n",
    "# \"pl_orbsmax\", \"pl_orbeccen\", \"pl_bmassj\", \"st_dist\", \"st_mass\", \\\n",
    "# \"rowupdate\", \"st_plx\"}\n",
    "print('Rows of all data, dbData ', len(dbData) )\n",
    "aData = dbData.dropna(axis = 0, how = 'any', subset = ['pl_orbeccen'])\n",
    "print('Rows with pl_orbeccen\\t', len(aData) )\n",
    "\n",
    "aData = aData.dropna(axis = 0, how = 'any', subset = ['pl_orbper'])\n",
    "print('Rows with pl_orbper\\t', len(aData) )\n",
    "\n",
    "aData = aData.dropna(axis = 0, how = 'any', subset = ['pl_orbsmax'])\n",
    "print('Rows with pl_orbsmax\\t', len(aData) )\n",
    "\n",
    "aData = aData.dropna(axis = 0, how = 'any', subset = ['pl_bmassj'])\n",
    "print('Rows with pl_bmassj\\t', len(aData) )\n",
    "\n",
    "aData = aData.dropna(axis = 0, how = 'any', subset = ['st_dist'])\n",
    "print('Rows with st_dist\\t', len(aData) )\n",
    "\n",
    "aData = aData.dropna(axis = 0, how = 'any', subset = ['st_mass'])\n",
    "print('Rows with st_mass\\t', len(aData) )"
   ]
  },
  {
   "cell_type": "markdown",
   "metadata": {},
   "source": [
    "## Some histograms"
   ]
  },
  {
   "cell_type": "markdown",
   "metadata": {},
   "source": [
    "### A list of the columns to histogram"
   ]
  },
  {
   "cell_type": "code",
   "execution_count": 25,
   "metadata": {},
   "outputs": [],
   "source": [
    "histCols = ['pl_orbeccen', 'pl_orbper', 'pl_orbsmax', 'pl_bmassj', 'st_dist', 'st_mass']\n",
    "titles = ['Eccentricy', 'Orbital Period', 'SemiMajor Axis', 'Planet Mass', 'Stellar Distance', 'Stellar Mass']\n",
    "xlabels = ['eccentricity', 'orbital period (d)', 'semi-major axis (au)', 'planet mass (M_J)', \n",
    "           'stellar distance (pc)', 'stellar mass (M_sol)']"
   ]
  },
  {
   "cell_type": "code",
   "execution_count": 29,
   "metadata": {
    "scrolled": false
   },
   "outputs": [
    {
     "data": {
      "image/png": "[encoded data removed]",
      "text/plain": [
       "<matplotlib.figure.Figure at 0x7fcb87a3ccc0>"
      ]
     },
     "metadata": {},
     "output_type": "display_data"
    },
    {
     "data": {
      "image/png": "[encoded data removed]",
      "text/plain": [
       "<matplotlib.figure.Figure at 0x7fcb87bd1d30>"
      ]
     },
     "metadata": {},
     "output_type": "display_data"
    },
    {
     "data": {
      "image/png": "[encoded data removed]",
      "text/plain": [
       "<matplotlib.figure.Figure at 0x7fcb8730f160>"
      ]
     },
     "metadata": {},
     "output_type": "display_data"
    },
    {
     "data": {
      "image/png": "[encoded data removed]",
      "text/plain": [
       "<matplotlib.figure.Figure at 0x7fcb868c2320>"
      ]
     },
     "metadata": {},
     "output_type": "display_data"
    },
    {
     "data": {
      "image/png": "[encoded data removed]",
      "text/plain": [
       "<matplotlib.figure.Figure at 0x7fcb866e7be0>"
      ]
     },
     "metadata": {},
     "output_type": "display_data"
    },
    {
     "data": {
      "image/png": "[encoded data removed]",
      "text/plain": [
       "<matplotlib.figure.Figure at 0x7fcb866eb2b0>"
      ]
     },
     "metadata": {},
     "output_type": "display_data"
    }
   ],
   "source": [
    "figs=[]\n",
    "axs=[]\n",
    "for icol, ititle, ixlabel in zip(histCols, titles, xlabels):\n",
    "    # time to get fancy\n",
    "    afig = plt.figure( figsize=(10,8) )\n",
    "    figs.append( afig )\n",
    "    ax = afig.add_subplot((111))\n",
    "    axs.append( ax )\n",
    "    aData.hist(icol, ax=ax, bins=20)\n",
    "    ax.set_title('Exoplanets with ' + ititle)\n",
    "    #ax.set_xscale('log')\n",
    "    ax.set_yscale('log')\n",
    "    ax.set_ylabel('number')\n",
    "    ax.set_xlabel(ixlabel)\n",
    "    plt.show()"
   ]
  },
  {
   "cell_type": "code",
   "execution_count": null,
   "metadata": {},
   "outputs": [],
   "source": [
    "# time to get fancy\n",
    "afig = plt.figure( figsize=(10,8) )\n",
    "ax = afig.add_subplot((111))\n",
    "aData.hist('pl_orbeccen', ax=ax, bins=20)\n",
    "ax.set_title('Exoplanets with Eccentricity')\n",
    "ax.set_yscale('log')\n",
    "ax.set_ylabel('number')\n",
    "ax.set_xlabel('eccentricity')"
   ]
  }
 ],
 "metadata": {
  "kernelspec": {
   "display_name": "Python 3",
   "language": "python",
   "name": "python3"
  },
  "language_info": {
   "codemirror_mode": {
    "name": "ipython",
    "version": 3
   },
   "file_extension": ".py",
   "mimetype": "text/x-python",
   "name": "python",
   "nbconvert_exporter": "python",
   "pygments_lexer": "ipython3",
   "version": "3.6.4"
  }
 },
 "nbformat": 4,
 "nbformat_minor": 2
}

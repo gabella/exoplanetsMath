{
 "cells": [
  {
   "cell_type": "markdown",
   "metadata": {},
   "source": [
    "# Some checks for the Kaze, Emanuele, Kelly, Bill note."
   ]
  },
  {
   "cell_type": "markdown",
   "metadata": {},
   "source": [
    "Note of 20180821 reponding to Fig. 2 of Cunha et al. \"Gravitational Waves From Ultra Short Period Exoplanets\""
   ]
  },
  {
   "cell_type": "code",
   "execution_count": 1,
   "metadata": {},
   "outputs": [],
   "source": [
    "import sys, os\n",
    "import numpy as np\n",
    "import urllib as ul\n",
    "import pandas as pd\n",
    "import gwTools as gwt\n",
    "import matplotlib.pyplot as plt\n",
    "%matplotlib inline\n",
    "import scipy as sp\n",
    "import scipy.interpolate as spint"
   ]
  },
  {
   "cell_type": "markdown",
   "metadata": {},
   "source": [
    "## Some Units"
   ]
  },
  {
   "cell_type": "code",
   "execution_count": 2,
   "metadata": {},
   "outputs": [
    {
     "name": "stdout",
     "output_type": "stream",
     "text": [
      "Compare my cee  299792458.0  and scipy.constants  299792458.0\n",
      "Compare my bigG  6.67408e-11  and scipy.constants  6.67408e-11\n"
     ]
    }
   ],
   "source": [
    "# Some scipy.constants for comparison mostly.\n",
    "from scipy.constants import speed_of_light, gravitational_constant, c, G, pi\n",
    "\n",
    "massSun = 1.989e30; #(*kg *)\n",
    "massJ = 1.898e27; #(* kg *)\n",
    "massE = 5.972e24; #(* kg *)\n",
    "massJe = massJ/massE; #(* Jupiter mass is 317.9 earth masses *)\n",
    "massJs = massJ/massSun; #(* relative to the sun's mass *)\n",
    "\n",
    "pc = 30.86e15; #(* meters, parsec *)\n",
    "au = 149.6e9; #(* meters, astron unit *)\n",
    "\n",
    "cee = 299792458.0; #(* meters/s, speed of light *)\n",
    "print('Compare my cee ', cee, ' and scipy.constants ', speed_of_light)\n",
    "cee = speed_of_light # Use the scipy.constants one.\n",
    "secsYear = 365.24*24.0*3600.0; #(* s, number of seconds in a year *) # What do astronomers use for this conversion?\n",
    "secsDay = 24.0*3600.0; #(* s, number of seconds in a day *)\n",
    "\n",
    "bigG = 6.67408e-11; #(* SI Gravitational constant, m^3/kg/s *)\n",
    "print('Compare my bigG ', bigG, ' and scipy.constants ', gravitational_constant)\n",
    "bigG = gravitational_constant\n",
    "\n",
    "rscon = 2*bigG*massSun/(cee*cee) #(* 2955.43 m, solar mass Scharzschild radius *)\n",
    "lunits = bigG*massSun/(cee*cee) #(* meters per solar mass, units of G=c=1, no factor\n",
    "#of 2 as in Schwarzschild radius *)\n",
    "masscon = lunits; #(* m, G Msol/c^2, for 1 solar mass *)\n",
    "powercon = cee**5/bigG  #(* 3.628e52 W, c^5/G, W/unit since P is dimensionless in G=c=1 units *)\n",
    "energycon = (cee**4)/bigG  #(* 1.210e44 J/m, c^4/G *)"
   ]
  },
  {
   "cell_type": "code",
   "execution_count": 3,
   "metadata": {},
   "outputs": [],
   "source": [
    "thisDir = os.getcwd()  # This is the /python subdirectory.\n",
    "csvDir = thisDir + '/../dbases/'  # Will the /../ work on non-Unices?\n",
    "pixDir = thisDir + '/../pix/'"
   ]
  },
  {
   "cell_type": "code",
   "execution_count": 4,
   "metadata": {},
   "outputs": [],
   "source": [
    "# Set to True to re-read the EXop Dbase from Caltech.  False to use csvFname below.\n",
    "newImport = False;\n",
    "#newImport = False;\n",
    "saveFile = True;# Future work, when we do NOT want an intermediate file here would set to False, but needs coding.\n",
    "#saveFile = False;\n",
    "\n",
    "# csv file below was downloaded earlier with code below.  newImport = False to use it.  Or new csv will be\n",
    "# created.  This takes a few seconds.\n",
    "csvFileName = csvDir + 'exopP_20180518_173344.csv' \n",
    "if newImport and saveFile:\n",
    "    myDateTimeStamp = gwt.dateTimeStamp()  # See the gwtools.py file with this and other functions in it.\n",
    "    csvFileName = csvDir + 'exopP_' + myDateTimeStamp + '.csv'\n",
    "    ofile = open(csvFname, 'w')\n",
    "    with ul.request.urlopen(exopURL + searchString) as response:\n",
    "        for aline in response:\n",
    "            ofile.write( aline.decode('utf-8') )  # byte-string needs to be decoded. utf-8 is common encoding\n",
    "    ofile.close()\n",
    "    print('Saved database file ' + csvFileName)\n"
   ]
  },
  {
   "cell_type": "code",
   "execution_count": 5,
   "metadata": {},
   "outputs": [
    {
     "name": "stdout",
     "output_type": "stream",
     "text": [
      "Using database file /home/gabella/Documents/astro/exop/exoplanetsMath/python/../dbases/exopP_20180518_173344.csv\n",
      "pl_hostname,pl_letter,pl_discmethod,pl_orbper,pl_orbsmax,pl_orbeccen,pl_bmassj,st_dist,st_mass,rowupdate,st_plx\n",
      " \n",
      " HD 142022 A,b,Radial Velocity,1928.00000000,2.930000,0.530000,4.44000,35.87,0.90,2018-04-26,27.88\n",
      "\n"
     ]
    }
   ],
   "source": [
    "print('Using database file ' + csvFileName)\n",
    "with open(csvFileName, 'r') as ifile:\n",
    "    print(ifile.readline(), '\\n', ifile.readline() )  #Print a couple of lines and reset the pointer.\n",
    "\n",
    "    ifile.seek(0);\n",
    "\n",
    "    dbData = pd.read_csv(ifile)  # Read in the whole file to a Panda Dataframe, handles NaN's nicely, see below.\n",
    "    #ifile.close()  # Should close when you leave the \"with.\""
   ]
  },
  {
   "cell_type": "code",
   "execution_count": 6,
   "metadata": {},
   "outputs": [
    {
     "data": {
      "text/html": [
       "<div>\n",
       "<style scoped>\n",
       "    .dataframe tbody tr th:only-of-type {\n",
       "        vertical-align: middle;\n",
       "    }\n",
       "\n",
       "    .dataframe tbody tr th {\n",
       "        vertical-align: top;\n",
       "    }\n",
       "\n",
       "    .dataframe thead th {\n",
       "        text-align: right;\n",
       "    }\n",
       "</style>\n",
       "<table border=\"1\" class=\"dataframe\">\n",
       "  <thead>\n",
       "    <tr style=\"text-align: right;\">\n",
       "      <th></th>\n",
       "      <th>pl_hostname</th>\n",
       "      <th>pl_letter</th>\n",
       "      <th>pl_discmethod</th>\n",
       "      <th>pl_orbper</th>\n",
       "      <th>pl_orbsmax</th>\n",
       "      <th>pl_orbeccen</th>\n",
       "      <th>pl_bmassj</th>\n",
       "      <th>st_dist</th>\n",
       "      <th>st_mass</th>\n",
       "      <th>rowupdate</th>\n",
       "      <th>st_plx</th>\n",
       "    </tr>\n",
       "  </thead>\n",
       "  <tbody>\n",
       "    <tr>\n",
       "      <th>0</th>\n",
       "      <td>HD 142022 A</td>\n",
       "      <td>b</td>\n",
       "      <td>Radial Velocity</td>\n",
       "      <td>1928.00000</td>\n",
       "      <td>2.93</td>\n",
       "      <td>0.5300</td>\n",
       "      <td>4.440</td>\n",
       "      <td>35.87</td>\n",
       "      <td>0.90</td>\n",
       "      <td>2018-04-26</td>\n",
       "      <td>27.88</td>\n",
       "    </tr>\n",
       "    <tr>\n",
       "      <th>1</th>\n",
       "      <td>HD 39091</td>\n",
       "      <td>b</td>\n",
       "      <td>Radial Velocity</td>\n",
       "      <td>2151.00000</td>\n",
       "      <td>3.38</td>\n",
       "      <td>0.6405</td>\n",
       "      <td>10.270</td>\n",
       "      <td>18.21</td>\n",
       "      <td>1.10</td>\n",
       "      <td>2014-07-23</td>\n",
       "      <td>54.92</td>\n",
       "    </tr>\n",
       "    <tr>\n",
       "      <th>2</th>\n",
       "      <td>HD 137388 A</td>\n",
       "      <td>b</td>\n",
       "      <td>Radial Velocity</td>\n",
       "      <td>330.00000</td>\n",
       "      <td>0.89</td>\n",
       "      <td>0.3600</td>\n",
       "      <td>0.200</td>\n",
       "      <td>38.45</td>\n",
       "      <td>0.68</td>\n",
       "      <td>2018-04-26</td>\n",
       "      <td>26.01</td>\n",
       "    </tr>\n",
       "    <tr>\n",
       "      <th>3</th>\n",
       "      <td>GJ 3021</td>\n",
       "      <td>b</td>\n",
       "      <td>Radial Velocity</td>\n",
       "      <td>133.71000</td>\n",
       "      <td>0.49</td>\n",
       "      <td>0.5110</td>\n",
       "      <td>3.370</td>\n",
       "      <td>17.62</td>\n",
       "      <td>0.90</td>\n",
       "      <td>2014-05-14</td>\n",
       "      <td>56.76</td>\n",
       "    </tr>\n",
       "    <tr>\n",
       "      <th>4</th>\n",
       "      <td>HD 63454</td>\n",
       "      <td>b</td>\n",
       "      <td>Radial Velocity</td>\n",
       "      <td>2.81805</td>\n",
       "      <td>0.04</td>\n",
       "      <td>0.0000</td>\n",
       "      <td>0.250</td>\n",
       "      <td>35.80</td>\n",
       "      <td>0.42</td>\n",
       "      <td>2018-04-26</td>\n",
       "      <td>27.93</td>\n",
       "    </tr>\n",
       "    <tr>\n",
       "      <th>5</th>\n",
       "      <td>HD 212301</td>\n",
       "      <td>b</td>\n",
       "      <td>Radial Velocity</td>\n",
       "      <td>2.24571</td>\n",
       "      <td>0.03</td>\n",
       "      <td>0.0000</td>\n",
       "      <td>0.510</td>\n",
       "      <td>52.72</td>\n",
       "      <td>1.55</td>\n",
       "      <td>2018-04-26</td>\n",
       "      <td>18.97</td>\n",
       "    </tr>\n",
       "    <tr>\n",
       "      <th>6</th>\n",
       "      <td>CHXR 73</td>\n",
       "      <td>b</td>\n",
       "      <td>Imaging</td>\n",
       "      <td>NaN</td>\n",
       "      <td>210.00</td>\n",
       "      <td>NaN</td>\n",
       "      <td>12.569</td>\n",
       "      <td>NaN</td>\n",
       "      <td>0.35</td>\n",
       "      <td>2014-05-14</td>\n",
       "      <td>NaN</td>\n",
       "    </tr>\n",
       "  </tbody>\n",
       "</table>\n",
       "</div>"
      ],
      "text/plain": [
       "   pl_hostname pl_letter    pl_discmethod   pl_orbper  pl_orbsmax  \\\n",
       "0  HD 142022 A         b  Radial Velocity  1928.00000        2.93   \n",
       "1     HD 39091         b  Radial Velocity  2151.00000        3.38   \n",
       "2  HD 137388 A         b  Radial Velocity   330.00000        0.89   \n",
       "3      GJ 3021         b  Radial Velocity   133.71000        0.49   \n",
       "4     HD 63454         b  Radial Velocity     2.81805        0.04   \n",
       "5    HD 212301         b  Radial Velocity     2.24571        0.03   \n",
       "6      CHXR 73         b          Imaging         NaN      210.00   \n",
       "\n",
       "   pl_orbeccen  pl_bmassj  st_dist  st_mass   rowupdate  st_plx  \n",
       "0       0.5300      4.440    35.87     0.90  2018-04-26   27.88  \n",
       "1       0.6405     10.270    18.21     1.10  2014-07-23   54.92  \n",
       "2       0.3600      0.200    38.45     0.68  2018-04-26   26.01  \n",
       "3       0.5110      3.370    17.62     0.90  2014-05-14   56.76  \n",
       "4       0.0000      0.250    35.80     0.42  2018-04-26   27.93  \n",
       "5       0.0000      0.510    52.72     1.55  2018-04-26   18.97  \n",
       "6          NaN     12.569      NaN     0.35  2014-05-14     NaN  "
      ]
     },
     "execution_count": 6,
     "metadata": {},
     "output_type": "execute_result"
    }
   ],
   "source": [
    "dbData.head(7)  # NaN's show up when the field has no data.  Need both masses, eccentricity, semimajor axis, \n",
    "# and distance."
   ]
  },
  {
   "cell_type": "code",
   "execution_count": 7,
   "metadata": {},
   "outputs": [
    {
     "name": "stdout",
     "output_type": "stream",
     "text": [
      "(array([504]),) [504]\n",
      "        pl_hostname pl_letter  pl_discmethod  pl_orbper  pl_orbsmax  \\\n",
      "504  PSR J1719-1438         b  Pulsar Timing   0.090706      0.0044   \n",
      "\n",
      "     pl_orbeccen  pl_bmassj  st_dist  st_mass   rowupdate  st_plx  \n",
      "504         0.06        1.2   1200.0      1.4  2014-05-14     NaN  \n"
     ]
    }
   ],
   "source": [
    "aa = np.where( dbData.pl_hostname == 'PSR J1719-1438')\n",
    "print(aa,aa[0])\n",
    "print( dbData.iloc[aa] )"
   ]
  },
  {
   "cell_type": "code",
   "execution_count": 8,
   "metadata": {},
   "outputs": [
    {
     "name": "stdout",
     "output_type": "stream",
     "text": [
      "[0.         0.02538462 0.05076923 0.07615385 0.10153846 0.12692308\n",
      " 0.15230769 0.17769231 0.20307692 0.22846154 0.25384615 0.27923077\n",
      " 0.30461538 0.33       0.35538462 0.38076923 0.40615385 0.43153846\n",
      " 0.45692308 0.48230769 0.50769231 0.53307692 0.55846154 0.58384615\n",
      " 0.60923077 0.63461538 0.66       0.68538462 0.71076923 0.73615385\n",
      " 0.76153846 0.78692308 0.81230769 0.83769231 0.86307692 0.88846154\n",
      " 0.91384615 0.93923077 0.96461538 0.99      ]\n",
      "0.4927752455824703\n"
     ]
    },
    {
     "data": {
      "image/png": "[encoded data removed]",
      "text/plain": [
       "<matplotlib.figure.Figure at 0x7f2391348f28>"
      ]
     },
     "metadata": {},
     "output_type": "display_data"
    }
   ],
   "source": [
    "ee = np.linspace(0.0, 0.99, 40)\n",
    "nn = np.array( [1,2,3,4])\n",
    "colors = [ 'k-', 'b-', 'r-', 'g-']\n",
    "\n",
    "print(ee)\n",
    "print(np.sqrt(gwt.ggSimp(2,ee[3]))/2.0 )\n",
    "\n",
    "fig, ax = plt.subplots( figsize=(10,8) )\n",
    "\n",
    "icnt = 0\n",
    "for ii in nn:\n",
    "    astr = 'mode {}'.format(ii)\n",
    "    yy = [ np.sqrt(gwt.ggSimp(ii,eee))/ii for eee in ee ]\n",
    "    ax.plot(ee,  yy, colors[icnt], label=astr)\n",
    "    icnt += 1\n",
    "ax.set_xlim([0,1])\n",
    "plt.grid(True)\n",
    "plt.legend()\n",
    "plt.show()\n"
   ]
  },
  {
   "cell_type": "code",
   "execution_count": 9,
   "metadata": {},
   "outputs": [
    {
     "name": "stdout",
     "output_type": "stream",
     "text": [
      "0.5\n"
     ]
    }
   ],
   "source": [
    "yy = np.sqrt(gwt.ggSimp(2,0.0))/2\n",
    "print( yy )"
   ]
  },
  {
   "cell_type": "code",
   "execution_count": 10,
   "metadata": {},
   "outputs": [
    {
     "data": {
      "text/plain": [
       "0.0"
      ]
     },
     "execution_count": 10,
     "metadata": {},
     "output_type": "execute_result"
    }
   ],
   "source": [
    "gwt.ggSimp(1,0.0)"
   ]
  },
  {
   "cell_type": "code",
   "execution_count": 11,
   "metadata": {},
   "outputs": [
    {
     "name": "stdout",
     "output_type": "stream",
     "text": [
      "0.0\n"
     ]
    }
   ],
   "source": [
    "print( gwt.ggPM(4,0.0) )"
   ]
  },
  {
   "cell_type": "code",
   "execution_count": 12,
   "metadata": {},
   "outputs": [
    {
     "name": "stderr",
     "output_type": "stream",
     "text": [
      "/home/gabella/Documents/astro/exop/exoplanetsMath/python/gwTools.py:307: RuntimeWarning: overflow encountered in exp\n",
      "  S_c = bigA*np.power( freq, -7/3 )*np.exp( bexp )*acoeff  # Eqn. (14) has a big, ol' A in front!!??\n",
      "/home/gabella/Documents/astro/exop/exoplanetsMath/python/gwTools.py:307: RuntimeWarning: invalid value encountered in multiply\n",
      "  S_c = bigA*np.power( freq, -7/3 )*np.exp( bexp )*acoeff  # Eqn. (14) has a big, ol' A in front!!??\n"
     ]
    },
    {
     "data": {
      "image/png": "[encoded data removed]",
      "text/plain": [
       "<matplotlib.figure.Figure at 0x7f23918a0c18>"
      ]
     },
     "metadata": {},
     "output_type": "display_data"
    }
   ],
   "source": [
    "afreq = np.logspace( -5, 0, 30 )\n",
    "Sconf = gwt.lisa_Sconf(3)\n",
    "plt.loglog( afreq, np.sqrt( Sconf(afreq) ), 'b-' )\n",
    "plt.ylim([1e-21, 1e-14])\n",
    "plt.grid(True)\n",
    "#plt.plot( afreq, Sconf(afreq), 'b-' )"
   ]
  },
  {
   "cell_type": "markdown",
   "metadata": {},
   "source": [
    "## Cunha et al. exops plus PSR J1719-1438 b."
   ]
  },
  {
   "cell_type": "code",
   "execution_count": 13,
   "metadata": {},
   "outputs": [
    {
     "data": {
      "text/html": [
       "<div>\n",
       "<style scoped>\n",
       "    .dataframe tbody tr th:only-of-type {\n",
       "        vertical-align: middle;\n",
       "    }\n",
       "\n",
       "    .dataframe tbody tr th {\n",
       "        vertical-align: top;\n",
       "    }\n",
       "\n",
       "    .dataframe thead th {\n",
       "        text-align: right;\n",
       "    }\n",
       "</style>\n",
       "<table border=\"1\" class=\"dataframe\">\n",
       "  <thead>\n",
       "    <tr style=\"text-align: right;\">\n",
       "      <th></th>\n",
       "      <th>pl_hostname</th>\n",
       "      <th>pl_letter</th>\n",
       "      <th>pl_discmethod</th>\n",
       "      <th>pl_orbper</th>\n",
       "      <th>pl_orbsmax</th>\n",
       "      <th>pl_orbeccen</th>\n",
       "      <th>pl_bmassj</th>\n",
       "      <th>st_dist</th>\n",
       "      <th>st_mass</th>\n",
       "      <th>rowupdate</th>\n",
       "      <th>st_plx</th>\n",
       "    </tr>\n",
       "  </thead>\n",
       "  <tbody>\n",
       "    <tr>\n",
       "      <th>0</th>\n",
       "      <td>HD 142022 A</td>\n",
       "      <td>b</td>\n",
       "      <td>Radial Velocity</td>\n",
       "      <td>1928.0</td>\n",
       "      <td>2.93</td>\n",
       "      <td>0.5300</td>\n",
       "      <td>4.44</td>\n",
       "      <td>35.87</td>\n",
       "      <td>0.90</td>\n",
       "      <td>2018-04-26</td>\n",
       "      <td>27.88</td>\n",
       "    </tr>\n",
       "    <tr>\n",
       "      <th>1</th>\n",
       "      <td>HD 39091</td>\n",
       "      <td>b</td>\n",
       "      <td>Radial Velocity</td>\n",
       "      <td>2151.0</td>\n",
       "      <td>3.38</td>\n",
       "      <td>0.6405</td>\n",
       "      <td>10.27</td>\n",
       "      <td>18.21</td>\n",
       "      <td>1.10</td>\n",
       "      <td>2014-07-23</td>\n",
       "      <td>54.92</td>\n",
       "    </tr>\n",
       "    <tr>\n",
       "      <th>2</th>\n",
       "      <td>HD 137388 A</td>\n",
       "      <td>b</td>\n",
       "      <td>Radial Velocity</td>\n",
       "      <td>330.0</td>\n",
       "      <td>0.89</td>\n",
       "      <td>0.3600</td>\n",
       "      <td>0.20</td>\n",
       "      <td>38.45</td>\n",
       "      <td>0.68</td>\n",
       "      <td>2018-04-26</td>\n",
       "      <td>26.01</td>\n",
       "    </tr>\n",
       "  </tbody>\n",
       "</table>\n",
       "</div>"
      ],
      "text/plain": [
       "   pl_hostname pl_letter    pl_discmethod  pl_orbper  pl_orbsmax  pl_orbeccen  \\\n",
       "0  HD 142022 A         b  Radial Velocity     1928.0        2.93       0.5300   \n",
       "1     HD 39091         b  Radial Velocity     2151.0        3.38       0.6405   \n",
       "2  HD 137388 A         b  Radial Velocity      330.0        0.89       0.3600   \n",
       "\n",
       "   pl_bmassj  st_dist  st_mass   rowupdate  st_plx  \n",
       "0       4.44    35.87     0.90  2018-04-26   27.88  \n",
       "1      10.27    18.21     1.10  2014-07-23   54.92  \n",
       "2       0.20    38.45     0.68  2018-04-26   26.01  "
      ]
     },
     "execution_count": 13,
     "metadata": {},
     "output_type": "execute_result"
    }
   ],
   "source": [
    "dbData.head(3)"
   ]
  },
  {
   "cell_type": "code",
   "execution_count": 23,
   "metadata": {},
   "outputs": [],
   "source": [
    "cunha = [ ['GP Com', 'b', '', 0.032, 2.28e5*1000./au, 0.0, 26.2, 75.0, 0.435, '', ''],\n",
    "         ['V396 Hya', 'b', '', 0.045, 2.64e5*1000./au, 0.0, 18.3, 77, 0.345, '', ''],\n",
    "         ['J1433', 'b', '', 0.054, 3.97e5*1000./au, 0.0, 57.1, 226, 0.8, '', ''],\n",
    "         ['PSR J1719-14', 'b', '', 0.090, 6.58e5*1000./au, 0.06, 1.0, 1200., 1.4, '', '']]\n",
    "dbCunha = pd.DataFrame(cunha, columns = ['pl_hostname', 'pl_letter', 'pl_discmethod', 'pl_orbper', 'pl_orbsmax', 'pl_orbeccen', 'pl_bmassj', \n",
    "          'st_dist', 'st_mass', 'rowupdate', 'st_plx'] )"
   ]
  },
  {
   "cell_type": "code",
   "execution_count": 24,
   "metadata": {},
   "outputs": [
    {
     "data": {
      "text/html": [
       "<div>\n",
       "<style scoped>\n",
       "    .dataframe tbody tr th:only-of-type {\n",
       "        vertical-align: middle;\n",
       "    }\n",
       "\n",
       "    .dataframe tbody tr th {\n",
       "        vertical-align: top;\n",
       "    }\n",
       "\n",
       "    .dataframe thead th {\n",
       "        text-align: right;\n",
       "    }\n",
       "</style>\n",
       "<table border=\"1\" class=\"dataframe\">\n",
       "  <thead>\n",
       "    <tr style=\"text-align: right;\">\n",
       "      <th></th>\n",
       "      <th>pl_hostname</th>\n",
       "      <th>pl_letter</th>\n",
       "      <th>pl_discmethod</th>\n",
       "      <th>pl_orbper</th>\n",
       "      <th>pl_orbsmax</th>\n",
       "      <th>pl_orbeccen</th>\n",
       "      <th>pl_bmassj</th>\n",
       "      <th>st_dist</th>\n",
       "      <th>st_mass</th>\n",
       "      <th>rowupdate</th>\n",
       "      <th>st_plx</th>\n",
       "    </tr>\n",
       "  </thead>\n",
       "  <tbody>\n",
       "    <tr>\n",
       "      <th>0</th>\n",
       "      <td>GP Com</td>\n",
       "      <td>b</td>\n",
       "      <td></td>\n",
       "      <td>0.032</td>\n",
       "      <td>0.001524</td>\n",
       "      <td>0.00</td>\n",
       "      <td>26.2</td>\n",
       "      <td>75.0</td>\n",
       "      <td>0.435</td>\n",
       "      <td></td>\n",
       "      <td></td>\n",
       "    </tr>\n",
       "    <tr>\n",
       "      <th>1</th>\n",
       "      <td>V396 Hya</td>\n",
       "      <td>b</td>\n",
       "      <td></td>\n",
       "      <td>0.045</td>\n",
       "      <td>0.001765</td>\n",
       "      <td>0.00</td>\n",
       "      <td>18.3</td>\n",
       "      <td>77.0</td>\n",
       "      <td>0.345</td>\n",
       "      <td></td>\n",
       "      <td></td>\n",
       "    </tr>\n",
       "    <tr>\n",
       "      <th>2</th>\n",
       "      <td>J1433</td>\n",
       "      <td>b</td>\n",
       "      <td></td>\n",
       "      <td>0.054</td>\n",
       "      <td>0.002654</td>\n",
       "      <td>0.00</td>\n",
       "      <td>57.1</td>\n",
       "      <td>226.0</td>\n",
       "      <td>0.800</td>\n",
       "      <td></td>\n",
       "      <td></td>\n",
       "    </tr>\n",
       "    <tr>\n",
       "      <th>3</th>\n",
       "      <td>PSR J1719-14</td>\n",
       "      <td>b</td>\n",
       "      <td></td>\n",
       "      <td>0.090</td>\n",
       "      <td>0.004398</td>\n",
       "      <td>0.06</td>\n",
       "      <td>1.0</td>\n",
       "      <td>1200.0</td>\n",
       "      <td>1.400</td>\n",
       "      <td></td>\n",
       "      <td></td>\n",
       "    </tr>\n",
       "  </tbody>\n",
       "</table>\n",
       "</div>"
      ],
      "text/plain": [
       "    pl_hostname pl_letter pl_discmethod  pl_orbper  pl_orbsmax  pl_orbeccen  \\\n",
       "0        GP Com         b                    0.032    0.001524         0.00   \n",
       "1      V396 Hya         b                    0.045    0.001765         0.00   \n",
       "2         J1433         b                    0.054    0.002654         0.00   \n",
       "3  PSR J1719-14         b                    0.090    0.004398         0.06   \n",
       "\n",
       "   pl_bmassj  st_dist  st_mass rowupdate st_plx  \n",
       "0       26.2     75.0    0.435                   \n",
       "1       18.3     77.0    0.345                   \n",
       "2       57.1    226.0    0.800                   \n",
       "3        1.0   1200.0    1.400                   "
      ]
     },
     "execution_count": 24,
     "metadata": {},
     "output_type": "execute_result"
    }
   ],
   "source": [
    "dbCunha.head()"
   ]
  },
  {
   "cell_type": "code",
   "execution_count": 25,
   "metadata": {},
   "outputs": [
    {
     "name": "stdout",
     "output_type": "stream",
     "text": [
      "Help on function hh in module gwTools:\n",
      "\n",
      "hh(nn, ee, m1, m2, a, dL)\n",
      "    From Amaro-Seoane et al. 2010, the GW amplitude for GW mode nn in units of\n",
      "    the orbital frequency, eccentricity ee, binary masses m1 and m2, \n",
      "    semi-major axis a, and distance to source dL.  Use SI units.\n",
      "    Returns the GW amplitude for that frequency mode.\n",
      "    Amaro-Seoane et al. Eqn. (9), refs Finn and Thorne 2000.\n",
      "\n",
      "Help on function orbitalFreq in module gwTools:\n",
      "\n",
      "orbitalFreq(m1, m2, a)\n",
      "    Given two masses, m1 and m2, and the semimajor axis a,\n",
      "    return the orbital frequency in Hz from Kepler relations.\n",
      "\n",
      "Help on function hhModes in module gwTools:\n",
      "\n",
      "hhModes(ee, m1, m2, a, dL, freq=0)\n",
      "    From Amaro-Seoane et al. 2010, the GW amplitude for eccentricity ee, \n",
      "    binary masses m1 and m2, semi-major axis a, and distance to source dL.  Use SI units.\n",
      "    If freq is zero, use Kepler and a to find the orbital period.\n",
      "    Returns the tuple of (modes, GW amplitudes for those frequency modes).\n",
      "    Amaro-Seoane et al. Eqn. (9), refs Finn and Thorne 2000.\n",
      "\n"
     ]
    }
   ],
   "source": [
    "help(gwt.hh)  # Start using the gwt.hh function below!!!\n",
    "help(gwt.orbitalFreq)\n",
    "help(gwt.hhModes)  # Use this one!!!"
   ]
  },
  {
   "cell_type": "code",
   "execution_count": 26,
   "metadata": {},
   "outputs": [],
   "source": [
    "# Actually append n_min, n_max, numpy array of GW strains h.\n",
    "# In the Mathematica JustStrainPlots.nb, about 40% down, calc hhVfreq first time.\n",
    "\n",
    "hhmodesCol = []  # Setup a list of the hhmodes that will be appended to the dataframe.\n",
    "modesCol = []    # The modes set acually used for the calculation, int(modeMin) to int(modeMax)+1\n",
    "freq0Col = []    # Collect the orbital frequency that was used.\n",
    "\n",
    "myDbase = dbCunha\n",
    "\n",
    "for irow in range(len(myDbase)):\n",
    "    # Calculate the SI parameters needed by the strains and the strain \"front coefficient.\"\n",
    "    \n",
    "    orbeccen = myDbase['pl_orbeccen'].values[irow]\n",
    "    modeMax = gwt.aNmax( orbeccen )  # The \"max\" mode number where g(n,e) returns to 1/20th its peak value.\n",
    "    modeMin = gwt.aNmin( orbeccen )  # Either 1 for e>0 or 2 for e=0.\n",
    "    #\n",
    "    m1 = myDbase['pl_bmassj'].values[irow]*massJ\n",
    "    m2 = myDbase['st_mass'].values[irow]*massSun\n",
    "    smax = myDbase['pl_orbsmax'].values[irow]*au\n",
    "    dL = myDbase['st_dist'].values[irow]*pc\n",
    "    freq0 = 1.0/( myDbase['pl_orbper'].values[irow]*secsDay )\n",
    "    # Amaro-Seoane Eqn. (9)...common terms.\n",
    "    #frontCoeff = np.power(bigG,5/3.)/cee**4 * 2 * np.sqrt(32/5.) * np.power( gwt.chirpM(m1,m2), 5/3.)*\\\n",
    "    #np.power((2*np.pi*freq0), 2/3.)/dL\n",
    "    #if irow > 6 and irow < 10:\n",
    "    #    print('irow is ', irow, ' ,frontCoeff is ', frontCoeff, ' pl_orbeccen is ', orbeccen)\n",
    "\n",
    "    # Now loop over the GW modes and calc the dim-less strain and the modes used.\n",
    "    #hhmodes = [ frontCoeff* np.sqrt( gwt.ggSimp(uu, orbeccen) )/uu for uu in range(int(modeMin), int(modeMax)+1)  ]\n",
    "    #modes = [ uu for uu in range(int(modeMin), int(modeMax)+1)  ]\n",
    "    \n",
    "    (modes, hhmodes) = gwt.hhModes(orbeccen, m1, m2, smax, dL, freq0)\n",
    "    \n",
    "    # Append to the list.\n",
    "    hhmodesCol.append( hhmodes )\n",
    "    modesCol.append( modes )\n",
    "    freq0Col.append( freq0 )\n"
   ]
  },
  {
   "cell_type": "code",
   "execution_count": 27,
   "metadata": {},
   "outputs": [
    {
     "name": "stdout",
     "output_type": "stream",
     "text": [
      "1\n",
      "[1.1383348323540186e-22]\n",
      "[2]\n"
     ]
    }
   ],
   "source": [
    "# Check there is stuff in there.\n",
    "print( len(hhmodesCol[0] ) )\n",
    "print( hhmodesCol[0] )\n",
    "print( modesCol[0] )"
   ]
  },
  {
   "cell_type": "code",
   "execution_count": 28,
   "metadata": {},
   "outputs": [],
   "source": [
    "#Append the hhmodesCol to the dataframe, for ease of getting at the other attributes.\n",
    "myDbase = dbCunha\n",
    "myDbase['freq0'] = freq0Col\n",
    "myDbase['modes'] = modesCol\n",
    "myDbase['hhmodes'] = hhmodesCol"
   ]
  },
  {
   "cell_type": "code",
   "execution_count": 29,
   "metadata": {},
   "outputs": [
    {
     "data": {
      "text/html": [
       "<div>\n",
       "<style scoped>\n",
       "    .dataframe tbody tr th:only-of-type {\n",
       "        vertical-align: middle;\n",
       "    }\n",
       "\n",
       "    .dataframe tbody tr th {\n",
       "        vertical-align: top;\n",
       "    }\n",
       "\n",
       "    .dataframe thead th {\n",
       "        text-align: right;\n",
       "    }\n",
       "</style>\n",
       "<table border=\"1\" class=\"dataframe\">\n",
       "  <thead>\n",
       "    <tr style=\"text-align: right;\">\n",
       "      <th></th>\n",
       "      <th>pl_hostname</th>\n",
       "      <th>pl_letter</th>\n",
       "      <th>pl_discmethod</th>\n",
       "      <th>pl_orbper</th>\n",
       "      <th>pl_orbsmax</th>\n",
       "      <th>pl_orbeccen</th>\n",
       "      <th>pl_bmassj</th>\n",
       "      <th>st_dist</th>\n",
       "      <th>st_mass</th>\n",
       "      <th>rowupdate</th>\n",
       "      <th>st_plx</th>\n",
       "      <th>freq0</th>\n",
       "      <th>modes</th>\n",
       "      <th>hhmodes</th>\n",
       "    </tr>\n",
       "  </thead>\n",
       "  <tbody>\n",
       "    <tr>\n",
       "      <th>0</th>\n",
       "      <td>GP Com</td>\n",
       "      <td>b</td>\n",
       "      <td></td>\n",
       "      <td>0.032</td>\n",
       "      <td>0.001524</td>\n",
       "      <td>0.00</td>\n",
       "      <td>26.2</td>\n",
       "      <td>75.0</td>\n",
       "      <td>0.435</td>\n",
       "      <td></td>\n",
       "      <td></td>\n",
       "      <td>0.000362</td>\n",
       "      <td>[2]</td>\n",
       "      <td>[1.1383348323540186e-22]</td>\n",
       "    </tr>\n",
       "    <tr>\n",
       "      <th>1</th>\n",
       "      <td>V396 Hya</td>\n",
       "      <td>b</td>\n",
       "      <td></td>\n",
       "      <td>0.045</td>\n",
       "      <td>0.001765</td>\n",
       "      <td>0.00</td>\n",
       "      <td>18.3</td>\n",
       "      <td>77.0</td>\n",
       "      <td>0.345</td>\n",
       "      <td></td>\n",
       "      <td></td>\n",
       "      <td>0.000257</td>\n",
       "      <td>[2]</td>\n",
       "      <td>[5.29798112248615e-23]</td>\n",
       "    </tr>\n",
       "    <tr>\n",
       "      <th>2</th>\n",
       "      <td>J1433</td>\n",
       "      <td>b</td>\n",
       "      <td></td>\n",
       "      <td>0.054</td>\n",
       "      <td>0.002654</td>\n",
       "      <td>0.00</td>\n",
       "      <td>57.1</td>\n",
       "      <td>226.0</td>\n",
       "      <td>0.800</td>\n",
       "      <td></td>\n",
       "      <td></td>\n",
       "      <td>0.000214</td>\n",
       "      <td>[2]</td>\n",
       "      <td>[8.689877324241371e-23]</td>\n",
       "    </tr>\n",
       "    <tr>\n",
       "      <th>3</th>\n",
       "      <td>PSR J1719-14</td>\n",
       "      <td>b</td>\n",
       "      <td></td>\n",
       "      <td>0.090</td>\n",
       "      <td>0.004398</td>\n",
       "      <td>0.06</td>\n",
       "      <td>1.0</td>\n",
       "      <td>1200.0</td>\n",
       "      <td>1.400</td>\n",
       "      <td></td>\n",
       "      <td></td>\n",
       "      <td>0.000129</td>\n",
       "      <td>[1, 2, 3]</td>\n",
       "      <td>[1.408632923620721e-26, 2.9988366754552183e-25...</td>\n",
       "    </tr>\n",
       "  </tbody>\n",
       "</table>\n",
       "</div>"
      ],
      "text/plain": [
       "    pl_hostname pl_letter pl_discmethod  pl_orbper  pl_orbsmax  pl_orbeccen  \\\n",
       "0        GP Com         b                    0.032    0.001524         0.00   \n",
       "1      V396 Hya         b                    0.045    0.001765         0.00   \n",
       "2         J1433         b                    0.054    0.002654         0.00   \n",
       "3  PSR J1719-14         b                    0.090    0.004398         0.06   \n",
       "\n",
       "   pl_bmassj  st_dist  st_mass rowupdate st_plx     freq0      modes  \\\n",
       "0       26.2     75.0    0.435                   0.000362        [2]   \n",
       "1       18.3     77.0    0.345                   0.000257        [2]   \n",
       "2       57.1    226.0    0.800                   0.000214        [2]   \n",
       "3        1.0   1200.0    1.400                   0.000129  [1, 2, 3]   \n",
       "\n",
       "                                             hhmodes  \n",
       "0                           [1.1383348323540186e-22]  \n",
       "1                             [5.29798112248615e-23]  \n",
       "2                            [8.689877324241371e-23]  \n",
       "3  [1.408632923620721e-26, 2.9988366754552183e-25...  "
      ]
     },
     "execution_count": 29,
     "metadata": {},
     "output_type": "execute_result"
    }
   ],
   "source": [
    "dbCunha.head()"
   ]
  },
  {
   "cell_type": "code",
   "execution_count": 44,
   "metadata": {},
   "outputs": [
    {
     "name": "stdout",
     "output_type": "stream",
     "text": [
      "PSR J1719-14 and modes [1, 2, 3]\n",
      " and times orb freq [0.0001286 0.0002572 0.0003858]\n",
      "[1.40863292e-26 2.99883668e-25 4.05027934e-26]\n"
     ]
    },
    {
     "data": {
      "text/plain": [
       "Text(0.5,1,'h modes for exops in Cunha Et Al. 2018')"
      ]
     },
     "execution_count": 44,
     "metadata": {},
     "output_type": "execute_result"
    },
    {
     "data": {
      "image/png": "[encoded data removed]",
      "text/plain": [
       "<matplotlib.figure.Figure at 0x7f238dd23588>"
      ]
     },
     "metadata": {},
     "output_type": "display_data"
    }
   ],
   "source": [
    "# Plot these on hh dimless strain plot.\n",
    "fig, ax = plt.subplots( figsize=(10,8) )\n",
    "\n",
    "for irow in range( len(myDbase) ):\n",
    "    \n",
    "    freq0 = 1.0/( myDbase['pl_orbper'].values[irow]*secsDay )\n",
    "    xx = np.array( myDbase['modes'].values[irow] ) * freq0\n",
    "    #  Needed the np.array() or saw an error that my list was not AN integer!!\n",
    "    yy = np.array( myDbase['hhmodes'].values[irow] )\n",
    "\n",
    "    # Plot xx and yy for ONE planet with crazy high eccentricity.\n",
    "    acolor = 'ko'\n",
    "    if myDbase['pl_hostname'].values[irow] == 'PSR J1719-14':\n",
    "        acolor = 'ro'\n",
    "        print('PSR J1719-14 and modes {}\\n and times orb freq {}'.format( myDbase['modes'].values[irow], \n",
    "                                                                           xx ) )\n",
    "        print('{}'.format( yy ) )\n",
    "    ax.loglog(xx, yy, acolor)\n",
    "\n",
    "plt.grid(which='both', axis='both')\n",
    "if 1:\n",
    "    plt.xlim([1e-5, 1e0])  # Hz, Cunha et al. Fig 2 \n",
    "    plt.ylim([1e-29, 1e-18])  # dimless strain, Cunha et al. Fig 2\n",
    "if 0:\n",
    "    plt.xlim([1e-5, 1e0]) # Hz, us\n",
    "    plt.ylim([1e-22, 1e-19])  # char strain, sqrt(f*S_n), us, Wong et al. Fig 1\n",
    "plt.xlabel('$f_{GW}$, Hz')\n",
    "plt.ylabel('strain h, dimensionless')\n",
    "plt.title('h modes for exops in Cunha Et Al. 2018')"
   ]
  },
  {
   "cell_type": "markdown",
   "metadata": {},
   "source": [
    "Cornish and Robson 2018 Eqn. 27 for fixed or nearly fixed frequency evolution over the measuring period\n",
    "    $$ h_{BG} = \\frac{8 T^{1/2} (G \\mathcal{M} / c^3 )^{5/3} \\pi^{2/3} f_{in}^{2/3} }{5^{1/2} (D_{L}/c) } $$\n",
    "    "
   ]
  },
  {
   "cell_type": "code",
   "execution_count": null,
   "metadata": {},
   "outputs": [],
   "source": [
    "# Actually append n_min, n_max, numpy array of GW strains h.\n",
    "# In the Mathematica JustStrainPlots.nb, about 40% down, calc hhVfreq first time.\n",
    "\n",
    "hhmodesCol = []  # Setup a list of the hhmodes that will be appended to the dataframe.\n",
    "modesCol = []    # The modes set acually used for the calculation, int(modeMin) to int(modeMax)+1\n",
    "freq0Col = []    # Collect the orbital frequency that was used.\n",
    "\n",
    "myDbase = dbCunha\n",
    "\n",
    "for irow in range(len(myDbase)):\n",
    "    # Calculate the SI parameters needed by the strains and the strain \"front coefficient.\"\n",
    "    \n",
    "    orbeccen = myDbase['pl_orbeccen'].values[irow]\n",
    "    modeMax = gwt.aNmax( orbeccen )  # The \"max\" mode number where g(n,e) returns to 1/20th its peak value.\n",
    "    modeMin = gwt.aNmin( orbeccen )  # Either 1 for e>0 or 2 for e=0.\n",
    "    #\n",
    "    m1 = myDbase['pl_bmassj'].values[irow]*massJ\n",
    "    m2 = myDbase['st_mass'].values[irow]*massSun\n",
    "    smax = myDbase['pl_orbsmax'].values[irow]*au\n",
    "    dL = myDbase['st_dist'].values[irow]*pc\n",
    "    freq0 = 1.0/( myDbase['pl_orbper'].values[irow]*secsDay )\n",
    "    # Amaro-Seoane Eqn. (9)...common terms.\n",
    "    #frontCoeff = np.power(bigG,5/3.)/cee**4 * 2 * np.sqrt(32/5.) * np.power( gwt.chirpM(m1,m2), 5/3.)*\\\n",
    "    #np.power((2*np.pi*freq0), 2/3.)/dL\n",
    "    #if irow > 6 and irow < 10:\n",
    "    #    print('irow is ', irow, ' ,frontCoeff is ', frontCoeff, ' pl_orbeccen is ', orbeccen)\n",
    "\n",
    "    # Now loop over the GW modes and calc the dim-less strain and the modes used.\n",
    "    #hhmodes = [ frontCoeff* np.sqrt( gwt.ggSimp(uu, orbeccen) )/uu for uu in range(int(modeMin), int(modeMax)+1)  ]\n",
    "    #modes = [ uu for uu in range(int(modeMin), int(modeMax)+1)  ]\n",
    "    \n",
    "    (modes, hhmodes) = gwt.hhModes(orbeccen, m1, m2, smax, dL, freq0)\n",
    "    \n",
    "    # Append to the list.\n",
    "    hhmodesCol.append( hhmodes )\n",
    "    modesCol.append( modes )\n",
    "    freq0Col.append( freq0 )\n"
   ]
  },
  {
   "cell_type": "code",
   "execution_count": 45,
   "metadata": {},
   "outputs": [
    {
     "name": "stdout",
     "output_type": "stream",
     "text": [
      "PSR J1719-14 and modes [1, 2, 3]\n",
      " and times orb freq [0.0001286 0.0002572 0.0003858]\n",
      "[1.59742217e-28 4.80938656e-27 7.95549997e-28]\n"
     ]
    },
    {
     "data": {
      "text/plain": [
       "Text(0.5,1,'h modes for exops in Cunha Et Al. 2018')"
      ]
     },
     "execution_count": 45,
     "metadata": {},
     "output_type": "execute_result"
    },
    {
     "data": {
      "image/png": "[encoded data removed]",
      "text/plain": [
       "<matplotlib.figure.Figure at 0x7f238e347cc0>"
      ]
     },
     "metadata": {},
     "output_type": "display_data"
    }
   ],
   "source": [
    "# Plot these on hh dimless strain plot.\n",
    "fig, ax = plt.subplots( figsize=(10,8) )\n",
    "\n",
    "for irow in range( len(myDbase) ):\n",
    "    \n",
    "    freq0 = 1.0/( myDbase['pl_orbper'].values[irow]*secsDay )\n",
    "    xx = np.array( myDbase['modes'].values[irow] ) * freq0\n",
    "    #  Needed the np.array() or saw an error that my list was not AN integer!!\n",
    "    yy = np.array( myDbase['hhmodes'].values[irow] )*np.sqrt( xx )\n",
    "\n",
    "    # Plot xx and yy for ONE planet with crazy high eccentricity.\n",
    "    acolor = 'ko'\n",
    "    if myDbase['pl_hostname'].values[irow] == 'PSR J1719-14':\n",
    "        acolor = 'ro'\n",
    "        print('PSR J1719-14 and modes {}\\n and times orb freq {}'.format( myDbase['modes'].values[irow], \n",
    "                                                                           xx ) )\n",
    "        print('{}'.format( yy ) )\n",
    "    ax.loglog(xx, yy, acolor)\n",
    "\n",
    "plt.grid(which='both', axis='both')\n",
    "if 0:\n",
    "    plt.xlim([1e-5, 1e0])  # Hz, Cunha et al. Fig 2 \n",
    "    plt.ylim([1e-29, 1e-18])  # dimless strain, Cunha et al. Fig 2\n",
    "if 1:\n",
    "    plt.xlim([1e-5, 1e0]) # Hz, us\n",
    "    plt.ylim([1e-22, 1e-19])  # char strain, sqrt(f*S_n), us, Wong et al. Fig 1\n",
    "plt.xlabel('$f_{GW}$, Hz')\n",
    "plt.ylabel('characteristic strain h, sqrt(f h), dimensionless')\n",
    "plt.title('h modes for exops in Cunha Et Al. 2018')"
   ]
  },
  {
   "cell_type": "code",
   "execution_count": 46,
   "metadata": {},
   "outputs": [
    {
     "data": {
      "text/plain": [
       "7944.398781531551"
      ]
     },
     "execution_count": 46,
     "metadata": {},
     "output_type": "execute_result"
    }
   ],
   "source": [
    "np.sqrt( 2.0 * secsYear )"
   ]
  },
  {
   "cell_type": "code",
   "execution_count": null,
   "metadata": {},
   "outputs": [],
   "source": []
  }
 ],
 "metadata": {
  "kernelspec": {
   "display_name": "Python 3",
   "language": "python",
   "name": "python3"
  },
  "language_info": {
   "codemirror_mode": {
    "name": "ipython",
    "version": 3
   },
   "file_extension": ".py",
   "mimetype": "text/x-python",
   "name": "python",
   "nbconvert_exporter": "python",
   "pygments_lexer": "ipython3",
   "version": "3.6.6"
  }
 },
 "nbformat": 4,
 "nbformat_minor": 2
}
